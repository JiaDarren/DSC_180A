{
 "cells": [
  {
   "cell_type": "code",
   "execution_count": 1,
   "metadata": {},
   "outputs": [],
   "source": [
    "import pandas as pd\n",
    "import matplotlib.pyplot as plt\n",
    "import re"
   ]
  },
  {
   "cell_type": "code",
   "execution_count": 2,
   "metadata": {},
   "outputs": [
    {
     "data": {
      "text/html": [
       "<div>\n",
       "<style scoped>\n",
       "    .dataframe tbody tr th:only-of-type {\n",
       "        vertical-align: middle;\n",
       "    }\n",
       "\n",
       "    .dataframe tbody tr th {\n",
       "        vertical-align: top;\n",
       "    }\n",
       "\n",
       "    .dataframe thead th {\n",
       "        text-align: right;\n",
       "    }\n",
       "</style>\n",
       "<table border=\"1\" class=\"dataframe\">\n",
       "  <thead>\n",
       "    <tr style=\"text-align: right;\">\n",
       "      <th></th>\n",
       "      <th>prism_consumer_id</th>\n",
       "      <th>prism_account_id</th>\n",
       "      <th>memo_clean</th>\n",
       "      <th>amount</th>\n",
       "      <th>category_description</th>\n",
       "    </tr>\n",
       "  </thead>\n",
       "  <tbody>\n",
       "    <tr>\n",
       "      <th>0</th>\n",
       "      <td>0</td>\n",
       "      <td>acc_0</td>\n",
       "      <td>Kroger</td>\n",
       "      <td>20.98</td>\n",
       "      <td>GROCERIES</td>\n",
       "    </tr>\n",
       "    <tr>\n",
       "      <th>1</th>\n",
       "      <td>0</td>\n",
       "      <td>acc_0</td>\n",
       "      <td>CASH APP*FREE XXXXXXXXXX CA XX/XX</td>\n",
       "      <td>200.00</td>\n",
       "      <td>GENERAL_MERCHANDISE</td>\n",
       "    </tr>\n",
       "    <tr>\n",
       "      <th>7</th>\n",
       "      <td>0</td>\n",
       "      <td>acc_0</td>\n",
       "      <td>Amazon.com*HXXXWXXQX Amzn.com/bill WA XX/XX</td>\n",
       "      <td>33.20</td>\n",
       "      <td>GENERAL_MERCHANDISE</td>\n",
       "    </tr>\n",
       "    <tr>\n",
       "      <th>9</th>\n",
       "      <td>0</td>\n",
       "      <td>acc_0</td>\n",
       "      <td>Amazon</td>\n",
       "      <td>42.79</td>\n",
       "      <td>GENERAL_MERCHANDISE</td>\n",
       "    </tr>\n",
       "    <tr>\n",
       "      <th>10</th>\n",
       "      <td>0</td>\n",
       "      <td>acc_0</td>\n",
       "      <td>Kroger</td>\n",
       "      <td>36.55</td>\n",
       "      <td>GROCERIES</td>\n",
       "    </tr>\n",
       "  </tbody>\n",
       "</table>\n",
       "</div>"
      ],
      "text/plain": [
       "    prism_consumer_id prism_account_id  \\\n",
       "0                   0            acc_0   \n",
       "1                   0            acc_0   \n",
       "7                   0            acc_0   \n",
       "9                   0            acc_0   \n",
       "10                  0            acc_0   \n",
       "\n",
       "                                     memo_clean  amount category_description  \n",
       "0                                        Kroger   20.98            GROCERIES  \n",
       "1             CASH APP*FREE XXXXXXXXXX CA XX/XX  200.00  GENERAL_MERCHANDISE  \n",
       "7   Amazon.com*HXXXWXXQX Amzn.com/bill WA XX/XX   33.20  GENERAL_MERCHANDISE  \n",
       "9                                        Amazon   42.79  GENERAL_MERCHANDISE  \n",
       "10                                       Kroger   36.55            GROCERIES  "
      ]
     },
     "execution_count": 2,
     "metadata": {},
     "output_type": "execute_result"
    }
   ],
   "source": [
    "df = pd.read_parquet('data/data.pqt')\n",
    "\n",
    "# remove rows where memo is the same as category_description\n",
    "df = df[df[\"memo_clean\"] != df[\"category_description\"]]\n",
    "df.head()"
   ]
  },
  {
   "cell_type": "code",
   "execution_count": 3,
   "metadata": {},
   "outputs": [
    {
     "data": {
      "text/plain": [
       "(1283746, 5)"
      ]
     },
     "execution_count": 3,
     "metadata": {},
     "output_type": "execute_result"
    }
   ],
   "source": [
    "df.shape"
   ]
  },
  {
   "cell_type": "code",
   "execution_count": 4,
   "metadata": {},
   "outputs": [
    {
     "data": {
      "text/html": [
       "<div>\n",
       "<style scoped>\n",
       "    .dataframe tbody tr th:only-of-type {\n",
       "        vertical-align: middle;\n",
       "    }\n",
       "\n",
       "    .dataframe tbody tr th {\n",
       "        vertical-align: top;\n",
       "    }\n",
       "\n",
       "    .dataframe thead th {\n",
       "        text-align: right;\n",
       "    }\n",
       "</style>\n",
       "<table border=\"1\" class=\"dataframe\">\n",
       "  <thead>\n",
       "    <tr style=\"text-align: right;\">\n",
       "      <th></th>\n",
       "      <th>prism_consumer_id</th>\n",
       "      <th>prism_account_id</th>\n",
       "      <th>memo_clean</th>\n",
       "      <th>amount</th>\n",
       "      <th>category_description</th>\n",
       "    </tr>\n",
       "  </thead>\n",
       "  <tbody>\n",
       "    <tr>\n",
       "      <th>0</th>\n",
       "      <td>0</td>\n",
       "      <td>acc_0</td>\n",
       "      <td>KROGER</td>\n",
       "      <td>20.98</td>\n",
       "      <td>GROCERIES</td>\n",
       "    </tr>\n",
       "    <tr>\n",
       "      <th>1</th>\n",
       "      <td>0</td>\n",
       "      <td>acc_0</td>\n",
       "      <td>CASH APP*FREE XXXXXXXXXX CA XX/XX</td>\n",
       "      <td>200.00</td>\n",
       "      <td>GENERAL_MERCHANDISE</td>\n",
       "    </tr>\n",
       "    <tr>\n",
       "      <th>7</th>\n",
       "      <td>0</td>\n",
       "      <td>acc_0</td>\n",
       "      <td>AMAZON.COM*HXXXWXXQX AMZN.COM/BILL WA XX/XX</td>\n",
       "      <td>33.20</td>\n",
       "      <td>GENERAL_MERCHANDISE</td>\n",
       "    </tr>\n",
       "    <tr>\n",
       "      <th>9</th>\n",
       "      <td>0</td>\n",
       "      <td>acc_0</td>\n",
       "      <td>AMAZON</td>\n",
       "      <td>42.79</td>\n",
       "      <td>GENERAL_MERCHANDISE</td>\n",
       "    </tr>\n",
       "    <tr>\n",
       "      <th>10</th>\n",
       "      <td>0</td>\n",
       "      <td>acc_0</td>\n",
       "      <td>KROGER</td>\n",
       "      <td>36.55</td>\n",
       "      <td>GROCERIES</td>\n",
       "    </tr>\n",
       "  </tbody>\n",
       "</table>\n",
       "</div>"
      ],
      "text/plain": [
       "    prism_consumer_id prism_account_id  \\\n",
       "0                   0            acc_0   \n",
       "1                   0            acc_0   \n",
       "7                   0            acc_0   \n",
       "9                   0            acc_0   \n",
       "10                  0            acc_0   \n",
       "\n",
       "                                     memo_clean  amount category_description  \n",
       "0                                        KROGER   20.98            GROCERIES  \n",
       "1             CASH APP*FREE XXXXXXXXXX CA XX/XX  200.00  GENERAL_MERCHANDISE  \n",
       "7   AMAZON.COM*HXXXWXXQX AMZN.COM/BILL WA XX/XX   33.20  GENERAL_MERCHANDISE  \n",
       "9                                        AMAZON   42.79  GENERAL_MERCHANDISE  \n",
       "10                                       KROGER   36.55            GROCERIES  "
      ]
     },
     "execution_count": 4,
     "metadata": {},
     "output_type": "execute_result"
    }
   ],
   "source": [
    "df[\"memo_clean\"] = df[\"memo_clean\"].str.upper()\n",
    "df.head()"
   ]
  },
  {
   "cell_type": "code",
   "execution_count": 5,
   "metadata": {},
   "outputs": [
    {
     "data": {
      "text/plain": [
       "0                                         KROGER\n",
       "1                               CASH APP*FREE CA\n",
       "7          AMAZON COM*HXXXWXXQX AMZN COM BILL WA\n",
       "9                                         AMAZON\n",
       "10                                        KROGER\n",
       "                           ...                  \n",
       "5200974                                    APPLE\n",
       "5200990                   HOME DEPOT CREDIT CARD\n",
       "5201000                                    APPLE\n",
       "5201005                                   MACY S\n",
       "5201010                   HOME DEPOT CREDIT CARD\n",
       "Name: memo_clean, Length: 1283746, dtype: object"
      ]
     },
     "execution_count": 5,
     "metadata": {},
     "output_type": "execute_result"
    }
   ],
   "source": [
    "def get_text(text):\n",
    "    return \" \".join(re.findall(r\"(?!\\W|X)(\\w+\\*\\w+|\\w+)\", text))\n",
    "    # return \" \".join(re.findall(\"(?!\\s|X)\\w+|(\\*\\w)|\\s{1}\", text))\n",
    "upper_memos = df[\"memo_clean\"].apply(get_text)\n",
    "upper_memos"
   ]
  },
  {
   "cell_type": "code",
   "execution_count": 6,
   "metadata": {},
   "outputs": [
    {
     "data": {
      "text/plain": [
       "0                          KROGER\n",
       "1              CASH APP * FREE CA\n",
       "7                AMAZON * AMZN WA\n",
       "9                          AMAZON\n",
       "10                         KROGER\n",
       "                    ...          \n",
       "5200974                     APPLE\n",
       "5200990    HOME DEPOT CREDIT CARD\n",
       "5201000                     APPLE\n",
       "5201005                     MACYS\n",
       "5201010    HOME DEPOT CREDIT CARD\n",
       "Name: memo_clean, Length: 1283746, dtype: object"
      ]
     },
     "execution_count": 6,
     "metadata": {},
     "output_type": "execute_result"
    }
   ],
   "source": [
    "def get_text_alt(text):\n",
    "    text = \"\".join(re.findall(r\"(?!(?!\\*|\\.|\\s|-)\\W).\", text))\n",
    "    return \" \".join(re.findall(r\"\\b(?!COM|X{2,}|\\w+X{3,})\\w+|\\*\\b\", text))\n",
    "alt_upper_memos = df[\"memo_clean\"].apply(get_text_alt)\n",
    "alt_upper_memos"
   ]
  },
  {
   "cell_type": "code",
   "execution_count": 7,
   "metadata": {},
   "outputs": [
    {
     "data": {
      "text/plain": [
       "1          CASH APP *\n",
       "7            AMAZON *\n",
       "24         CASH APP *\n",
       "30         CASH APP *\n",
       "35         CASH APP *\n",
       "              ...    \n",
       "5197087      AMAZON *\n",
       "5197094      AMAZON *\n",
       "5197143         DNH *\n",
       "5197158         EIG *\n",
       "5197200         DNH *\n",
       "Name: memo_clean, Length: 163608, dtype: object"
      ]
     },
     "execution_count": 7,
     "metadata": {},
     "output_type": "execute_result"
    }
   ],
   "source": [
    "def test(text):\n",
    "    return \" \".join(re.findall(\".*\\*\", text))\n",
    "\n",
    "star_memos = alt_upper_memos.apply(test)\n",
    "star_memos = star_memos[star_memos != \"\"]\n",
    "star_memos"
   ]
  },
  {
   "cell_type": "code",
   "execution_count": 8,
   "metadata": {},
   "outputs": [
    {
     "data": {
      "text/plain": [
       "(array(['CASH APP *', 'AMAZON *', 'AMZN DIGITAL *', ...,\n",
       "        'EBAY INCXQULXKLL PAYMENTS *', 'CASH APP * DANNI *', 'MVQ *'],\n",
       "       dtype=object),\n",
       " 5936)"
      ]
     },
     "execution_count": 8,
     "metadata": {},
     "output_type": "execute_result"
    }
   ],
   "source": [
    "star_memos.unique(), star_memos.nunique()"
   ]
  },
  {
   "cell_type": "code",
   "execution_count": 9,
   "metadata": {},
   "outputs": [],
   "source": [
    "with open('memos/alt_star_memos.txt', 'w') as f:\n",
    "    for memo in star_memos.unique():\n",
    "        f.write(memo + \"\\n\")"
   ]
  },
  {
   "cell_type": "code",
   "execution_count": 10,
   "metadata": {},
   "outputs": [
    {
     "data": {
      "text/plain": [
       "0                                          KROGER\n",
       "1               CASH APP*FREE XXXXXXXXXX CA XX/XX\n",
       "7     AMAZON.COM*HXXXWXXQX AMZN.COM/BILL WA XX/XX\n",
       "9                                          AMAZON\n",
       "10                                         KROGER\n",
       "Name: memo_clean, dtype: object"
      ]
     },
     "execution_count": 10,
     "metadata": {},
     "output_type": "execute_result"
    }
   ],
   "source": [
    "df[\"memo_clean\"].head()"
   ]
  },
  {
   "cell_type": "code",
   "execution_count": 11,
   "metadata": {},
   "outputs": [
    {
     "data": {
      "text/plain": [
       "1371                             POS PURCHASE UNITED DAIRY F\n",
       "1372                             POS PURCHASE UNITED DAIRY F\n",
       "1374                                 POS PURCHASE DOLLARTREE\n",
       "1380                             POS PURCHASE DILLONVALE IGA\n",
       "1407                             POS PURCHASE DILLONVALE IGA\n",
       "                                 ...                        \n",
       "5178142     POS DEBIT DDA WALMART POS DEB BENTONVILLEAR CARD\n",
       "5178143     POS DEBIT DDA WALMART POS DEB BENTONVILLEAR CARD\n",
       "5178145    POS RECURRING DEBIT DDA DBT CRD FSP * GRAPE CR...\n",
       "5178146            POS ATM DEBIT DBT CRD APPLE CASH SEN CARD\n",
       "5178152           POS RECURRING DEBIT DDA DBT CRD APPLE CARD\n",
       "Name: memo_clean, Length: 78747, dtype: object"
      ]
     },
     "execution_count": 11,
     "metadata": {},
     "output_type": "execute_result"
    }
   ],
   "source": [
    "POS_memos = alt_upper_memos.apply(lambda text: \"\".join(re.findall(r\"POS\\s.+\", text)))\n",
    "POS_memos = POS_memos[POS_memos != \"\"]\n",
    "POS_memos"
   ]
  },
  {
   "cell_type": "code",
   "execution_count": 12,
   "metadata": {},
   "outputs": [
    {
     "data": {
      "text/html": [
       "<div>\n",
       "<style scoped>\n",
       "    .dataframe tbody tr th:only-of-type {\n",
       "        vertical-align: middle;\n",
       "    }\n",
       "\n",
       "    .dataframe tbody tr th {\n",
       "        vertical-align: top;\n",
       "    }\n",
       "\n",
       "    .dataframe thead th {\n",
       "        text-align: right;\n",
       "    }\n",
       "</style>\n",
       "<table border=\"1\" class=\"dataframe\">\n",
       "  <thead>\n",
       "    <tr style=\"text-align: right;\">\n",
       "      <th></th>\n",
       "      <th>prism_consumer_id</th>\n",
       "      <th>prism_account_id</th>\n",
       "      <th>memo_clean</th>\n",
       "      <th>amount</th>\n",
       "    </tr>\n",
       "    <tr>\n",
       "      <th>category_description</th>\n",
       "      <th></th>\n",
       "      <th></th>\n",
       "      <th></th>\n",
       "      <th></th>\n",
       "    </tr>\n",
       "  </thead>\n",
       "  <tbody>\n",
       "    <tr>\n",
       "      <th>EDUCATION</th>\n",
       "      <td>219</td>\n",
       "      <td>219</td>\n",
       "      <td>219</td>\n",
       "      <td>219</td>\n",
       "    </tr>\n",
       "    <tr>\n",
       "      <th>FOOD_AND_BEVERAGES</th>\n",
       "      <td>26532</td>\n",
       "      <td>26532</td>\n",
       "      <td>26532</td>\n",
       "      <td>26532</td>\n",
       "    </tr>\n",
       "    <tr>\n",
       "      <th>GENERAL_MERCHANDISE</th>\n",
       "      <td>34685</td>\n",
       "      <td>34685</td>\n",
       "      <td>34685</td>\n",
       "      <td>34685</td>\n",
       "    </tr>\n",
       "    <tr>\n",
       "      <th>GROCERIES</th>\n",
       "      <td>14610</td>\n",
       "      <td>14610</td>\n",
       "      <td>14610</td>\n",
       "      <td>14610</td>\n",
       "    </tr>\n",
       "    <tr>\n",
       "      <th>OVERDRAFT</th>\n",
       "      <td>6</td>\n",
       "      <td>6</td>\n",
       "      <td>6</td>\n",
       "      <td>6</td>\n",
       "    </tr>\n",
       "    <tr>\n",
       "      <th>PETS</th>\n",
       "      <td>547</td>\n",
       "      <td>547</td>\n",
       "      <td>547</td>\n",
       "      <td>547</td>\n",
       "    </tr>\n",
       "    <tr>\n",
       "      <th>RENT</th>\n",
       "      <td>57</td>\n",
       "      <td>57</td>\n",
       "      <td>57</td>\n",
       "      <td>57</td>\n",
       "    </tr>\n",
       "    <tr>\n",
       "      <th>TRAVEL</th>\n",
       "      <td>2091</td>\n",
       "      <td>2091</td>\n",
       "      <td>2091</td>\n",
       "      <td>2091</td>\n",
       "    </tr>\n",
       "  </tbody>\n",
       "</table>\n",
       "</div>"
      ],
      "text/plain": [
       "                      prism_consumer_id  prism_account_id  memo_clean  amount\n",
       "category_description                                                         \n",
       "EDUCATION                           219               219         219     219\n",
       "FOOD_AND_BEVERAGES                26532             26532       26532   26532\n",
       "GENERAL_MERCHANDISE               34685             34685       34685   34685\n",
       "GROCERIES                         14610             14610       14610   14610\n",
       "OVERDRAFT                             6                 6           6       6\n",
       "PETS                                547               547         547     547\n",
       "RENT                                 57                57          57      57\n",
       "TRAVEL                             2091              2091        2091    2091"
      ]
     },
     "execution_count": 12,
     "metadata": {},
     "output_type": "execute_result"
    }
   ],
   "source": [
    "df.loc[POS_memos.index].groupby(\"category_description\").count()"
   ]
  },
  {
   "cell_type": "code",
   "execution_count": 13,
   "metadata": {},
   "outputs": [
    {
     "data": {
      "text/html": [
       "<div>\n",
       "<style scoped>\n",
       "    .dataframe tbody tr th:only-of-type {\n",
       "        vertical-align: middle;\n",
       "    }\n",
       "\n",
       "    .dataframe tbody tr th {\n",
       "        vertical-align: top;\n",
       "    }\n",
       "\n",
       "    .dataframe thead th {\n",
       "        text-align: right;\n",
       "    }\n",
       "</style>\n",
       "<table border=\"1\" class=\"dataframe\">\n",
       "  <thead>\n",
       "    <tr style=\"text-align: right;\">\n",
       "      <th></th>\n",
       "      <th>prism_consumer_id</th>\n",
       "      <th>prism_account_id</th>\n",
       "      <th>memo_clean</th>\n",
       "      <th>amount</th>\n",
       "      <th>category_description</th>\n",
       "    </tr>\n",
       "  </thead>\n",
       "  <tbody>\n",
       "    <tr>\n",
       "      <th>0</th>\n",
       "      <td>0</td>\n",
       "      <td>acc_0</td>\n",
       "      <td>KROGER</td>\n",
       "      <td>20.98</td>\n",
       "      <td>GROCERIES</td>\n",
       "    </tr>\n",
       "    <tr>\n",
       "      <th>1</th>\n",
       "      <td>0</td>\n",
       "      <td>acc_0</td>\n",
       "      <td>CASH APP * FREE CA</td>\n",
       "      <td>200.00</td>\n",
       "      <td>GENERAL_MERCHANDISE</td>\n",
       "    </tr>\n",
       "    <tr>\n",
       "      <th>7</th>\n",
       "      <td>0</td>\n",
       "      <td>acc_0</td>\n",
       "      <td>AMAZON * AMZN WA</td>\n",
       "      <td>33.20</td>\n",
       "      <td>GENERAL_MERCHANDISE</td>\n",
       "    </tr>\n",
       "    <tr>\n",
       "      <th>9</th>\n",
       "      <td>0</td>\n",
       "      <td>acc_0</td>\n",
       "      <td>AMAZON</td>\n",
       "      <td>42.79</td>\n",
       "      <td>GENERAL_MERCHANDISE</td>\n",
       "    </tr>\n",
       "    <tr>\n",
       "      <th>10</th>\n",
       "      <td>0</td>\n",
       "      <td>acc_0</td>\n",
       "      <td>KROGER</td>\n",
       "      <td>36.55</td>\n",
       "      <td>GROCERIES</td>\n",
       "    </tr>\n",
       "  </tbody>\n",
       "</table>\n",
       "</div>"
      ],
      "text/plain": [
       "    prism_consumer_id prism_account_id          memo_clean  amount  \\\n",
       "0                   0            acc_0              KROGER   20.98   \n",
       "1                   0            acc_0  CASH APP * FREE CA  200.00   \n",
       "7                   0            acc_0    AMAZON * AMZN WA   33.20   \n",
       "9                   0            acc_0              AMAZON   42.79   \n",
       "10                  0            acc_0              KROGER   36.55   \n",
       "\n",
       "   category_description  \n",
       "0             GROCERIES  \n",
       "1   GENERAL_MERCHANDISE  \n",
       "7   GENERAL_MERCHANDISE  \n",
       "9   GENERAL_MERCHANDISE  \n",
       "10            GROCERIES  "
      ]
     },
     "execution_count": 13,
     "metadata": {},
     "output_type": "execute_result"
    }
   ],
   "source": [
    "df_clean = df.copy()\n",
    "df_clean[\"memo_clean\"] = alt_upper_memos\n",
    "df_clean.head()"
   ]
  },
  {
   "cell_type": "code",
   "execution_count": 14,
   "metadata": {},
   "outputs": [],
   "source": [
    "# Save cleaned memos to clean_data\n",
    "df_clean.to_parquet(\"data/data_clean.pqt\")"
   ]
  }
 ],
 "metadata": {
  "kernelspec": {
   "display_name": "base",
   "language": "python",
   "name": "python3"
  },
  "language_info": {
   "codemirror_mode": {
    "name": "ipython",
    "version": 3
   },
   "file_extension": ".py",
   "mimetype": "text/x-python",
   "name": "python",
   "nbconvert_exporter": "python",
   "pygments_lexer": "ipython3",
   "version": "3.9.12"
  },
  "orig_nbformat": 4
 },
 "nbformat": 4,
 "nbformat_minor": 2
}
