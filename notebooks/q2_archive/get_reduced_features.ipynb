{
 "cells": [
  {
   "cell_type": "markdown",
   "metadata": {},
   "source": [
    "# Import Libraries"
   ]
  },
  {
   "cell_type": "code",
   "execution_count": 41,
   "metadata": {},
   "outputs": [],
   "source": [
    "import pandas as pd\n",
    "import re\n",
    "import numpy as np"
   ]
  },
  {
   "cell_type": "code",
   "execution_count": 42,
   "metadata": {},
   "outputs": [],
   "source": [
    "DATA_PATH = '../data'\n",
    "OUTPUTS_PATH = '../src/features'"
   ]
  },
  {
   "cell_type": "code",
   "execution_count": 43,
   "metadata": {},
   "outputs": [],
   "source": [
    "# Read scores from eval_feature.py\n",
    "# Split scores into model-specific scores\n",
    "log_reg_scores = []\n",
    "SNN_scores = []\n",
    "for i in range(6):\n",
    "    with open(f\"{OUTPUTS_PATH}/feature_scores_{i}.txt\", \"r\") as f:\n",
    "        feature_scores = list(zip(*eval(f.readline())))\n",
    "        log_reg_scores.append(feature_scores[0])\n",
    "        SNN_scores.append(feature_scores[1])\n",
    "# Get median score from all evaluations\n",
    "log_reg_scores = np.median(log_reg_scores, axis=0)\n",
    "SNN_scores = np.median(SNN_scores, axis=0)"
   ]
  },
  {
   "cell_type": "markdown",
   "metadata": {},
   "source": [
    "# Get top 40 features"
   ]
  },
  {
   "cell_type": "code",
   "execution_count": 44,
   "metadata": {},
   "outputs": [],
   "source": [
    "# Get feature names\n",
    "feature_matrix = pd.read_csv(f'{DATA_PATH}/processed/feature_matrix.csv')\n",
    "feature_names = list(feature_matrix.iloc[:,1:].columns)"
   ]
  },
  {
   "cell_type": "code",
   "execution_count": 45,
   "metadata": {},
   "outputs": [],
   "source": [
    "# Bind feature name with associated score\n",
    "log_reg_scores = dict(zip(feature_names, log_reg_scores))\n",
    "SNN_scores = dict(zip(feature_names, SNN_scores))\n",
    "# Sort based on score\n",
    "sorted_log_reg_scores = sorted(log_reg_scores.items(), key=lambda x: x[1])\n",
    "sorted_SNN_scores = sorted(SNN_scores.items(), key=lambda x: x[1])"
   ]
  },
  {
   "cell_type": "code",
   "execution_count": 46,
   "metadata": {},
   "outputs": [],
   "source": [
    "# Save top 40 features\n",
    "top_log_reg = [name for name,_ in sorted_log_reg_scores[:40]]\n",
    "top_SNN = [name for name,_ in sorted_SNN_scores[:40]]"
   ]
  },
  {
   "cell_type": "markdown",
   "metadata": {},
   "source": [
    "# Create new reduced feature matrices"
   ]
  },
  {
   "cell_type": "code",
   "execution_count": 47,
   "metadata": {},
   "outputs": [],
   "source": [
    "# Get top 40 features\n",
    "log_reg_feature_matrix = feature_matrix[top_log_reg]\n",
    "# Append target to beginning of feature matrix\n",
    "log_reg_feature_matrix.insert(\n",
    "    0, \n",
    "    column='FPF_TARGET',\n",
    "    value=feature_matrix['FPF_TARGET']\n",
    ")\n",
    "# Save feature matrix\n",
    "log_reg_feature_matrix.to_csv(\n",
    "    f'{DATA_PATH}/processed/log_reg_feature_matrix.csv', \n",
    "    index=False\n",
    ")"
   ]
  },
  {
   "cell_type": "code",
   "execution_count": 48,
   "metadata": {},
   "outputs": [],
   "source": [
    "# Get top 40 features\n",
    "SNN_feature_matrix = feature_matrix[top_SNN]\n",
    "# Append target to beginning of feature matrix\n",
    "SNN_feature_matrix.insert(\n",
    "    0, \n",
    "    column='FPF_TARGET',\n",
    "    value=feature_matrix['FPF_TARGET']\n",
    ")\n",
    "# Save feature matrix\n",
    "SNN_feature_matrix.to_csv(\n",
    "    f'{DATA_PATH}/processed/SNN_feature_matrix.csv', \n",
    "    index=False\n",
    ")"
   ]
  }
 ],
 "metadata": {
  "kernelspec": {
   "display_name": "dsc180",
   "language": "python",
   "name": "python3"
  },
  "language_info": {
   "codemirror_mode": {
    "name": "ipython",
    "version": 3
   },
   "file_extension": ".py",
   "mimetype": "text/x-python",
   "name": "python",
   "nbconvert_exporter": "python",
   "pygments_lexer": "ipython3",
   "version": "3.9.12"
  }
 },
 "nbformat": 4,
 "nbformat_minor": 2
}
