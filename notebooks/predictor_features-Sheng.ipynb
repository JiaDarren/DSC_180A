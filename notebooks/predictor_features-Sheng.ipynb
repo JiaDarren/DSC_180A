{
 "cells": [
  {
   "cell_type": "code",
   "execution_count": 196,
   "id": "03529917",
   "metadata": {},
   "outputs": [],
   "source": [
    "import pandas as pd\n",
    "import numpy as np\n",
    "import os\n",
    "import seaborn as sns\n",
    "from datetime import datetime"
   ]
  },
  {
   "cell_type": "markdown",
   "id": "d9ad9598",
   "metadata": {},
   "source": [
    "## Import Data"
   ]
  },
  {
   "cell_type": "code",
   "execution_count": 197,
   "id": "cf6ba4ad",
   "metadata": {},
   "outputs": [
    {
     "data": {
      "text/plain": [
       "['q2_acctDF_HOLDOUT_final.pqt',\n",
       " 'q2_outflows_HOLDOUT_2ndhalf_final.pqt',\n",
       " 'q2_inflows_HOLDOUT_final.pqt',\n",
       " 'q2_outflows_2ndhalf_final.pqt',\n",
       " 'q2_consDF_final.pqt',\n",
       " 'q2_consDF_HOLDOUT_notags_final.pqt',\n",
       " 'q2_acctDF_final.pqt',\n",
       " 'q2_inflows_final.pqt',\n",
       " 'q2_outflows_HOLDOUT_1sthalf_final.pqt',\n",
       " 'q2_outflows_1sthalf_final.pqt']"
      ]
     },
     "execution_count": 197,
     "metadata": {},
     "output_type": "execute_result"
    }
   ],
   "source": [
    "# retrieve a list of filenames in the 'q2_data' ending with the extension '.pqt'.\n",
    "parquet_files = [file for file in os.listdir('q2_data') if file.endswith('.pqt')]\n",
    "parquet_files"
   ]
  },
  {
   "cell_type": "code",
   "execution_count": 198,
   "id": "908a1551",
   "metadata": {},
   "outputs": [],
   "source": [
    "# reads multiple pqt files into a dictionary by pandas\n",
    "\n",
    "df = {} #initializes an empty dictionary\n",
    "\n",
    "for i in parquet_files:\n",
    "    \n",
    "    path = 'q2_data/' + i\n",
    "    dataset_name = str(i[:-4])\n",
    "    dataset = pd.read_parquet(path)\n",
    "    df[dataset_name] = dataset"
   ]
  },
  {
   "cell_type": "code",
   "execution_count": 199,
   "id": "6470667d",
   "metadata": {},
   "outputs": [
    {
     "data": {
      "text/html": [
       "<div>\n",
       "<style scoped>\n",
       "    .dataframe tbody tr th:only-of-type {\n",
       "        vertical-align: middle;\n",
       "    }\n",
       "\n",
       "    .dataframe tbody tr th {\n",
       "        vertical-align: top;\n",
       "    }\n",
       "\n",
       "    .dataframe thead th {\n",
       "        text-align: right;\n",
       "    }\n",
       "</style>\n",
       "<table border=\"1\" class=\"dataframe\">\n",
       "  <thead>\n",
       "    <tr style=\"text-align: right;\">\n",
       "      <th></th>\n",
       "      <th>prism_consumer_id</th>\n",
       "      <th>evaluation_date</th>\n",
       "      <th>APPROVED</th>\n",
       "      <th>FPF_TARGET</th>\n",
       "    </tr>\n",
       "  </thead>\n",
       "  <tbody>\n",
       "    <tr>\n",
       "      <th>0</th>\n",
       "      <td>658</td>\n",
       "      <td>2022-06-24</td>\n",
       "      <td>1</td>\n",
       "      <td>0.0</td>\n",
       "    </tr>\n",
       "    <tr>\n",
       "      <th>1</th>\n",
       "      <td>539</td>\n",
       "      <td>2023-05-10</td>\n",
       "      <td>1</td>\n",
       "      <td>0.0</td>\n",
       "    </tr>\n",
       "    <tr>\n",
       "      <th>2</th>\n",
       "      <td>540</td>\n",
       "      <td>2021-12-21</td>\n",
       "      <td>1</td>\n",
       "      <td>0.0</td>\n",
       "    </tr>\n",
       "    <tr>\n",
       "      <th>3</th>\n",
       "      <td>787</td>\n",
       "      <td>2022-06-22</td>\n",
       "      <td>1</td>\n",
       "      <td>0.0</td>\n",
       "    </tr>\n",
       "    <tr>\n",
       "      <th>4</th>\n",
       "      <td>1141</td>\n",
       "      <td>2022-07-08</td>\n",
       "      <td>1</td>\n",
       "      <td>0.0</td>\n",
       "    </tr>\n",
       "  </tbody>\n",
       "</table>\n",
       "</div>"
      ],
      "text/plain": [
       "   prism_consumer_id evaluation_date  APPROVED  FPF_TARGET\n",
       "0                658      2022-06-24         1         0.0\n",
       "1                539      2023-05-10         1         0.0\n",
       "2                540      2021-12-21         1         0.0\n",
       "3                787      2022-06-22         1         0.0\n",
       "4               1141      2022-07-08         1         0.0"
      ]
     },
     "execution_count": 199,
     "metadata": {},
     "output_type": "execute_result"
    }
   ],
   "source": [
    "df['q2_consDF_final'].head()"
   ]
  },
  {
   "cell_type": "code",
   "execution_count": 200,
   "id": "6f3ed87b",
   "metadata": {},
   "outputs": [
    {
     "data": {
      "text/html": [
       "<div>\n",
       "<style scoped>\n",
       "    .dataframe tbody tr th:only-of-type {\n",
       "        vertical-align: middle;\n",
       "    }\n",
       "\n",
       "    .dataframe tbody tr th {\n",
       "        vertical-align: top;\n",
       "    }\n",
       "\n",
       "    .dataframe thead th {\n",
       "        text-align: right;\n",
       "    }\n",
       "</style>\n",
       "<table border=\"1\" class=\"dataframe\">\n",
       "  <thead>\n",
       "    <tr style=\"text-align: right;\">\n",
       "      <th></th>\n",
       "      <th>prism_consumer_id</th>\n",
       "      <th>prism_account_id</th>\n",
       "      <th>memo_clean</th>\n",
       "      <th>amount</th>\n",
       "      <th>posted_date</th>\n",
       "      <th>category_description</th>\n",
       "    </tr>\n",
       "  </thead>\n",
       "  <tbody>\n",
       "    <tr>\n",
       "      <th>0</th>\n",
       "      <td>0</td>\n",
       "      <td>acc_0</td>\n",
       "      <td>TRANSFER FROM CHK XXXXXXXXX</td>\n",
       "      <td>25.00</td>\n",
       "      <td>2022-05-04</td>\n",
       "      <td>SELF_TRANSFER</td>\n",
       "    </tr>\n",
       "    <tr>\n",
       "      <th>1</th>\n",
       "      <td>0</td>\n",
       "      <td>acc_0</td>\n",
       "      <td>TRANSFER FROM CHK XXXXXXXXX</td>\n",
       "      <td>25.00</td>\n",
       "      <td>2023-01-18</td>\n",
       "      <td>SELF_TRANSFER</td>\n",
       "    </tr>\n",
       "    <tr>\n",
       "      <th>2</th>\n",
       "      <td>0</td>\n",
       "      <td>acc_0</td>\n",
       "      <td>TRANSFER FROM CHK XXXXXXXXX</td>\n",
       "      <td>25.00</td>\n",
       "      <td>2023-03-01</td>\n",
       "      <td>SELF_TRANSFER</td>\n",
       "    </tr>\n",
       "    <tr>\n",
       "      <th>3</th>\n",
       "      <td>0</td>\n",
       "      <td>acc_0</td>\n",
       "      <td>INTEREST PAYMENT</td>\n",
       "      <td>0.05</td>\n",
       "      <td>2023-02-28</td>\n",
       "      <td>INVESTMENT_INCOME</td>\n",
       "    </tr>\n",
       "    <tr>\n",
       "      <th>4</th>\n",
       "      <td>0</td>\n",
       "      <td>acc_0</td>\n",
       "      <td>INTEREST PAYMENT</td>\n",
       "      <td>0.07</td>\n",
       "      <td>2023-01-31</td>\n",
       "      <td>INVESTMENT_INCOME</td>\n",
       "    </tr>\n",
       "  </tbody>\n",
       "</table>\n",
       "</div>"
      ],
      "text/plain": [
       "   prism_consumer_id prism_account_id                   memo_clean  amount  \\\n",
       "0                  0            acc_0  TRANSFER FROM CHK XXXXXXXXX   25.00   \n",
       "1                  0            acc_0  TRANSFER FROM CHK XXXXXXXXX   25.00   \n",
       "2                  0            acc_0  TRANSFER FROM CHK XXXXXXXXX   25.00   \n",
       "3                  0            acc_0             INTEREST PAYMENT    0.05   \n",
       "4                  0            acc_0             INTEREST PAYMENT    0.07   \n",
       "\n",
       "  posted_date category_description  \n",
       "0  2022-05-04        SELF_TRANSFER  \n",
       "1  2023-01-18        SELF_TRANSFER  \n",
       "2  2023-03-01        SELF_TRANSFER  \n",
       "3  2023-02-28    INVESTMENT_INCOME  \n",
       "4  2023-01-31    INVESTMENT_INCOME  "
      ]
     },
     "execution_count": 200,
     "metadata": {},
     "output_type": "execute_result"
    }
   ],
   "source": [
    "df['q2_inflows_final'].head()"
   ]
  },
  {
   "cell_type": "markdown",
   "id": "93d5b7ab",
   "metadata": {},
   "source": [
    "## Create Features"
   ]
  },
  {
   "cell_type": "code",
   "execution_count": 202,
   "id": "2d5a5eb0",
   "metadata": {},
   "outputs": [],
   "source": [
    "def consumer_data(consumer_id, end_date):\n",
    "    # Get the target variable(Y) for the specified consumer ID\n",
    "    y = df['q2_consDF_final'][df['q2_consDF_final']['prism_consumer_id']==consumer_id].reset_index()['FPF_TARGET'][0]\n",
    "    \n",
    "    # Get account information for the specified consumer ID\n",
    "    account_info = df['q2_acctDF_final'][df['q2_acctDF_final']['prism_consumer_id']== consumer_id]\n",
    "    \n",
    "    # Get inflow data for the specified consumer ID up to the end date\n",
    "    inflows = df['q2_inflows_final'][(df['q2_inflows_final']['prism_consumer_id']== consumer_id)&(df['q2_inflows_final']['posted_date']<= end_date)].sort_values('posted_date')\n",
    "    \n",
    "    # Concatenate first and second outflows\n",
    "    outflows = pd.concat([df['q2_outflows_1sthalf_final'],df['q2_outflows_2ndhalf_final']])\n",
    "    # Get outflows data for the specified consumer ID up to the end date\n",
    "    outflows = outflows[(outflows['prism_consumer_id']==consumer_id)&(outflows['posted_date']<= end_date)].sort_values('posted_date')\n",
    "    \n",
    "    # Add a 'month' column to the inflow and outflows data\n",
    "    inflows['month'] = [date.strftime(\"%Y-%m\") for date in inflows['posted_date']]\n",
    "    outflows['month'] = [date.strftime(\"%Y-%m\") for date in outflows['posted_date']]\n",
    "    \n",
    "    return (y,account_info,inflows,outflows)"
   ]
  },
  {
   "cell_type": "code",
   "execution_count": 203,
   "id": "b2af7318",
   "metadata": {},
   "outputs": [],
   "source": [
    "def positive_remaining_ratio(inflow_df, outflow_df):\n",
    "    # Group and sum inflow amounts by month\n",
    "    inflow_sum = inflow_df.groupby('month')['amount'].sum().reset_index()\n",
    "    \n",
    "    # Group and sum outflow amounts by month\n",
    "    outflow_sum = outflow_df.groupby('month')['amount'].sum().reset_index()\n",
    "    \n",
    "    # Merge inflow and outflow sums on the 'month' column\n",
    "    merged_df = inflow_sum.merge(outflow_sum, how='left', on='month')\n",
    "    \n",
    "    # Calculate the remaining amount for each month\n",
    "    merged_df['remaining'] = merged_df['amount_x'] - merged_df['amount_y']\n",
    "    \n",
    "    # Determine if the remaining amount is positive for each month\n",
    "    positive_remaining = (merged_df['remaining'] > 0).astype(int)\n",
    "    \n",
    "    # Calculate the ratio of months with positive remaining amounts\n",
    "    positive_remaining_ratio = positive_remaining.mean()\n",
    "    \n",
    "    return positive_remaining_ratio"
   ]
  },
  {
   "cell_type": "code",
   "execution_count": 204,
   "id": "b0762909",
   "metadata": {},
   "outputs": [],
   "source": [
    "def credit_ratio(outflow_df):\n",
    "    # Group by 'month' and 'category_description' and count occurrences\n",
    "    grouped_counts = outflow_df.groupby(['month', 'category_description']).size().reset_index(name='count')\n",
    "    \n",
    "    # Add a 'cumulative_count' column representing the cumulative count for each category\n",
    "    grouped_counts['cumulative_count'] = grouped_counts.groupby('category_description').cumcount() + 1\n",
    "    \n",
    "    # Extract the cumulative count for 'CREDIT_CARD_PAYMENT', or set to 0 if not present\n",
    "    num_credit = grouped_counts[grouped_counts['category_description'] == 'CREDIT_CARD_PAYMENT']['cumulative_count'].tolist()\n",
    "    num_credit = num_credit[-1] if num_credit else 0\n",
    "    \n",
    "    # Extract the cumulative count for 'LOAN', or set to 0 if not present\n",
    "    num_loan = grouped_counts[grouped_counts['category_description'] == 'LOAN']['cumulative_count'].tolist()\n",
    "    num_loan = num_loan[-1] if num_loan else 0\n",
    "    \n",
    "    # Calculate the total number of unique months\n",
    "    num_month = len(set(grouped_counts['month']))\n",
    "    \n",
    "    # Calculate the maximum credit monthly ratio, otherwise return 0\n",
    "    return max(num_credit / num_month, num_loan / num_month) if num_month > 0 else 0\n"
   ]
  },
  {
   "cell_type": "code",
   "execution_count": 205,
   "id": "fbf1185c",
   "metadata": {},
   "outputs": [],
   "source": [
    "def regular_income_ratio(inflow_df):\n",
    "    # Group by 'month' and 'category_description' and count occurrences\n",
    "    grouped_counts = inflow_df.groupby(['month', 'category_description']).size().reset_index(name='count')\n",
    "    \n",
    "    # Add a 'cumulative_count' column representing the cumulative count for each category\n",
    "    grouped_counts['cumulative_count'] = grouped_counts.groupby('category_description').cumcount() + 1\n",
    "    \n",
    "    # Extract the cumulative count for 'PAYCHECK', or set to 0 if not present\n",
    "    num_paycheck = grouped_counts[grouped_counts['category_description'] == 'PAYCHECK']['cumulative_count'].tolist()\n",
    "    num_paycheck = num_paycheck[-1] if num_paycheck else 0\n",
    "    \n",
    "    # Extract the cumulative count for 'PAYCHECK_PLACEHOLDER', or set to 0 if not present\n",
    "    num_paycheck_placeholder = grouped_counts[grouped_counts['category_description'] == 'PAYCHECK_PLACEHOLDER']['cumulative_count'].tolist()\n",
    "    num_paycheck_placeholder = num_paycheck_placeholder[-1] if num_paycheck_placeholder else 0\n",
    "    \n",
    "    # Calculate the total number of unique months in the income data\n",
    "    num_month = len(set(inflow_df['month']))\n",
    "    \n",
    "    # Calculate the maximum monthly ratio of income; otherwise, return 0\n",
    "    return max(num_paycheck_placeholder / num_month, num_paycheck / num_month) if num_month > 0 else 0\n"
   ]
  },
  {
   "cell_type": "code",
   "execution_count": 232,
   "id": "50aebbf6",
   "metadata": {},
   "outputs": [
    {
     "data": {
      "text/html": [
       "<div>\n",
       "<style scoped>\n",
       "    .dataframe tbody tr th:only-of-type {\n",
       "        vertical-align: middle;\n",
       "    }\n",
       "\n",
       "    .dataframe tbody tr th {\n",
       "        vertical-align: top;\n",
       "    }\n",
       "\n",
       "    .dataframe thead th {\n",
       "        text-align: right;\n",
       "    }\n",
       "</style>\n",
       "<table border=\"1\" class=\"dataframe\">\n",
       "  <thead>\n",
       "    <tr style=\"text-align: right;\">\n",
       "      <th></th>\n",
       "      <th>prism_consumer_id</th>\n",
       "      <th>evaluation_date</th>\n",
       "      <th>APPROVED</th>\n",
       "      <th>FPF_TARGET</th>\n",
       "    </tr>\n",
       "  </thead>\n",
       "  <tbody>\n",
       "    <tr>\n",
       "      <th>776</th>\n",
       "      <td>191</td>\n",
       "      <td>2022-10-07</td>\n",
       "      <td>1</td>\n",
       "      <td>0.0</td>\n",
       "    </tr>\n",
       "    <tr>\n",
       "      <th>60</th>\n",
       "      <td>123</td>\n",
       "      <td>2021-07-13</td>\n",
       "      <td>1</td>\n",
       "      <td>0.0</td>\n",
       "    </tr>\n",
       "    <tr>\n",
       "      <th>465</th>\n",
       "      <td>45</td>\n",
       "      <td>2021-12-21</td>\n",
       "      <td>1</td>\n",
       "      <td>0.0</td>\n",
       "    </tr>\n",
       "    <tr>\n",
       "      <th>2196</th>\n",
       "      <td>5367</td>\n",
       "      <td>2022-09-05</td>\n",
       "      <td>1</td>\n",
       "      <td>0.0</td>\n",
       "    </tr>\n",
       "    <tr>\n",
       "      <th>190</th>\n",
       "      <td>23</td>\n",
       "      <td>2022-05-31</td>\n",
       "      <td>1</td>\n",
       "      <td>0.0</td>\n",
       "    </tr>\n",
       "  </tbody>\n",
       "</table>\n",
       "</div>"
      ],
      "text/plain": [
       "      prism_consumer_id evaluation_date  APPROVED  FPF_TARGET\n",
       "776                 191      2022-10-07         1         0.0\n",
       "60                  123      2021-07-13         1         0.0\n",
       "465                  45      2021-12-21         1         0.0\n",
       "2196               5367      2022-09-05         1         0.0\n",
       "190                  23      2022-05-31         1         0.0"
      ]
     },
     "execution_count": 232,
     "metadata": {},
     "output_type": "execute_result"
    }
   ],
   "source": [
    "test_df = df['q2_consDF_final'].sample(n=1000)\n",
    "test_df.head()"
   ]
  },
  {
   "cell_type": "code",
   "execution_count": 233,
   "id": "eedb170a",
   "metadata": {},
   "outputs": [],
   "source": [
    "pos_remain_ratios = []\n",
    "credit_ratios = []\n",
    "income_ratios = []\n",
    "\n",
    "for i, row in test_data.iterrows():\n",
    "    consumer_id, end_date = row['prism_consumer_id'], row['evaluation_date']\n",
    "    y_, c_, inflow_data, outflow_data = consumer_data(consumer_id, end_date)\n",
    "    \n",
    "    # Calculate ratios and append to respective lists\n",
    "    pos_remain_ratio = positive_remaining_ratio(inflow_data, outflow_data)\n",
    "    pos_remain_ratios.append(pos_remain_ratio)\n",
    "    \n",
    "    credit_ratio_val = credit_ratio(outflow_data)\n",
    "    credit_ratios.append(credit_ratio_val)\n",
    "    \n",
    "    income_ratio = regular_income_ratio(inflow_data)\n",
    "    income_ratios.append(income_ratio)\n",
    "    \n",
    "#     print(credit_ratio_val)"
   ]
  },
  {
   "cell_type": "code",
   "execution_count": 234,
   "id": "23c57297",
   "metadata": {},
   "outputs": [],
   "source": [
    "test_df['regular_income_ratios'] = income_ratios\n",
    "test_df['credit_ratios'] = credit_ratios\n",
    "test_df['pos_remain_ratios'] = pos_remain_ratios"
   ]
  },
  {
   "cell_type": "code",
   "execution_count": 235,
   "id": "ae44be68",
   "metadata": {},
   "outputs": [
    {
     "data": {
      "text/html": [
       "<div>\n",
       "<style scoped>\n",
       "    .dataframe tbody tr th:only-of-type {\n",
       "        vertical-align: middle;\n",
       "    }\n",
       "\n",
       "    .dataframe tbody tr th {\n",
       "        vertical-align: top;\n",
       "    }\n",
       "\n",
       "    .dataframe thead th {\n",
       "        text-align: right;\n",
       "    }\n",
       "</style>\n",
       "<table border=\"1\" class=\"dataframe\">\n",
       "  <thead>\n",
       "    <tr style=\"text-align: right;\">\n",
       "      <th></th>\n",
       "      <th>prism_consumer_id</th>\n",
       "      <th>evaluation_date</th>\n",
       "      <th>APPROVED</th>\n",
       "      <th>FPF_TARGET</th>\n",
       "      <th>regular_income_ratios</th>\n",
       "      <th>credit_ratios</th>\n",
       "      <th>pos_remain_ratios</th>\n",
       "    </tr>\n",
       "  </thead>\n",
       "  <tbody>\n",
       "    <tr>\n",
       "      <th>776</th>\n",
       "      <td>191</td>\n",
       "      <td>2022-10-07</td>\n",
       "      <td>1</td>\n",
       "      <td>0.0</td>\n",
       "      <td>1.000000</td>\n",
       "      <td>0.857143</td>\n",
       "      <td>0.571429</td>\n",
       "    </tr>\n",
       "    <tr>\n",
       "      <th>60</th>\n",
       "      <td>123</td>\n",
       "      <td>2021-07-13</td>\n",
       "      <td>1</td>\n",
       "      <td>0.0</td>\n",
       "      <td>1.000000</td>\n",
       "      <td>0.880000</td>\n",
       "      <td>0.480000</td>\n",
       "    </tr>\n",
       "    <tr>\n",
       "      <th>465</th>\n",
       "      <td>45</td>\n",
       "      <td>2021-12-21</td>\n",
       "      <td>1</td>\n",
       "      <td>0.0</td>\n",
       "      <td>0.473684</td>\n",
       "      <td>0.947368</td>\n",
       "      <td>0.368421</td>\n",
       "    </tr>\n",
       "    <tr>\n",
       "      <th>2196</th>\n",
       "      <td>5367</td>\n",
       "      <td>2022-09-05</td>\n",
       "      <td>1</td>\n",
       "      <td>0.0</td>\n",
       "      <td>1.000000</td>\n",
       "      <td>0.833333</td>\n",
       "      <td>0.333333</td>\n",
       "    </tr>\n",
       "    <tr>\n",
       "      <th>190</th>\n",
       "      <td>23</td>\n",
       "      <td>2022-05-31</td>\n",
       "      <td>1</td>\n",
       "      <td>0.0</td>\n",
       "      <td>0.923077</td>\n",
       "      <td>1.000000</td>\n",
       "      <td>0.692308</td>\n",
       "    </tr>\n",
       "  </tbody>\n",
       "</table>\n",
       "</div>"
      ],
      "text/plain": [
       "      prism_consumer_id evaluation_date  APPROVED  FPF_TARGET  \\\n",
       "776                 191      2022-10-07         1         0.0   \n",
       "60                  123      2021-07-13         1         0.0   \n",
       "465                  45      2021-12-21         1         0.0   \n",
       "2196               5367      2022-09-05         1         0.0   \n",
       "190                  23      2022-05-31         1         0.0   \n",
       "\n",
       "      regular_income_ratios  credit_ratios  pos_remain_ratios  \n",
       "776                1.000000       0.857143           0.571429  \n",
       "60                 1.000000       0.880000           0.480000  \n",
       "465                0.473684       0.947368           0.368421  \n",
       "2196               1.000000       0.833333           0.333333  \n",
       "190                0.923077       1.000000           0.692308  "
      ]
     },
     "execution_count": 235,
     "metadata": {},
     "output_type": "execute_result"
    }
   ],
   "source": [
    "test_df.head()"
   ]
  },
  {
   "cell_type": "code",
   "execution_count": 236,
   "id": "bcf1e7db",
   "metadata": {},
   "outputs": [
    {
     "data": {
      "text/plain": [
       "(1000, 7)"
      ]
     },
     "execution_count": 236,
     "metadata": {},
     "output_type": "execute_result"
    }
   ],
   "source": [
    "test_df.shape "
   ]
  },
  {
   "cell_type": "markdown",
   "id": "66d61ae9",
   "metadata": {},
   "source": [
    "Regular Income Ratios: Check whether each customer receives a regular 'PAYCHECK' each month. Calculate the occurrence of 'PAYCHECK' for each month and determine the ratio to assess regularity.\n",
    "\n",
    "Credit Ratios: Examine whether customers consistently repay their credit or loans by analyzing historical credit payments. Calculate the occurrences of 'CREDIT_CARD_PAYMENT' and 'LOAN' each month and determine the ratios to gauge regularity.\n",
    "\n",
    "Positive Remain Ratios: Assess whether each customer maintains a positive cash flow. Calculate monthly inflows and outflows, then use the remaining balance to determine the cash flow.```\n",
    "\n",
    "\n"
   ]
  },
  {
   "cell_type": "markdown",
   "id": "1b00e39b",
   "metadata": {},
   "source": [
    "## Model to Predict"
   ]
  },
  {
   "cell_type": "code",
   "execution_count": 237,
   "id": "3a69fafa",
   "metadata": {},
   "outputs": [
    {
     "name": "stdout",
     "output_type": "stream",
     "text": [
      "Accuracy: 0.83\n"
     ]
    },
    {
     "name": "stderr",
     "output_type": "stream",
     "text": [
      "/Users/jasonzhou/opt/anaconda3/lib/python3.9/site-packages/sklearn/utils/validation.py:623: FutureWarning: is_sparse is deprecated and will be removed in a future version. Check `isinstance(dtype, pd.SparseDtype)` instead.\n",
      "  if not hasattr(array, \"sparse\") and array.dtypes.apply(is_sparse).any():\n",
      "/Users/jasonzhou/opt/anaconda3/lib/python3.9/site-packages/sklearn/utils/validation.py:623: FutureWarning: is_sparse is deprecated and will be removed in a future version. Check `isinstance(dtype, pd.SparseDtype)` instead.\n",
      "  if not hasattr(array, \"sparse\") and array.dtypes.apply(is_sparse).any():\n"
     ]
    }
   ],
   "source": [
    "from sklearn.model_selection import train_test_split\n",
    "from sklearn.linear_model import LogisticRegression\n",
    "from sklearn.metrics import accuracy_score\n",
    "\n",
    "# Assuming your data is stored in a DataFrame called 'df'\n",
    "features = test_df[['regular_income_ratios', 'credit_ratios', 'pos_remain_ratios']]\n",
    "target = test_df['FPF_TARGET']\n",
    "\n",
    "# Split the data into training and testing sets\n",
    "X_train, X_test, y_train, y_test = train_test_split(features, target, test_size=0.2, random_state=42)\n",
    "\n",
    "# Create a Logistic Regression model\n",
    "model = LogisticRegression()\n",
    "\n",
    "# Train the model\n",
    "model.fit(X_train, y_train)\n",
    "\n",
    "# Make predictions on the test set\n",
    "predictions = model.predict(X_test)\n",
    "\n",
    "# Evaluate the accuracy of the model\n",
    "accuracy = accuracy_score(y_test, predictions)\n",
    "print(f\"Accuracy: {accuracy}\")\n"
   ]
  },
  {
   "cell_type": "code",
   "execution_count": 238,
   "id": "1b8a44ea",
   "metadata": {},
   "outputs": [
    {
     "data": {
      "text/html": [
       "<div>\n",
       "<style scoped>\n",
       "    .dataframe tbody tr th:only-of-type {\n",
       "        vertical-align: middle;\n",
       "    }\n",
       "\n",
       "    .dataframe tbody tr th {\n",
       "        vertical-align: top;\n",
       "    }\n",
       "\n",
       "    .dataframe thead th {\n",
       "        text-align: right;\n",
       "    }\n",
       "</style>\n",
       "<table border=\"1\" class=\"dataframe\">\n",
       "  <thead>\n",
       "    <tr style=\"text-align: right;\">\n",
       "      <th></th>\n",
       "      <th>FPF_TARGET</th>\n",
       "      <th>regular_income_ratios</th>\n",
       "      <th>credit_ratios</th>\n",
       "      <th>pos_remain_ratios</th>\n",
       "    </tr>\n",
       "  </thead>\n",
       "  <tbody>\n",
       "    <tr>\n",
       "      <th>FPF_TARGET</th>\n",
       "      <td>1.000000</td>\n",
       "      <td>-0.004267</td>\n",
       "      <td>0.026909</td>\n",
       "      <td>-0.075893</td>\n",
       "    </tr>\n",
       "    <tr>\n",
       "      <th>regular_income_ratios</th>\n",
       "      <td>-0.004267</td>\n",
       "      <td>1.000000</td>\n",
       "      <td>0.167598</td>\n",
       "      <td>0.013484</td>\n",
       "    </tr>\n",
       "    <tr>\n",
       "      <th>credit_ratios</th>\n",
       "      <td>0.026909</td>\n",
       "      <td>0.167598</td>\n",
       "      <td>1.000000</td>\n",
       "      <td>-0.081497</td>\n",
       "    </tr>\n",
       "    <tr>\n",
       "      <th>pos_remain_ratios</th>\n",
       "      <td>-0.075893</td>\n",
       "      <td>0.013484</td>\n",
       "      <td>-0.081497</td>\n",
       "      <td>1.000000</td>\n",
       "    </tr>\n",
       "  </tbody>\n",
       "</table>\n",
       "</div>"
      ],
      "text/plain": [
       "                       FPF_TARGET  regular_income_ratios  credit_ratios  \\\n",
       "FPF_TARGET               1.000000              -0.004267       0.026909   \n",
       "regular_income_ratios   -0.004267               1.000000       0.167598   \n",
       "credit_ratios            0.026909               0.167598       1.000000   \n",
       "pos_remain_ratios       -0.075893               0.013484      -0.081497   \n",
       "\n",
       "                       pos_remain_ratios  \n",
       "FPF_TARGET                     -0.075893  \n",
       "regular_income_ratios           0.013484  \n",
       "credit_ratios                  -0.081497  \n",
       "pos_remain_ratios               1.000000  "
      ]
     },
     "execution_count": 238,
     "metadata": {},
     "output_type": "execute_result"
    }
   ],
   "source": [
    "test_df[['FPF_TARGET', 'regular_income_ratios', 'credit_ratios', 'pos_remain_ratios']].corr()"
   ]
  },
  {
   "cell_type": "markdown",
   "id": "07226574",
   "metadata": {},
   "source": [
    "The highest correlation (in terms of absolute value) with FPF_TARGET is credit_ratios with a correlation of approximately 0.0269. However, it's essential to note that 0.0269 is relatively low, there may a strong linear relationship between the features and 'FPF_TARGET'."
   ]
  },
  {
   "cell_type": "code",
   "execution_count": null,
   "id": "6bea071b",
   "metadata": {},
   "outputs": [],
   "source": []
  }
 ],
 "metadata": {
  "kernelspec": {
   "display_name": "Python 3 (ipykernel)",
   "language": "python",
   "name": "python3"
  },
  "language_info": {
   "codemirror_mode": {
    "name": "ipython",
    "version": 3
   },
   "file_extension": ".py",
   "mimetype": "text/x-python",
   "name": "python",
   "nbconvert_exporter": "python",
   "pygments_lexer": "ipython3",
   "version": "3.9.13"
  }
 },
 "nbformat": 4,
 "nbformat_minor": 5
}
