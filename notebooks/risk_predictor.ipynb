{
 "cells": [
  {
   "cell_type": "markdown",
   "metadata": {},
   "source": [
    "# Import Libraries and Data"
   ]
  },
  {
   "cell_type": "code",
   "execution_count": 193,
   "metadata": {},
   "outputs": [],
   "source": [
    "import pandas as pd\n",
    "import matplotlib.pyplot as plt\n",
    "import re\n",
    "\n",
    "import numpy as np\n",
    "from functools import reduce\n",
    "from sklearn.metrics import confusion_matrix\n",
    "from sklearn.model_selection import train_test_split\n",
    "\n",
    "from sklearn import linear_model\n",
    "import torch\n",
    "import torch.nn as nn\n",
    "from tqdm import tqdm\n",
    "import warnings"
   ]
  },
  {
   "cell_type": "code",
   "execution_count": 75,
   "metadata": {},
   "outputs": [],
   "source": [
    "DATA_PATH = '../data'"
   ]
  },
  {
   "cell_type": "code",
   "execution_count": 200,
   "metadata": {},
   "outputs": [],
   "source": [
    "cons = pd.read_parquet(f'{DATA_PATH}/raw/q2_consDF_final.pqt')\n",
    "acct = pd.read_parquet(f'{DATA_PATH}/raw/q2_acctDF_final.pqt')\n",
    "inflows = pd.read_parquet(f'{DATA_PATH}/raw/q2_inflows_final.pqt')\n",
    "outflows = pd.read_parquet(f'{DATA_PATH}/raw/q2_outflows_final.pqt')"
   ]
  },
  {
   "cell_type": "markdown",
   "metadata": {},
   "source": [
    "# Create Features"
   ]
  },
  {
   "cell_type": "code",
   "execution_count": 201,
   "metadata": {},
   "outputs": [],
   "source": [
    "features = []"
   ]
  },
  {
   "cell_type": "markdown",
   "metadata": {},
   "source": [
    "### Max Balance at time of evaluation\n",
    "The maximum balance a consumer has in any of their accounts at the time of evaluation"
   ]
  },
  {
   "cell_type": "code",
   "execution_count": 202,
   "metadata": {},
   "outputs": [
    {
     "data": {
      "text/html": [
       "<div>\n",
       "<style scoped>\n",
       "    .dataframe tbody tr th:only-of-type {\n",
       "        vertical-align: middle;\n",
       "    }\n",
       "\n",
       "    .dataframe tbody tr th {\n",
       "        vertical-align: top;\n",
       "    }\n",
       "\n",
       "    .dataframe thead th {\n",
       "        text-align: right;\n",
       "    }\n",
       "</style>\n",
       "<table border=\"1\" class=\"dataframe\">\n",
       "  <thead>\n",
       "    <tr style=\"text-align: right;\">\n",
       "      <th></th>\n",
       "      <th>prism_consumer_id</th>\n",
       "      <th>minbalance</th>\n",
       "      <th>maxbalance</th>\n",
       "      <th>stdbalance</th>\n",
       "      <th>maxbalance_date</th>\n",
       "    </tr>\n",
       "  </thead>\n",
       "  <tbody>\n",
       "    <tr>\n",
       "      <th>0</th>\n",
       "      <td>0</td>\n",
       "      <td>6182.60</td>\n",
       "      <td>9907.23</td>\n",
       "      <td>2633.711130</td>\n",
       "      <td>2023-04-13</td>\n",
       "    </tr>\n",
       "    <tr>\n",
       "      <th>1</th>\n",
       "      <td>2</td>\n",
       "      <td>8079.43</td>\n",
       "      <td>17426.83</td>\n",
       "      <td>6609.609926</td>\n",
       "      <td>2022-02-15</td>\n",
       "    </tr>\n",
       "    <tr>\n",
       "      <th>2</th>\n",
       "      <td>4</td>\n",
       "      <td>0.00</td>\n",
       "      <td>4871.39</td>\n",
       "      <td>2644.903088</td>\n",
       "      <td>2021-08-13</td>\n",
       "    </tr>\n",
       "    <tr>\n",
       "      <th>3</th>\n",
       "      <td>7</td>\n",
       "      <td>517.95</td>\n",
       "      <td>7071.18</td>\n",
       "      <td>3766.231217</td>\n",
       "      <td>2021-08-08</td>\n",
       "    </tr>\n",
       "    <tr>\n",
       "      <th>4</th>\n",
       "      <td>9</td>\n",
       "      <td>13348.76</td>\n",
       "      <td>13348.76</td>\n",
       "      <td>0.000000</td>\n",
       "      <td>2023-04-19</td>\n",
       "    </tr>\n",
       "  </tbody>\n",
       "</table>\n",
       "</div>"
      ],
      "text/plain": [
       "   prism_consumer_id  minbalance  maxbalance   stdbalance maxbalance_date\n",
       "0                  0     6182.60     9907.23  2633.711130      2023-04-13\n",
       "1                  2     8079.43    17426.83  6609.609926      2022-02-15\n",
       "2                  4        0.00     4871.39  2644.903088      2021-08-13\n",
       "3                  7      517.95     7071.18  3766.231217      2021-08-08\n",
       "4                  9    13348.76    13348.76     0.000000      2023-04-19"
      ]
     },
     "execution_count": 202,
     "metadata": {},
     "output_type": "execute_result"
    }
   ],
   "source": [
    "balance_var = acct[['prism_consumer_id','balance','balance_date']].groupby('prism_consumer_id').agg({\n",
    "    'balance':['min', 'max', 'std'],\n",
    "    'balance_date':['max']\n",
    "}).reset_index()\n",
    "balance_var.fillna(0.0, inplace=True)\n",
    "\n",
    "balance_var.columns = balance_var.columns.to_flat_index().map(lambda x: x[1] + x[0])\n",
    "features.append(balance_var)\n",
    "balance_var.head()"
   ]
  },
  {
   "cell_type": "markdown",
   "metadata": {},
   "source": [
    "### Disposable Income\n",
    "How much disposable income does a consumer have available after looking at all purchases and income sources in the dataset"
   ]
  },
  {
   "cell_type": "code",
   "execution_count": 203,
   "metadata": {},
   "outputs": [
    {
     "data": {
      "text/html": [
       "<div>\n",
       "<style scoped>\n",
       "    .dataframe tbody tr th:only-of-type {\n",
       "        vertical-align: middle;\n",
       "    }\n",
       "\n",
       "    .dataframe tbody tr th {\n",
       "        vertical-align: top;\n",
       "    }\n",
       "\n",
       "    .dataframe thead th {\n",
       "        text-align: right;\n",
       "    }\n",
       "</style>\n",
       "<table border=\"1\" class=\"dataframe\">\n",
       "  <thead>\n",
       "    <tr style=\"text-align: right;\">\n",
       "      <th></th>\n",
       "      <th>prism_consumer_id</th>\n",
       "      <th>total_balance</th>\n",
       "      <th>total_balance_date</th>\n",
       "    </tr>\n",
       "  </thead>\n",
       "  <tbody>\n",
       "    <tr>\n",
       "      <th>0</th>\n",
       "      <td>0</td>\n",
       "      <td>15154.285773</td>\n",
       "      <td>2023-04-12</td>\n",
       "    </tr>\n",
       "    <tr>\n",
       "      <th>1</th>\n",
       "      <td>2</td>\n",
       "      <td>1546.065942</td>\n",
       "      <td>2022-02-14</td>\n",
       "    </tr>\n",
       "    <tr>\n",
       "      <th>2</th>\n",
       "      <td>4</td>\n",
       "      <td>3377.081389</td>\n",
       "      <td>2021-08-12</td>\n",
       "    </tr>\n",
       "    <tr>\n",
       "      <th>3</th>\n",
       "      <td>7</td>\n",
       "      <td>7311.445429</td>\n",
       "      <td>2021-08-06</td>\n",
       "    </tr>\n",
       "    <tr>\n",
       "      <th>4</th>\n",
       "      <td>9</td>\n",
       "      <td>5873.815289</td>\n",
       "      <td>2023-04-18</td>\n",
       "    </tr>\n",
       "  </tbody>\n",
       "</table>\n",
       "</div>"
      ],
      "text/plain": [
       "   prism_consumer_id  total_balance total_balance_date\n",
       "0                  0   15154.285773         2023-04-12\n",
       "1                  2    1546.065942         2022-02-14\n",
       "2                  4    3377.081389         2021-08-12\n",
       "3                  7    7311.445429         2021-08-06\n",
       "4                  9    5873.815289         2023-04-18"
      ]
     },
     "execution_count": 203,
     "metadata": {},
     "output_type": "execute_result"
    }
   ],
   "source": [
    "cons_eval_dates = cons.sort_values('evaluation_date')[['prism_consumer_id','evaluation_date']]\n",
    "outflow_merged = pd.merge(outflows, cons_eval_dates, on=\"prism_consumer_id\", how=\"left\")\n",
    "inflow_merged = pd.merge(inflows, cons_eval_dates, on=\"prism_consumer_id\", how=\"left\")\n",
    "outflow_merged['amount'] = outflow_merged['amount'] * -1\n",
    "total_cashflow = pd.concat([inflow_merged, outflow_merged])\n",
    "\n",
    "total_cashflow = total_cashflow[total_cashflow['posted_date'] <= total_cashflow['evaluation_date']]\n",
    "\n",
    "total_balance = (\n",
    "    total_cashflow[[\n",
    "        'prism_consumer_id',\n",
    "        'amount',\n",
    "        'posted_date',\n",
    "    ]]\n",
    "    .groupby('prism_consumer_id')\n",
    "    .agg({\n",
    "        'amount':['sum'],\n",
    "        'posted_date':['min','max']\n",
    "    })\n",
    ")\n",
    "\n",
    "total_balance['date_range'] = pd.to_timedelta(total_balance['posted_date','max'] - total_balance['posted_date','min']).dt.days / 365\n",
    "total_balance = pd.DataFrame({\n",
    "    'total_balance': total_balance['amount','sum'] / total_balance['date_range'], \n",
    "    'total_balance_date': total_balance['posted_date', 'max']\n",
    "}).reset_index()\n",
    "\n",
    "features.append(total_balance)\n",
    "total_balance.head()"
   ]
  },
  {
   "cell_type": "markdown",
   "metadata": {},
   "source": [
    "### Monthly Balance Statistics\n",
    "Features that look at average monthly activity:\n",
    " - Average Monthly Spending\n",
    " - Average number of purchases made per month"
   ]
  },
  {
   "cell_type": "code",
   "execution_count": 204,
   "metadata": {},
   "outputs": [
    {
     "data": {
      "text/html": [
       "<div>\n",
       "<style scoped>\n",
       "    .dataframe tbody tr th:only-of-type {\n",
       "        vertical-align: middle;\n",
       "    }\n",
       "\n",
       "    .dataframe tbody tr th {\n",
       "        vertical-align: top;\n",
       "    }\n",
       "\n",
       "    .dataframe thead th {\n",
       "        text-align: right;\n",
       "    }\n",
       "</style>\n",
       "<table border=\"1\" class=\"dataframe\">\n",
       "  <thead>\n",
       "    <tr style=\"text-align: right;\">\n",
       "      <th></th>\n",
       "      <th>prism_consumer_id</th>\n",
       "      <th>avg_monthly_spending</th>\n",
       "      <th>num_monthly_purchase</th>\n",
       "    </tr>\n",
       "  </thead>\n",
       "  <tbody>\n",
       "    <tr>\n",
       "      <th>0</th>\n",
       "      <td>0</td>\n",
       "      <td>7703.614883</td>\n",
       "      <td>80.915055</td>\n",
       "    </tr>\n",
       "    <tr>\n",
       "      <th>1</th>\n",
       "      <td>2</td>\n",
       "      <td>9354.337258</td>\n",
       "      <td>98.743961</td>\n",
       "    </tr>\n",
       "    <tr>\n",
       "      <th>2</th>\n",
       "      <td>4</td>\n",
       "      <td>30563.426238</td>\n",
       "      <td>33.035880</td>\n",
       "    </tr>\n",
       "    <tr>\n",
       "      <th>3</th>\n",
       "      <td>7</td>\n",
       "      <td>23188.278116</td>\n",
       "      <td>138.265235</td>\n",
       "    </tr>\n",
       "    <tr>\n",
       "      <th>4</th>\n",
       "      <td>9</td>\n",
       "      <td>11186.144777</td>\n",
       "      <td>79.267677</td>\n",
       "    </tr>\n",
       "  </tbody>\n",
       "</table>\n",
       "</div>"
      ],
      "text/plain": [
       "   prism_consumer_id  avg_monthly_spending  num_monthly_purchase\n",
       "0                  0           7703.614883             80.915055\n",
       "1                  2           9354.337258             98.743961\n",
       "2                  4          30563.426238             33.035880\n",
       "3                  7          23188.278116            138.265235\n",
       "4                  9          11186.144777             79.267677"
      ]
     },
     "execution_count": 204,
     "metadata": {},
     "output_type": "execute_result"
    }
   ],
   "source": [
    "outflow_valid = outflow_merged[outflow_merged['posted_date'] <= outflow_merged['evaluation_date']]\n",
    "outflow_counts = outflow_valid.groupby('prism_consumer_id').agg({\n",
    "    'amount':['count','sum'],\n",
    "    'posted_date':['min','max'],\n",
    "}).reset_index()\n",
    "\n",
    "outflow_counts['date_range'] = pd.to_timedelta(outflow_counts['posted_date','max'] - outflow_counts['posted_date','min']).dt.days / 365 * 12\n",
    "\n",
    "outflow_counts = pd.DataFrame({\n",
    "    'prism_consumer_id': outflow_counts['prism_consumer_id'],\n",
    "    'avg_monthly_spending': -1 * outflow_counts['amount','sum'] / outflow_counts['date_range'],\n",
    "    'num_monthly_purchase': outflow_counts['amount','count'] / outflow_counts['date_range'],\n",
    "    # 'monthly_purchase_date': outflow_counts['posted_date','max'],\n",
    "})\n",
    "\n",
    "outflow_counts.replace([np.inf, -np.inf], 0.0, inplace=True)\n",
    "features.append(outflow_counts)\n",
    "outflow_counts.head()"
   ]
  },
  {
   "cell_type": "markdown",
   "metadata": {},
   "source": [
    "### Savings Feature\n",
    "A count of how many times someone has pulled from savings account\n"
   ]
  },
  {
   "cell_type": "code",
   "execution_count": 205,
   "metadata": {},
   "outputs": [
    {
     "data": {
      "text/html": [
       "<div>\n",
       "<style scoped>\n",
       "    .dataframe tbody tr th:only-of-type {\n",
       "        vertical-align: middle;\n",
       "    }\n",
       "\n",
       "    .dataframe tbody tr th {\n",
       "        vertical-align: top;\n",
       "    }\n",
       "\n",
       "    .dataframe thead th {\n",
       "        text-align: right;\n",
       "    }\n",
       "</style>\n",
       "<table border=\"1\" class=\"dataframe\">\n",
       "  <thead>\n",
       "    <tr style=\"text-align: right;\">\n",
       "      <th></th>\n",
       "      <th>prism_consumer_id</th>\n",
       "      <th>memo_clean</th>\n",
       "    </tr>\n",
       "  </thead>\n",
       "  <tbody>\n",
       "    <tr>\n",
       "      <th>0</th>\n",
       "      <td>0</td>\n",
       "      <td>0.0</td>\n",
       "    </tr>\n",
       "    <tr>\n",
       "      <th>1</th>\n",
       "      <td>2</td>\n",
       "      <td>0.0</td>\n",
       "    </tr>\n",
       "    <tr>\n",
       "      <th>2</th>\n",
       "      <td>4</td>\n",
       "      <td>0.0</td>\n",
       "    </tr>\n",
       "    <tr>\n",
       "      <th>3</th>\n",
       "      <td>7</td>\n",
       "      <td>0.0</td>\n",
       "    </tr>\n",
       "    <tr>\n",
       "      <th>4</th>\n",
       "      <td>9</td>\n",
       "      <td>0.0</td>\n",
       "    </tr>\n",
       "    <tr>\n",
       "      <th>...</th>\n",
       "      <td>...</td>\n",
       "      <td>...</td>\n",
       "    </tr>\n",
       "    <tr>\n",
       "      <th>2973</th>\n",
       "      <td>3991</td>\n",
       "      <td>63.0</td>\n",
       "    </tr>\n",
       "    <tr>\n",
       "      <th>2974</th>\n",
       "      <td>3992</td>\n",
       "      <td>0.0</td>\n",
       "    </tr>\n",
       "    <tr>\n",
       "      <th>2975</th>\n",
       "      <td>3993</td>\n",
       "      <td>22.0</td>\n",
       "    </tr>\n",
       "    <tr>\n",
       "      <th>2976</th>\n",
       "      <td>3996</td>\n",
       "      <td>241.0</td>\n",
       "    </tr>\n",
       "    <tr>\n",
       "      <th>2977</th>\n",
       "      <td>3997</td>\n",
       "      <td>24.0</td>\n",
       "    </tr>\n",
       "  </tbody>\n",
       "</table>\n",
       "<p>2978 rows × 2 columns</p>\n",
       "</div>"
      ],
      "text/plain": [
       "      prism_consumer_id  memo_clean\n",
       "0                     0         0.0\n",
       "1                     2         0.0\n",
       "2                     4         0.0\n",
       "3                     7         0.0\n",
       "4                     9         0.0\n",
       "...                 ...         ...\n",
       "2973               3991        63.0\n",
       "2974               3992         0.0\n",
       "2975               3993        22.0\n",
       "2976               3996       241.0\n",
       "2977               3997        24.0\n",
       "\n",
       "[2978 rows x 2 columns]"
      ]
     },
     "execution_count": 205,
     "metadata": {},
     "output_type": "execute_result"
    }
   ],
   "source": [
    "transfer_from_savings = inflows[inflows['category_description']=='SELF_TRANSFER']\n",
    "transfer_from_savings = transfer_from_savings[transfer_from_savings['memo_clean'].str.contains('Savings')]\n",
    "count_tfs = transfer_from_savings.groupby('prism_consumer_id').count().reset_index()\n",
    "inflow_ids = pd.merge(inflows[['prism_consumer_id']], count_tfs, on='prism_consumer_id', how='left')\n",
    "inflow_ids = inflow_ids.fillna(0).drop_duplicates(subset=['prism_consumer_id']).reset_index()[['prism_consumer_id', 'memo_clean']]\n",
    "\n",
    "features.append(inflow_ids)\n",
    "inflow_ids"
   ]
  },
  {
   "cell_type": "markdown",
   "metadata": {},
   "source": [
    "### Unsufficient Funds\n",
    "A boolean output for whether a consumer has an account that is negative or near 0."
   ]
  },
  {
   "cell_type": "code",
   "execution_count": 206,
   "metadata": {},
   "outputs": [
    {
     "data": {
      "text/html": [
       "<div>\n",
       "<style scoped>\n",
       "    .dataframe tbody tr th:only-of-type {\n",
       "        vertical-align: middle;\n",
       "    }\n",
       "\n",
       "    .dataframe tbody tr th {\n",
       "        vertical-align: top;\n",
       "    }\n",
       "\n",
       "    .dataframe thead th {\n",
       "        text-align: right;\n",
       "    }\n",
       "</style>\n",
       "<table border=\"1\" class=\"dataframe\">\n",
       "  <thead>\n",
       "    <tr style=\"text-align: right;\">\n",
       "      <th></th>\n",
       "      <th>prism_consumer_id</th>\n",
       "      <th>unsufficient_balance</th>\n",
       "    </tr>\n",
       "  </thead>\n",
       "  <tbody>\n",
       "    <tr>\n",
       "      <th>0</th>\n",
       "      <td>0</td>\n",
       "      <td>2</td>\n",
       "    </tr>\n",
       "    <tr>\n",
       "      <th>1</th>\n",
       "      <td>2</td>\n",
       "      <td>2</td>\n",
       "    </tr>\n",
       "    <tr>\n",
       "      <th>2</th>\n",
       "      <td>4</td>\n",
       "      <td>3</td>\n",
       "    </tr>\n",
       "    <tr>\n",
       "      <th>3</th>\n",
       "      <td>7</td>\n",
       "      <td>3</td>\n",
       "    </tr>\n",
       "    <tr>\n",
       "      <th>4</th>\n",
       "      <td>9</td>\n",
       "      <td>1</td>\n",
       "    </tr>\n",
       "  </tbody>\n",
       "</table>\n",
       "</div>"
      ],
      "text/plain": [
       "   prism_consumer_id  unsufficient_balance\n",
       "0                  0                     2\n",
       "1                  2                     2\n",
       "2                  4                     3\n",
       "3                  7                     3\n",
       "4                  9                     1"
      ]
     },
     "execution_count": 206,
     "metadata": {},
     "output_type": "execute_result"
    }
   ],
   "source": [
    "acct['unsufficient_balance'] = acct['balance'].apply(lambda x: x <= 1)\n",
    "unsufficient_accts = acct.groupby('prism_consumer_id')['unsufficient_balance'].count().reset_index()[['prism_consumer_id', 'unsufficient_balance']]\n",
    "unsufficient_accts.head()\n"
   ]
  },
  {
   "cell_type": "markdown",
   "metadata": {},
   "source": [
    "### Amount of Accounts Per User\n",
    "A number that represents the total number of accounts each consumer has."
   ]
  },
  {
   "cell_type": "code",
   "execution_count": 183,
   "metadata": {},
   "outputs": [],
   "source": [
    "acct = acct.rename(columns = {'prism_consumer_id':'grouping_prism_consumer_id'})\n",
    "account_count = acct.groupby('grouping_prism_consumer_id')[['grouping_prism_consumer_id']].count()\n",
    "account_count = account_count.rename(columns = {'grouping_prism_consumer_id':'account_count'}).reset_index()\n",
    "account_count = account_count.rename(columns = {'grouping_prism_consumer_id': 'prism_consumer_id'})\n",
    "\n",
    "features.append(account_count)"
   ]
  },
  {
   "cell_type": "markdown",
   "metadata": {},
   "source": [
    "### Positive Remaining Ratio\n",
    "Determines the amount of months where cashflow is positive out of all months in the dataset for each consumer"
   ]
  },
  {
   "cell_type": "code",
   "execution_count": 185,
   "metadata": {},
   "outputs": [],
   "source": [
    "def get_PRR(total_cashflow):\n",
    "    # Get month and year of inflow and outflow\n",
    "    total_cashflow = total_cashflow.copy()\n",
    "    total_cashflow['month'] = pd.to_datetime(total_cashflow['posted_date']).dt.month\n",
    "    total_cashflow['year'] = pd.to_datetime(total_cashflow['posted_date']).dt.year\n",
    "    # Group transactions by month and calculate remaining balance on each month for each client\n",
    "    total_cashflow = total_cashflow.groupby(['prism_consumer_id', 'year', 'month'])['amount'].sum().reset_index()\n",
    "    # Determine if the remaining amount is positive for each month\n",
    "    total_cashflow['PRR'] = (total_cashflow['amount'] > 0).astype(int)\n",
    "    # Calculate the ratio of months with positive remaining amounts\n",
    "    total_cashflow = total_cashflow.groupby('prism_consumer_id')['PRR'].mean().reset_index()\n",
    "    return total_cashflow"
   ]
  },
  {
   "cell_type": "code",
   "execution_count": 186,
   "metadata": {},
   "outputs": [
    {
     "data": {
      "text/html": [
       "<div>\n",
       "<style scoped>\n",
       "    .dataframe tbody tr th:only-of-type {\n",
       "        vertical-align: middle;\n",
       "    }\n",
       "\n",
       "    .dataframe tbody tr th {\n",
       "        vertical-align: top;\n",
       "    }\n",
       "\n",
       "    .dataframe thead th {\n",
       "        text-align: right;\n",
       "    }\n",
       "</style>\n",
       "<table border=\"1\" class=\"dataframe\">\n",
       "  <thead>\n",
       "    <tr style=\"text-align: right;\">\n",
       "      <th></th>\n",
       "      <th>prism_consumer_id</th>\n",
       "      <th>PRR</th>\n",
       "    </tr>\n",
       "  </thead>\n",
       "  <tbody>\n",
       "    <tr>\n",
       "      <th>0</th>\n",
       "      <td>0</td>\n",
       "      <td>0.538462</td>\n",
       "    </tr>\n",
       "    <tr>\n",
       "      <th>1</th>\n",
       "      <td>2</td>\n",
       "      <td>0.333333</td>\n",
       "    </tr>\n",
       "    <tr>\n",
       "      <th>2</th>\n",
       "      <td>4</td>\n",
       "      <td>0.461538</td>\n",
       "    </tr>\n",
       "    <tr>\n",
       "      <th>3</th>\n",
       "      <td>7</td>\n",
       "      <td>0.384615</td>\n",
       "    </tr>\n",
       "    <tr>\n",
       "      <th>4</th>\n",
       "      <td>9</td>\n",
       "      <td>0.538462</td>\n",
       "    </tr>\n",
       "  </tbody>\n",
       "</table>\n",
       "</div>"
      ],
      "text/plain": [
       "   prism_consumer_id       PRR\n",
       "0                  0  0.538462\n",
       "1                  2  0.333333\n",
       "2                  4  0.461538\n",
       "3                  7  0.384615\n",
       "4                  9  0.538462"
      ]
     },
     "execution_count": 186,
     "metadata": {},
     "output_type": "execute_result"
    }
   ],
   "source": [
    "PRR = get_PRR(total_cashflow)\n",
    "features.append(PRR)\n",
    "PRR.head()"
   ]
  },
  {
   "cell_type": "markdown",
   "metadata": {},
   "source": [
    "### Credit Ratio\n",
    "Determines the maximum number of consecutive months in which a consumer pays of a loan"
   ]
  },
  {
   "cell_type": "code",
   "execution_count": 187,
   "metadata": {},
   "outputs": [],
   "source": [
    "def get_CR(outflows):\n",
    "    # Get month range\n",
    "    outflow_transactions = outflows.copy()\n",
    "    outflow_transactions['month'] = pd.to_datetime(outflow_transactions['posted_date']).dt.month\n",
    "    outflow_transactions['year'] = pd.to_datetime(outflow_transactions['posted_date']).dt.year\n",
    "    outflow_transactions['date_id'] = 12 * (outflow_transactions['year'] - min(outflow_transactions['year'])) + outflow_transactions['month']\n",
    "    # Get number of transactions for each category for each consumer\n",
    "    cat_groups = outflow_transactions.groupby(['prism_consumer_id', 'date_id', 'category_description']).size().reset_index(name='count')\n",
    "    # Find number of months where consumer spent money on credit card payments or loans\n",
    "    cat_counts = cat_groups.groupby(['prism_consumer_id','category_description']).agg({'count':'count', 'date_id':['min', 'max']}).reset_index()\n",
    "    credit_counts = cat_counts[np.isin(cat_counts['category_description'], ['LOAN', 'CREDIT_CARD_PAYMENT'])].copy()\n",
    "    # Get maximum credit ratio\n",
    "    credit_counts['CR'] = credit_counts['count','count'] / (credit_counts['date_id','max'] - credit_counts['date_id','min'] + 1)\n",
    "    return credit_counts.groupby('prism_consumer_id')['CR'].max().reset_index()"
   ]
  },
  {
   "cell_type": "code",
   "execution_count": 188,
   "metadata": {},
   "outputs": [
    {
     "data": {
      "text/html": [
       "<div>\n",
       "<style scoped>\n",
       "    .dataframe tbody tr th:only-of-type {\n",
       "        vertical-align: middle;\n",
       "    }\n",
       "\n",
       "    .dataframe tbody tr th {\n",
       "        vertical-align: top;\n",
       "    }\n",
       "\n",
       "    .dataframe thead th {\n",
       "        text-align: right;\n",
       "    }\n",
       "</style>\n",
       "<table border=\"1\" class=\"dataframe\">\n",
       "  <thead>\n",
       "    <tr style=\"text-align: right;\">\n",
       "      <th></th>\n",
       "      <th>prism_consumer_id</th>\n",
       "      <th>CR</th>\n",
       "    </tr>\n",
       "  </thead>\n",
       "  <tbody>\n",
       "    <tr>\n",
       "      <th>0</th>\n",
       "      <td>0</td>\n",
       "      <td>1.0</td>\n",
       "    </tr>\n",
       "    <tr>\n",
       "      <th>1</th>\n",
       "      <td>2</td>\n",
       "      <td>1.0</td>\n",
       "    </tr>\n",
       "    <tr>\n",
       "      <th>2</th>\n",
       "      <td>4</td>\n",
       "      <td>1.0</td>\n",
       "    </tr>\n",
       "    <tr>\n",
       "      <th>3</th>\n",
       "      <td>7</td>\n",
       "      <td>1.0</td>\n",
       "    </tr>\n",
       "    <tr>\n",
       "      <th>4</th>\n",
       "      <td>9</td>\n",
       "      <td>1.0</td>\n",
       "    </tr>\n",
       "  </tbody>\n",
       "</table>\n",
       "</div>"
      ],
      "text/plain": [
       "   prism_consumer_id   CR\n",
       "0                  0  1.0\n",
       "1                  2  1.0\n",
       "2                  4  1.0\n",
       "3                  7  1.0\n",
       "4                  9  1.0"
      ]
     },
     "execution_count": 188,
     "metadata": {},
     "output_type": "execute_result"
    }
   ],
   "source": [
    "CR = get_CR(outflows)\n",
    "features.append(CR)\n",
    "CR.head()"
   ]
  },
  {
   "cell_type": "markdown",
   "metadata": {},
   "source": [
    "### Merge all features into feature matrix"
   ]
  },
  {
   "cell_type": "code",
   "execution_count": 189,
   "metadata": {},
   "outputs": [
    {
     "data": {
      "text/html": [
       "<div>\n",
       "<style scoped>\n",
       "    .dataframe tbody tr th:only-of-type {\n",
       "        vertical-align: middle;\n",
       "    }\n",
       "\n",
       "    .dataframe tbody tr th {\n",
       "        vertical-align: top;\n",
       "    }\n",
       "\n",
       "    .dataframe thead th {\n",
       "        text-align: right;\n",
       "    }\n",
       "</style>\n",
       "<table border=\"1\" class=\"dataframe\">\n",
       "  <thead>\n",
       "    <tr style=\"text-align: right;\">\n",
       "      <th></th>\n",
       "      <th>prism_consumer_id</th>\n",
       "      <th>minbalance</th>\n",
       "      <th>maxbalance</th>\n",
       "      <th>stdbalance</th>\n",
       "      <th>total_balance</th>\n",
       "      <th>avg_monthly_spending</th>\n",
       "      <th>num_monthly_purchase</th>\n",
       "      <th>memo_clean</th>\n",
       "      <th>account_count</th>\n",
       "      <th>PRR</th>\n",
       "      <th>CR</th>\n",
       "      <th>feature_date</th>\n",
       "    </tr>\n",
       "  </thead>\n",
       "  <tbody>\n",
       "    <tr>\n",
       "      <th>0</th>\n",
       "      <td>0</td>\n",
       "      <td>6182.60</td>\n",
       "      <td>9907.23</td>\n",
       "      <td>2633.711130</td>\n",
       "      <td>15154.285773</td>\n",
       "      <td>7703.614883</td>\n",
       "      <td>80.915055</td>\n",
       "      <td>0.0</td>\n",
       "      <td>2</td>\n",
       "      <td>0.538462</td>\n",
       "      <td>1.0</td>\n",
       "      <td>2023-04-13</td>\n",
       "    </tr>\n",
       "    <tr>\n",
       "      <th>1</th>\n",
       "      <td>2</td>\n",
       "      <td>8079.43</td>\n",
       "      <td>17426.83</td>\n",
       "      <td>6609.609926</td>\n",
       "      <td>1546.065942</td>\n",
       "      <td>9354.337258</td>\n",
       "      <td>98.743961</td>\n",
       "      <td>0.0</td>\n",
       "      <td>2</td>\n",
       "      <td>0.333333</td>\n",
       "      <td>1.0</td>\n",
       "      <td>2022-02-15</td>\n",
       "    </tr>\n",
       "    <tr>\n",
       "      <th>2</th>\n",
       "      <td>4</td>\n",
       "      <td>0.00</td>\n",
       "      <td>4871.39</td>\n",
       "      <td>2644.903088</td>\n",
       "      <td>3377.081389</td>\n",
       "      <td>30563.426238</td>\n",
       "      <td>33.035880</td>\n",
       "      <td>0.0</td>\n",
       "      <td>3</td>\n",
       "      <td>0.461538</td>\n",
       "      <td>1.0</td>\n",
       "      <td>2021-08-13</td>\n",
       "    </tr>\n",
       "    <tr>\n",
       "      <th>3</th>\n",
       "      <td>7</td>\n",
       "      <td>517.95</td>\n",
       "      <td>7071.18</td>\n",
       "      <td>3766.231217</td>\n",
       "      <td>7311.445429</td>\n",
       "      <td>23188.278116</td>\n",
       "      <td>138.265235</td>\n",
       "      <td>0.0</td>\n",
       "      <td>3</td>\n",
       "      <td>0.384615</td>\n",
       "      <td>1.0</td>\n",
       "      <td>2021-08-08</td>\n",
       "    </tr>\n",
       "    <tr>\n",
       "      <th>4</th>\n",
       "      <td>9</td>\n",
       "      <td>13348.76</td>\n",
       "      <td>13348.76</td>\n",
       "      <td>0.000000</td>\n",
       "      <td>5873.815289</td>\n",
       "      <td>11186.144777</td>\n",
       "      <td>79.267677</td>\n",
       "      <td>0.0</td>\n",
       "      <td>1</td>\n",
       "      <td>0.538462</td>\n",
       "      <td>1.0</td>\n",
       "      <td>2023-04-19</td>\n",
       "    </tr>\n",
       "    <tr>\n",
       "      <th>...</th>\n",
       "      <td>...</td>\n",
       "      <td>...</td>\n",
       "      <td>...</td>\n",
       "      <td>...</td>\n",
       "      <td>...</td>\n",
       "      <td>...</td>\n",
       "      <td>...</td>\n",
       "      <td>...</td>\n",
       "      <td>...</td>\n",
       "      <td>...</td>\n",
       "      <td>...</td>\n",
       "      <td>...</td>\n",
       "    </tr>\n",
       "    <tr>\n",
       "      <th>2973</th>\n",
       "      <td>5941</td>\n",
       "      <td>2058.81</td>\n",
       "      <td>2058.81</td>\n",
       "      <td>0.000000</td>\n",
       "      <td>-1816.084426</td>\n",
       "      <td>4052.617937</td>\n",
       "      <td>84.468579</td>\n",
       "      <td>0.0</td>\n",
       "      <td>1</td>\n",
       "      <td>0.363636</td>\n",
       "      <td>1.0</td>\n",
       "      <td>2023-01-06</td>\n",
       "    </tr>\n",
       "    <tr>\n",
       "      <th>2974</th>\n",
       "      <td>5943</td>\n",
       "      <td>2431.44</td>\n",
       "      <td>2431.44</td>\n",
       "      <td>0.000000</td>\n",
       "      <td>4121.415493</td>\n",
       "      <td>5769.212382</td>\n",
       "      <td>25.538522</td>\n",
       "      <td>0.0</td>\n",
       "      <td>1</td>\n",
       "      <td>0.625000</td>\n",
       "      <td>1.0</td>\n",
       "      <td>2023-02-03</td>\n",
       "    </tr>\n",
       "    <tr>\n",
       "      <th>2975</th>\n",
       "      <td>5944</td>\n",
       "      <td>45.74</td>\n",
       "      <td>45.74</td>\n",
       "      <td>0.000000</td>\n",
       "      <td>-765.389130</td>\n",
       "      <td>1987.821739</td>\n",
       "      <td>88.605072</td>\n",
       "      <td>0.0</td>\n",
       "      <td>1</td>\n",
       "      <td>0.500000</td>\n",
       "      <td>1.0</td>\n",
       "      <td>2023-02-01</td>\n",
       "    </tr>\n",
       "    <tr>\n",
       "      <th>2976</th>\n",
       "      <td>5945</td>\n",
       "      <td>59.88</td>\n",
       "      <td>59.88</td>\n",
       "      <td>0.000000</td>\n",
       "      <td>-1557.370000</td>\n",
       "      <td>3474.895833</td>\n",
       "      <td>103.541667</td>\n",
       "      <td>0.0</td>\n",
       "      <td>1</td>\n",
       "      <td>0.440000</td>\n",
       "      <td>1.0</td>\n",
       "      <td>2023-02-02</td>\n",
       "    </tr>\n",
       "    <tr>\n",
       "      <th>2977</th>\n",
       "      <td>5949</td>\n",
       "      <td>1112.01</td>\n",
       "      <td>1112.01</td>\n",
       "      <td>0.000000</td>\n",
       "      <td>179.153578</td>\n",
       "      <td>2918.743915</td>\n",
       "      <td>46.478079</td>\n",
       "      <td>3.0</td>\n",
       "      <td>1</td>\n",
       "      <td>0.352941</td>\n",
       "      <td>1.0</td>\n",
       "      <td>2023-02-04</td>\n",
       "    </tr>\n",
       "  </tbody>\n",
       "</table>\n",
       "<p>2978 rows × 12 columns</p>\n",
       "</div>"
      ],
      "text/plain": [
       "      prism_consumer_id  minbalance  maxbalance   stdbalance  total_balance  \\\n",
       "0                     0     6182.60     9907.23  2633.711130   15154.285773   \n",
       "1                     2     8079.43    17426.83  6609.609926    1546.065942   \n",
       "2                     4        0.00     4871.39  2644.903088    3377.081389   \n",
       "3                     7      517.95     7071.18  3766.231217    7311.445429   \n",
       "4                     9    13348.76    13348.76     0.000000    5873.815289   \n",
       "...                 ...         ...         ...          ...            ...   \n",
       "2973               5941     2058.81     2058.81     0.000000   -1816.084426   \n",
       "2974               5943     2431.44     2431.44     0.000000    4121.415493   \n",
       "2975               5944       45.74       45.74     0.000000    -765.389130   \n",
       "2976               5945       59.88       59.88     0.000000   -1557.370000   \n",
       "2977               5949     1112.01     1112.01     0.000000     179.153578   \n",
       "\n",
       "      avg_monthly_spending  num_monthly_purchase  memo_clean  account_count  \\\n",
       "0              7703.614883             80.915055         0.0              2   \n",
       "1              9354.337258             98.743961         0.0              2   \n",
       "2             30563.426238             33.035880         0.0              3   \n",
       "3             23188.278116            138.265235         0.0              3   \n",
       "4             11186.144777             79.267677         0.0              1   \n",
       "...                    ...                   ...         ...            ...   \n",
       "2973           4052.617937             84.468579         0.0              1   \n",
       "2974           5769.212382             25.538522         0.0              1   \n",
       "2975           1987.821739             88.605072         0.0              1   \n",
       "2976           3474.895833            103.541667         0.0              1   \n",
       "2977           2918.743915             46.478079         3.0              1   \n",
       "\n",
       "           PRR   CR feature_date  \n",
       "0     0.538462  1.0   2023-04-13  \n",
       "1     0.333333  1.0   2022-02-15  \n",
       "2     0.461538  1.0   2021-08-13  \n",
       "3     0.384615  1.0   2021-08-08  \n",
       "4     0.538462  1.0   2023-04-19  \n",
       "...        ...  ...          ...  \n",
       "2973  0.363636  1.0   2023-01-06  \n",
       "2974  0.625000  1.0   2023-02-03  \n",
       "2975  0.500000  1.0   2023-02-01  \n",
       "2976  0.440000  1.0   2023-02-02  \n",
       "2977  0.352941  1.0   2023-02-04  \n",
       "\n",
       "[2978 rows x 12 columns]"
      ]
     },
     "execution_count": 189,
     "metadata": {},
     "output_type": "execute_result"
    }
   ],
   "source": [
    "feature_df = reduce(\n",
    "    lambda left,right: pd.merge(left,right, on='prism_consumer_id', how='outer'), \n",
    "    features\n",
    ")\n",
    "\n",
    "feature_dates = re.findall(r\"\\w+_date\", str(list(feature_df.columns)))\n",
    "feature_df['feature_date'] = feature_df[feature_dates].max(axis=1)\n",
    "feature_df.drop(feature_dates, axis=1, inplace=True)\n",
    "feature_df.fillna(0.0, inplace=True)\n",
    "feature_df"
   ]
  },
  {
   "cell_type": "markdown",
   "metadata": {},
   "source": [
    "## Final Feature Matrix"
   ]
  },
  {
   "cell_type": "code",
   "execution_count": 190,
   "metadata": {},
   "outputs": [],
   "source": [
    "sorted_cons = cons.sort_values('evaluation_date')\n",
    "\n",
    "dropped_cols = ['prism_consumer_id', 'evaluation_date', 'feature_date', 'APPROVED']\n",
    "feature_matrix = pd.merge(sorted_cons, feature_df, on='prism_consumer_id', how='left')\n",
    "\n",
    "# Make sure no invalid training data is pulled\n",
    "assert np.mean(feature_matrix['evaluation_date'] < feature_matrix['feature_date']) == 0, \"Features pulled from dates after evaluation_date\"\n",
    "feature_matrix.drop(dropped_cols, axis=1, inplace=True)"
   ]
  },
  {
   "cell_type": "code",
   "execution_count": 191,
   "metadata": {},
   "outputs": [
    {
     "data": {
      "text/plain": [
       "0    0.0\n",
       "1    0.0\n",
       "2    0.0\n",
       "3    0.0\n",
       "4    0.0\n",
       "Name: FPF_TARGET, dtype: float64"
      ]
     },
     "execution_count": 191,
     "metadata": {},
     "output_type": "execute_result"
    }
   ],
   "source": [
    "feature_matrix.iloc[:,0].head()"
   ]
  },
  {
   "cell_type": "code",
   "execution_count": 192,
   "metadata": {},
   "outputs": [],
   "source": [
    "# Train Test Split\n",
    "TEST_SIZE = 0.2\n",
    "X = feature_matrix.iloc[:,1:].to_numpy()\n",
    "y = feature_matrix.iloc[:,0].to_numpy()\n",
    "\n",
    "X_train, X_test, y_train, y_test = train_test_split(\n",
    "    X, \n",
    "    y, \n",
    "    test_size = TEST_SIZE, \n",
    "    random_state=42\n",
    ")\n",
    "\n",
    "X_train, X_valid, y_train, y_valid = train_test_split(\n",
    "    X_train, \n",
    "    y_train, \n",
    "    test_size = TEST_SIZE, \n",
    "    random_state=42\n",
    ")"
   ]
  },
  {
   "cell_type": "markdown",
   "metadata": {},
   "source": [
    "# Prototype Model to Predict Default Risk"
   ]
  },
  {
   "cell_type": "markdown",
   "metadata": {},
   "source": [
    "### Training"
   ]
  },
  {
   "cell_type": "code",
   "execution_count": 194,
   "metadata": {},
   "outputs": [],
   "source": [
    "model = linear_model.LogisticRegression()"
   ]
  },
  {
   "cell_type": "code",
   "execution_count": 195,
   "metadata": {},
   "outputs": [
    {
     "data": {
      "text/html": [
       "<style>#sk-container-id-1 {color: black;background-color: white;}#sk-container-id-1 pre{padding: 0;}#sk-container-id-1 div.sk-toggleable {background-color: white;}#sk-container-id-1 label.sk-toggleable__label {cursor: pointer;display: block;width: 100%;margin-bottom: 0;padding: 0.3em;box-sizing: border-box;text-align: center;}#sk-container-id-1 label.sk-toggleable__label-arrow:before {content: \"▸\";float: left;margin-right: 0.25em;color: #696969;}#sk-container-id-1 label.sk-toggleable__label-arrow:hover:before {color: black;}#sk-container-id-1 div.sk-estimator:hover label.sk-toggleable__label-arrow:before {color: black;}#sk-container-id-1 div.sk-toggleable__content {max-height: 0;max-width: 0;overflow: hidden;text-align: left;background-color: #f0f8ff;}#sk-container-id-1 div.sk-toggleable__content pre {margin: 0.2em;color: black;border-radius: 0.25em;background-color: #f0f8ff;}#sk-container-id-1 input.sk-toggleable__control:checked~div.sk-toggleable__content {max-height: 200px;max-width: 100%;overflow: auto;}#sk-container-id-1 input.sk-toggleable__control:checked~label.sk-toggleable__label-arrow:before {content: \"▾\";}#sk-container-id-1 div.sk-estimator input.sk-toggleable__control:checked~label.sk-toggleable__label {background-color: #d4ebff;}#sk-container-id-1 div.sk-label input.sk-toggleable__control:checked~label.sk-toggleable__label {background-color: #d4ebff;}#sk-container-id-1 input.sk-hidden--visually {border: 0;clip: rect(1px 1px 1px 1px);clip: rect(1px, 1px, 1px, 1px);height: 1px;margin: -1px;overflow: hidden;padding: 0;position: absolute;width: 1px;}#sk-container-id-1 div.sk-estimator {font-family: monospace;background-color: #f0f8ff;border: 1px dotted black;border-radius: 0.25em;box-sizing: border-box;margin-bottom: 0.5em;}#sk-container-id-1 div.sk-estimator:hover {background-color: #d4ebff;}#sk-container-id-1 div.sk-parallel-item::after {content: \"\";width: 100%;border-bottom: 1px solid gray;flex-grow: 1;}#sk-container-id-1 div.sk-label:hover label.sk-toggleable__label {background-color: #d4ebff;}#sk-container-id-1 div.sk-serial::before {content: \"\";position: absolute;border-left: 1px solid gray;box-sizing: border-box;top: 0;bottom: 0;left: 50%;z-index: 0;}#sk-container-id-1 div.sk-serial {display: flex;flex-direction: column;align-items: center;background-color: white;padding-right: 0.2em;padding-left: 0.2em;position: relative;}#sk-container-id-1 div.sk-item {position: relative;z-index: 1;}#sk-container-id-1 div.sk-parallel {display: flex;align-items: stretch;justify-content: center;background-color: white;position: relative;}#sk-container-id-1 div.sk-item::before, #sk-container-id-1 div.sk-parallel-item::before {content: \"\";position: absolute;border-left: 1px solid gray;box-sizing: border-box;top: 0;bottom: 0;left: 50%;z-index: -1;}#sk-container-id-1 div.sk-parallel-item {display: flex;flex-direction: column;z-index: 1;position: relative;background-color: white;}#sk-container-id-1 div.sk-parallel-item:first-child::after {align-self: flex-end;width: 50%;}#sk-container-id-1 div.sk-parallel-item:last-child::after {align-self: flex-start;width: 50%;}#sk-container-id-1 div.sk-parallel-item:only-child::after {width: 0;}#sk-container-id-1 div.sk-dashed-wrapped {border: 1px dashed gray;margin: 0 0.4em 0.5em 0.4em;box-sizing: border-box;padding-bottom: 0.4em;background-color: white;}#sk-container-id-1 div.sk-label label {font-family: monospace;font-weight: bold;display: inline-block;line-height: 1.2em;}#sk-container-id-1 div.sk-label-container {text-align: center;}#sk-container-id-1 div.sk-container {/* jupyter's `normalize.less` sets `[hidden] { display: none; }` but bootstrap.min.css set `[hidden] { display: none !important; }` so we also need the `!important` here to be able to override the default hidden behavior on the sphinx rendered scikit-learn.org. See: https://github.com/scikit-learn/scikit-learn/issues/21755 */display: inline-block !important;position: relative;}#sk-container-id-1 div.sk-text-repr-fallback {display: none;}</style><div id=\"sk-container-id-1\" class=\"sk-top-container\"><div class=\"sk-text-repr-fallback\"><pre>LogisticRegression()</pre><b>In a Jupyter environment, please rerun this cell to show the HTML representation or trust the notebook. <br />On GitHub, the HTML representation is unable to render, please try loading this page with nbviewer.org.</b></div><div class=\"sk-container\" hidden><div class=\"sk-item\"><div class=\"sk-estimator sk-toggleable\"><input class=\"sk-toggleable__control sk-hidden--visually\" id=\"sk-estimator-id-1\" type=\"checkbox\" checked><label for=\"sk-estimator-id-1\" class=\"sk-toggleable__label sk-toggleable__label-arrow\">LogisticRegression</label><div class=\"sk-toggleable__content\"><pre>LogisticRegression()</pre></div></div></div></div></div>"
      ],
      "text/plain": [
       "LogisticRegression()"
      ]
     },
     "execution_count": 195,
     "metadata": {},
     "output_type": "execute_result"
    }
   ],
   "source": [
    "model.fit(X_train, y_train)"
   ]
  },
  {
   "cell_type": "code",
   "execution_count": 196,
   "metadata": {},
   "outputs": [],
   "source": [
    "train_pred = model.predict(X_train)\n",
    "test_pred = model.predict(X_test)"
   ]
  },
  {
   "cell_type": "markdown",
   "metadata": {},
   "source": [
    "### Evaluate Model"
   ]
  },
  {
   "cell_type": "code",
   "execution_count": 197,
   "metadata": {},
   "outputs": [],
   "source": [
    "def get_metrics(pred, actual, display=True):\n",
    "    cm = confusion_matrix(actual, pred)\n",
    "    tn, fp, fn, tp = cm.ravel()\n",
    "\n",
    "    TPR = tp / (tp + fn)\n",
    "    FPR = tn / (tn + fp)\n",
    "    if (display):\n",
    "        print(f\"Accuracy: {np.mean(pred == actual):.4f}\")\n",
    "        print(f\"tn:  {tn},  fp:  {fp},  fn:  {fn}, tp:  {tp}\")\n",
    "        print(f\"Precision:\\t\\t\\t{tp / (tp + fp):.5f}\")\n",
    "        print(f\"Recall:\\t\\t\\t\\t{tp / (tp + fn):.5f}\")\n",
    "        print(f\"TPR:\\t\\t\\t\\t{TPR:.5f}\")\n",
    "        print(f\"FPR:\\t\\t\\t\\t{FPR:.5f}\")\n",
    "        print(f\"Positive likelihood ratio:\\t{TPR/FPR:.5f}\")\n",
    "        print(f\"Negative likelihood ratio:\\t{FPR/TPR:.5f}\")\n",
    "        return\n",
    "    return [tn, fp, fn, tp, TPR, FPR, TPR/FPR, FPR/TPR]"
   ]
  },
  {
   "cell_type": "code",
   "execution_count": 198,
   "metadata": {},
   "outputs": [
    {
     "name": "stdout",
     "output_type": "stream",
     "text": [
      "Training:\n",
      "Accuracy: 0.8152\n",
      "tn:  1523,  fp:  21,  fn:  331, tp:  30\n",
      "Precision:\t\t\t0.58824\n",
      "Recall:\t\t\t\t0.08310\n",
      "TPR:\t\t\t\t0.08310\n",
      "FPR:\t\t\t\t0.98640\n",
      "Positive likelihood ratio:\t0.08425\n",
      "Negative likelihood ratio:\t11.86967\n",
      "===========================\n",
      "Test:\n",
      "Accuracy: 0.8473\n",
      "tn:  495,  fp:  3,  fn:  88, tp:  10\n",
      "Precision:\t\t\t0.76923\n",
      "Recall:\t\t\t\t0.10204\n",
      "TPR:\t\t\t\t0.10204\n",
      "FPR:\t\t\t\t0.99398\n",
      "Positive likelihood ratio:\t0.10266\n",
      "Negative likelihood ratio:\t9.74096\n"
     ]
    }
   ],
   "source": [
    "print(\"Training:\")\n",
    "get_metrics(train_pred, y_train)\n",
    "print(\"===========================\")\n",
    "print(\"Test:\")\n",
    "get_metrics(test_pred, y_test)"
   ]
  },
  {
   "cell_type": "markdown",
   "metadata": {},
   "source": [
    "# Prototype 2: Basic Sequential NN"
   ]
  },
  {
   "cell_type": "markdown",
   "metadata": {},
   "source": [
    "### Define Model"
   ]
  },
  {
   "cell_type": "code",
   "execution_count": 22,
   "metadata": {},
   "outputs": [],
   "source": [
    "# Define the model\n",
    "model = nn.Sequential(\n",
    "    nn.Linear(X.shape[1], 12),\n",
    "    nn.ReLU(),\n",
    "    nn.Linear(12, 24),\n",
    "    nn.ReLU(),\n",
    "    nn.Linear(24, 24),\n",
    "    nn.ReLU(),\n",
    "    nn.Linear(24, 12),\n",
    "    nn.ReLU(),\n",
    "    nn.Linear(12, 6),\n",
    "    nn.ReLU(),\n",
    "    nn.Linear(6, 1)\n",
    ")"
   ]
  },
  {
   "cell_type": "code",
   "execution_count": 23,
   "metadata": {},
   "outputs": [],
   "source": [
    "# loss function and optimizer\n",
    "loss_fn = nn.MSELoss()\n",
    "optimizer = torch.optim.Adam(model.parameters(), lr=0.0001)"
   ]
  },
  {
   "cell_type": "markdown",
   "metadata": {},
   "source": [
    "### Training"
   ]
  },
  {
   "cell_type": "code",
   "execution_count": 24,
   "metadata": {},
   "outputs": [],
   "source": [
    "# training parameters\n",
    "n_epochs = 300   # number of epochs to run\n",
    "batch_size = 5  # size of each batch\n",
    "batch_start = torch.arange(0, len(X_train), batch_size)"
   ]
  },
  {
   "cell_type": "code",
   "execution_count": 25,
   "metadata": {},
   "outputs": [],
   "source": [
    "X_train_tensor = torch.tensor(X_train, dtype=torch.float32)\n",
    "y_train_tensor = torch.tensor(y_train * 2 - 1, dtype=torch.float32).reshape(-1, 1)\n",
    "X_valid_tensor = torch.tensor(X_valid, dtype=torch.float32)\n",
    "y_valid_tensor = torch.tensor(y_valid * 2 - 1, dtype=torch.float32).reshape(-1, 1)\n",
    "X_test_tensor = torch.tensor(X_test, dtype=torch.float32)\n",
    "y_test_tensor = torch.tensor(y_test * 2 - 1, dtype=torch.float32).reshape(-1, 1)"
   ]
  },
  {
   "cell_type": "code",
   "execution_count": 26,
   "metadata": {},
   "outputs": [
    {
     "name": "stderr",
     "output_type": "stream",
     "text": [
      "Epoch 1:   0%|          | 0/300 [00:00<?, ?it/s]"
     ]
    },
    {
     "name": "stderr",
     "output_type": "stream",
     "text": [
      "Epoch 300: 100%|██████████| 300/300 [02:58<00:00,  1.68it/s, Train_MSE=0.499, Valid_MSE=0.608]\n"
     ]
    }
   ],
   "source": [
    "train_history = []\n",
    "valid_history = []\n",
    " \n",
    "# training loop\n",
    "bar = tqdm(range(n_epochs))\n",
    "for epoch in bar:\n",
    "    model.train()\n",
    "    bar.set_description(f\"Epoch {epoch+1}\")\n",
    "    for start in batch_start:\n",
    "        # take a batch\n",
    "        X_batch = X_train_tensor[start:start+batch_size]\n",
    "        y_batch = y_train_tensor[start:start+batch_size]\n",
    "        # forward pass\n",
    "        y_pred = model(X_batch)\n",
    "        loss = loss_fn(y_pred, y_batch)\n",
    "        # backward pass\n",
    "        optimizer.zero_grad()\n",
    "        loss.backward()\n",
    "        # update weights\n",
    "        optimizer.step()\n",
    "    # evaluate accuracy at end of each epoch\n",
    "    model.eval()\n",
    "    y_pred_train = model(X_train_tensor)\n",
    "    y_pred_valid = model(X_valid_tensor)\n",
    "    train_loss = float(loss_fn(y_pred_train, y_train_tensor))\n",
    "    valid_loss = float(loss_fn(y_pred_valid, y_valid_tensor))\n",
    "    \n",
    "    bar.set_postfix(Train_MSE = float(train_loss), Valid_MSE = float(valid_loss))\n",
    "    train_history.append(train_loss)\n",
    "    valid_history.append(valid_loss)"
   ]
  },
  {
   "cell_type": "code",
   "execution_count": 27,
   "metadata": {},
   "outputs": [
    {
     "data": {
      "text/plain": [
       "[<matplotlib.lines.Line2D at 0x7fe3759ae730>]"
      ]
     },
     "execution_count": 27,
     "metadata": {},
     "output_type": "execute_result"
    },
    {
     "data": {
      "image/png": "[encoded data removed]",
      "text/plain": [
       "<Figure size 640x480 with 1 Axes>"
      ]
     },
     "metadata": {},
     "output_type": "display_data"
    }
   ],
   "source": [
    "plt.plot(train_history, 'gray')\n",
    "plt.plot(valid_history, 'r')"
   ]
  },
  {
   "cell_type": "markdown",
   "metadata": {},
   "source": [
    "### Evaluate Model"
   ]
  },
  {
   "cell_type": "code",
   "execution_count": 79,
   "metadata": {},
   "outputs": [],
   "source": [
    "# train_pred = model.predict(X_train)\n",
    "def standardize_output(arr):\n",
    "    return ((arr - min(arr)) / (max(arr) - min(arr)))\n",
    "\n",
    "def find_best_prob(pred_prob, actual):\n",
    "    best_prob = 0\n",
    "    best_ratio = np.inf\n",
    "    prob_interval = 0.05\n",
    "    with np.errstate(divide='ignore'):\n",
    "        for i in np.arange(0, 1.0, prob_interval):\n",
    "            pred = pred_prob > i\n",
    "            metrics = get_metrics(pred, actual, display=False)\n",
    "            \n",
    "            PLR = metrics[6]\n",
    "            NLR = metrics[7]\n",
    "            ratio = (PLR + NLR)/2\n",
    "\n",
    "            print(f\"{i:.2f}\\t{ratio:0.3f}\\t{((metrics[0] + metrics[3]) / np.sum(metrics[:4]) * 100):.2f}\\t{metrics[:4]}\")\n",
    "\n",
    "            if (ratio < best_ratio):\n",
    "                best_ratio = ratio\n",
    "                best_prob = i\n",
    "    return best_prob"
   ]
  },
  {
   "cell_type": "code",
   "execution_count": 80,
   "metadata": {},
   "outputs": [
    {
     "name": "stdout",
     "output_type": "stream",
     "text": [
      "0.00\t187.501\t21.59\t[1, 374, 0, 102]\n",
      "0.05\t187.501\t21.59\t[1, 374, 0, 102]\n",
      "0.10\t187.501\t21.59\t[1, 374, 0, 102]\n",
      "0.15\t62.504\t22.01\t[3, 372, 0, 102]\n",
      "0.20\t37.507\t22.43\t[5, 370, 0, 102]\n",
      "0.25\t31.258\t22.64\t[6, 369, 0, 102]\n",
      "0.30\t9.402\t25.58\t[20, 355, 0, 102]\n",
      "0.35\t2.102\t40.88\t[94, 281, 1, 101]\n",
      "0.40\t1.052\t63.73\t[221, 154, 19, 83]\n",
      "0.45\t1.040\t75.05\t[297, 78, 41, 61]\n",
      "0.50\t1.587\t78.62\t[342, 33, 69, 33]\n",
      "0.55\t2.389\t78.20\t[352, 23, 81, 21]\n",
      "0.60\t2.797\t78.83\t[358, 17, 84, 18]\n",
      "0.65\t3.597\t79.04\t[363, 12, 88, 14]\n",
      "0.70\t6.279\t78.62\t[367, 8, 94, 8]\n",
      "0.75\t12.498\t77.78\t[367, 8, 98, 4]\n",
      "0.80\tinf\t77.36\t[369, 6, 102, 0]\n",
      "0.85\tinf\t77.99\t[372, 3, 102, 0]\n",
      "0.90\tinf\t78.20\t[373, 2, 102, 0]\n",
      "0.95\tinf\t78.20\t[373, 2, 102, 0]\n",
      "Best Predicted Probability: 0.45\n"
     ]
    }
   ],
   "source": [
    "valid_pred_raw = model(X_valid_tensor).detach().numpy()[:,0]\n",
    "valid_pred_prob = standardize_output(valid_pred_raw)\n",
    "best_prob = find_best_prob(valid_pred_prob, y_valid)\n",
    "valid_pred = valid_pred_prob > best_prob\n",
    "print(f\"Best Predicted Probability: {best_prob}\")\n",
    "\n",
    "test_pred_raw = model(X_test_tensor).detach().numpy()[:,0]\n",
    "test_pred_prob = standardize_output(test_pred_raw)\n",
    "test_pred = test_pred_prob > best_prob"
   ]
  },
  {
   "cell_type": "code",
   "execution_count": 46,
   "metadata": {},
   "outputs": [
    {
     "name": "stdout",
     "output_type": "stream",
     "text": [
      "Validation:\n",
      "Accuracy: 0.7505\n",
      "tn:  297,  fp:  78,  fn:  41, tp:  61\n",
      "Precision:\t\t\t0.43885\n",
      "Recall:\t\t\t\t0.59804\n",
      "TPR:\t\t\t\t0.59804\n",
      "FPR:\t\t\t\t0.79200\n",
      "Positive likelihood ratio:\t0.75510\n",
      "Negative likelihood ratio:\t1.32433\n",
      "===========================\n",
      "Testing:\n",
      "Accuracy: 0.8138\n",
      "tn:  440,  fp:  58,  fn:  53, tp:  45\n",
      "Precision:\t\t\t0.43689\n",
      "Recall:\t\t\t\t0.45918\n",
      "TPR:\t\t\t\t0.45918\n",
      "FPR:\t\t\t\t0.88353\n",
      "Positive likelihood ratio:\t0.51971\n",
      "Negative likelihood ratio:\t1.92414\n"
     ]
    }
   ],
   "source": [
    "print(\"Validation:\")\n",
    "get_metrics(valid_pred, y_valid)\n",
    "print(\"===========================\")\n",
    "print(\"Testing:\")\n",
    "get_metrics(test_pred, y_test)"
   ]
  }
 ],
 "metadata": {
  "kernelspec": {
   "display_name": "Python 3 (ipykernel)",
   "language": "python",
   "name": "python3"
  },
  "language_info": {
   "codemirror_mode": {
    "name": "ipython",
    "version": 3
   },
   "file_extension": ".py",
   "mimetype": "text/x-python",
   "name": "python",
   "nbconvert_exporter": "python",
   "pygments_lexer": "ipython3",
   "version": "3.8.5"
  }
 },
 "nbformat": 4,
 "nbformat_minor": 4
}
