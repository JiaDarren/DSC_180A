{
 "cells": [
  {
   "cell_type": "markdown",
   "metadata": {},
   "source": [
    "# Import Libraries and Data"
   ]
  },
  {
   "cell_type": "code",
   "execution_count": 1,
   "metadata": {},
   "outputs": [],
   "source": [
    "import pandas as pd\n",
    "import matplotlib.pyplot as plt\n",
    "\n",
    "import numpy as np\n",
    "from sklearn.metrics import confusion_matrix\n",
    "from sklearn.model_selection import train_test_split\n",
    "\n",
    "from sklearn import linear_model\n",
    "import torch\n",
    "import torch.nn as nn\n",
    "from tqdm import tqdm\n",
    "import warnings\n",
    "\n",
    "from sklearn.metrics import roc_auc_score\n",
    "\n",
    "from sklearn.exceptions import ConvergenceWarning"
   ]
  },
  {
   "cell_type": "code",
   "execution_count": 2,
   "metadata": {},
   "outputs": [],
   "source": [
    "DATA_PATH = '../data'\n",
    "MODEL_PATH = '../src/models'"
   ]
  },
  {
   "cell_type": "code",
   "execution_count": 3,
   "metadata": {},
   "outputs": [
    {
     "data": {
      "text/html": [
       "<div>\n",
       "<style scoped>\n",
       "    .dataframe tbody tr th:only-of-type {\n",
       "        vertical-align: middle;\n",
       "    }\n",
       "\n",
       "    .dataframe tbody tr th {\n",
       "        vertical-align: top;\n",
       "    }\n",
       "\n",
       "    .dataframe thead th {\n",
       "        text-align: right;\n",
       "    }\n",
       "</style>\n",
       "<table border=\"1\" class=\"dataframe\">\n",
       "  <thead>\n",
       "    <tr style=\"text-align: right;\">\n",
       "      <th></th>\n",
       "      <th>FPF_TARGET</th>\n",
       "      <th>minbalance</th>\n",
       "      <th>maxbalance</th>\n",
       "      <th>stdbalance</th>\n",
       "      <th>total_balance</th>\n",
       "      <th>avg_monthly_spending</th>\n",
       "      <th>num_monthly_purchase</th>\n",
       "      <th>memo_clean</th>\n",
       "      <th>unsufficient_balance</th>\n",
       "      <th>account_count</th>\n",
       "      <th>...</th>\n",
       "      <th>OVERDRAFT_prop</th>\n",
       "      <th>PAYCHECK_prop</th>\n",
       "      <th>PETS_prop</th>\n",
       "      <th>RENT_prop</th>\n",
       "      <th>SELF_TRANSFER_prop</th>\n",
       "      <th>TAX_prop</th>\n",
       "      <th>TRAVEL_prop</th>\n",
       "      <th>UNCATEGORIZED_prop</th>\n",
       "      <th>Overdraft Count</th>\n",
       "      <th>cum_weighted_def_val</th>\n",
       "    </tr>\n",
       "  </thead>\n",
       "  <tbody>\n",
       "    <tr>\n",
       "      <th>0</th>\n",
       "      <td>0.0</td>\n",
       "      <td>0.52</td>\n",
       "      <td>253.01</td>\n",
       "      <td>125.590741</td>\n",
       "      <td>857.150161</td>\n",
       "      <td>5531.648836</td>\n",
       "      <td>79.521124</td>\n",
       "      <td>2.0</td>\n",
       "      <td>5</td>\n",
       "      <td>5</td>\n",
       "      <td>...</td>\n",
       "      <td>0.000000</td>\n",
       "      <td>0.0</td>\n",
       "      <td>0.000498</td>\n",
       "      <td>0.0</td>\n",
       "      <td>0.142151</td>\n",
       "      <td>0.000000</td>\n",
       "      <td>0.000830</td>\n",
       "      <td>0.089842</td>\n",
       "      <td>0.0</td>\n",
       "      <td>0.000000</td>\n",
       "    </tr>\n",
       "    <tr>\n",
       "      <th>1</th>\n",
       "      <td>0.0</td>\n",
       "      <td>6.11</td>\n",
       "      <td>31564.64</td>\n",
       "      <td>13215.093678</td>\n",
       "      <td>43016.714011</td>\n",
       "      <td>64529.528960</td>\n",
       "      <td>160.211203</td>\n",
       "      <td>0.0</td>\n",
       "      <td>4</td>\n",
       "      <td>4</td>\n",
       "      <td>...</td>\n",
       "      <td>0.000000</td>\n",
       "      <td>0.0</td>\n",
       "      <td>0.000000</td>\n",
       "      <td>0.0</td>\n",
       "      <td>0.016751</td>\n",
       "      <td>0.001093</td>\n",
       "      <td>0.004267</td>\n",
       "      <td>0.246412</td>\n",
       "      <td>0.0</td>\n",
       "      <td>0.000000</td>\n",
       "    </tr>\n",
       "    <tr>\n",
       "      <th>2</th>\n",
       "      <td>0.0</td>\n",
       "      <td>1092.82</td>\n",
       "      <td>31229.66</td>\n",
       "      <td>17278.364208</td>\n",
       "      <td>14667.666944</td>\n",
       "      <td>16997.552350</td>\n",
       "      <td>92.855324</td>\n",
       "      <td>0.0</td>\n",
       "      <td>3</td>\n",
       "      <td>3</td>\n",
       "      <td>...</td>\n",
       "      <td>0.000000</td>\n",
       "      <td>0.0</td>\n",
       "      <td>0.000000</td>\n",
       "      <td>0.0</td>\n",
       "      <td>0.261025</td>\n",
       "      <td>0.000000</td>\n",
       "      <td>0.002219</td>\n",
       "      <td>0.001825</td>\n",
       "      <td>0.0</td>\n",
       "      <td>0.000000</td>\n",
       "    </tr>\n",
       "    <tr>\n",
       "      <th>3</th>\n",
       "      <td>0.0</td>\n",
       "      <td>40.45</td>\n",
       "      <td>6425.61</td>\n",
       "      <td>4514.989935</td>\n",
       "      <td>-4188.933058</td>\n",
       "      <td>9778.291345</td>\n",
       "      <td>95.104454</td>\n",
       "      <td>0.0</td>\n",
       "      <td>2</td>\n",
       "      <td>2</td>\n",
       "      <td>...</td>\n",
       "      <td>0.000000</td>\n",
       "      <td>0.0</td>\n",
       "      <td>0.011885</td>\n",
       "      <td>0.0</td>\n",
       "      <td>0.000000</td>\n",
       "      <td>0.000000</td>\n",
       "      <td>0.000142</td>\n",
       "      <td>0.016086</td>\n",
       "      <td>0.0</td>\n",
       "      <td>0.000000</td>\n",
       "    </tr>\n",
       "    <tr>\n",
       "      <th>4</th>\n",
       "      <td>0.0</td>\n",
       "      <td>0.40</td>\n",
       "      <td>1009.99</td>\n",
       "      <td>438.528721</td>\n",
       "      <td>-2630.480387</td>\n",
       "      <td>16837.676865</td>\n",
       "      <td>119.566068</td>\n",
       "      <td>0.0</td>\n",
       "      <td>4</td>\n",
       "      <td>4</td>\n",
       "      <td>...</td>\n",
       "      <td>0.057938</td>\n",
       "      <td>0.0</td>\n",
       "      <td>0.001095</td>\n",
       "      <td>0.0</td>\n",
       "      <td>0.000000</td>\n",
       "      <td>0.000000</td>\n",
       "      <td>0.016481</td>\n",
       "      <td>0.140562</td>\n",
       "      <td>1.0</td>\n",
       "      <td>318.890041</td>\n",
       "    </tr>\n",
       "  </tbody>\n",
       "</table>\n",
       "<p>5 rows × 240 columns</p>\n",
       "</div>"
      ],
      "text/plain": [
       "   FPF_TARGET  minbalance  maxbalance    stdbalance  total_balance  \\\n",
       "0         0.0        0.52      253.01    125.590741     857.150161   \n",
       "1         0.0        6.11    31564.64  13215.093678   43016.714011   \n",
       "2         0.0     1092.82    31229.66  17278.364208   14667.666944   \n",
       "3         0.0       40.45     6425.61   4514.989935   -4188.933058   \n",
       "4         0.0        0.40     1009.99    438.528721   -2630.480387   \n",
       "\n",
       "   avg_monthly_spending  num_monthly_purchase  memo_clean  \\\n",
       "0           5531.648836             79.521124         2.0   \n",
       "1          64529.528960            160.211203         0.0   \n",
       "2          16997.552350             92.855324         0.0   \n",
       "3           9778.291345             95.104454         0.0   \n",
       "4          16837.676865            119.566068         0.0   \n",
       "\n",
       "   unsufficient_balance  account_count  ...  OVERDRAFT_prop  PAYCHECK_prop  \\\n",
       "0                     5              5  ...        0.000000            0.0   \n",
       "1                     4              4  ...        0.000000            0.0   \n",
       "2                     3              3  ...        0.000000            0.0   \n",
       "3                     2              2  ...        0.000000            0.0   \n",
       "4                     4              4  ...        0.057938            0.0   \n",
       "\n",
       "   PETS_prop  RENT_prop  SELF_TRANSFER_prop  TAX_prop  TRAVEL_prop  \\\n",
       "0   0.000498        0.0            0.142151  0.000000     0.000830   \n",
       "1   0.000000        0.0            0.016751  0.001093     0.004267   \n",
       "2   0.000000        0.0            0.261025  0.000000     0.002219   \n",
       "3   0.011885        0.0            0.000000  0.000000     0.000142   \n",
       "4   0.001095        0.0            0.000000  0.000000     0.016481   \n",
       "\n",
       "   UNCATEGORIZED_prop  Overdraft Count  cum_weighted_def_val  \n",
       "0            0.089842              0.0              0.000000  \n",
       "1            0.246412              0.0              0.000000  \n",
       "2            0.001825              0.0              0.000000  \n",
       "3            0.016086              0.0              0.000000  \n",
       "4            0.140562              1.0            318.890041  \n",
       "\n",
       "[5 rows x 240 columns]"
      ]
     },
     "execution_count": 3,
     "metadata": {},
     "output_type": "execute_result"
    }
   ],
   "source": [
    "feature_matrix = pd.read_csv(f'{DATA_PATH}/processed/feature_matrix.csv')\n",
    "feature_matrix.head()"
   ]
  },
  {
   "cell_type": "markdown",
   "metadata": {},
   "source": [
    "# Define Functions\n",
    "### Utility Functions"
   ]
  },
  {
   "cell_type": "code",
   "execution_count": 4,
   "metadata": {},
   "outputs": [],
   "source": [
    "def train_valid_test_split(X, y, TEST_SIZE=0.2, random_state=42):\n",
    "    X_train, X_test, y_train, y_test = train_test_split(\n",
    "        X, \n",
    "        y, \n",
    "        test_size = TEST_SIZE, \n",
    "        random_state=random_state\n",
    "    )\n",
    "\n",
    "    X_train, X_valid, y_train, y_valid = train_test_split(\n",
    "        X_train, \n",
    "        y_train, \n",
    "        test_size = TEST_SIZE, \n",
    "        random_state=random_state\n",
    "    )\n",
    "\n",
    "    return X_train, X_valid, X_test, y_train, y_valid, y_test"
   ]
  },
  {
   "cell_type": "code",
   "execution_count": 5,
   "metadata": {},
   "outputs": [],
   "source": [
    "def get_metrics(pred, actual, display=True):\n",
    "    cm = confusion_matrix(actual, pred)\n",
    "    tn, fp, fn, tp = cm.ravel()\n",
    "\n",
    "    TPR = tp / (tp + fn)\n",
    "    FPR = tn / (tn + fp)\n",
    "    roc_auc = roc_auc_score(actual, pred)\n",
    "    if (display):\n",
    "        print(f\"Accuracy: {np.mean(pred == actual):.4f}\")\n",
    "        print(f\"tn:  {tn},  fp:  {fp},  fn:  {fn}, tp:  {tp}\")\n",
    "        print(f\"Precision:\\t\\t\\t{tp / (tp + fp):.5f}\")\n",
    "        print(f\"Recall:\\t\\t\\t\\t{tp / (tp + fn):.5f}\")\n",
    "        print(f\"TPR:\\t\\t\\t\\t{TPR:.5f}\")\n",
    "        print(f\"FPR:\\t\\t\\t\\t{FPR:.5f}\")\n",
    "        print(f\"Positive likelihood ratio:\\t{TPR/FPR:.5f}\")\n",
    "        print(f\"Negative likelihood ratio:\\t{FPR/TPR:.5f}\")\n",
    "        print(f\"ROC-AUC Score:\\t{roc_auc:.5f}\")\n",
    "        return\n",
    "    return [tn, fp, fn, tp, TPR, FPR, TPR/FPR, FPR/TPR, roc_auc]"
   ]
  },
  {
   "cell_type": "markdown",
   "metadata": {},
   "source": [
    "### Sequential Neural Net Functions"
   ]
  },
  {
   "cell_type": "code",
   "execution_count": 6,
   "metadata": {},
   "outputs": [],
   "source": [
    "def train_SNN(\n",
    "        model, \n",
    "        loss_fn, \n",
    "        optimizer, \n",
    "        X_train_tensor, \n",
    "        y_train_tensor, \n",
    "        X_valid_tensor, \n",
    "        y_valid_tensor, \n",
    "        n_epochs=300,\n",
    "        batch_size=16, \n",
    "        display=True):\n",
    "    \n",
    "    batch_start = torch.arange(0, X_train_tensor.shape[0], batch_size)\n",
    "    train_history = []\n",
    "    valid_history = []\n",
    "    best_valid = np.inf\n",
    "    \n",
    "    # training loop\n",
    "    bar = tqdm(range(n_epochs))\n",
    "    for epoch in bar:\n",
    "        model.train()\n",
    "        bar.set_description(f\"Epoch {epoch+1}\")\n",
    "        for start in batch_start:\n",
    "            # take a batch\n",
    "            X_batch = X_train_tensor[start:start+batch_size]\n",
    "            y_batch = y_train_tensor[start:start+batch_size]\n",
    "            # forward pass\n",
    "            y_pred = model(X_batch)\n",
    "            loss = loss_fn(y_pred, y_batch)\n",
    "            # backward pass\n",
    "            optimizer.zero_grad()\n",
    "            loss.backward()\n",
    "            # update weights\n",
    "            optimizer.step()\n",
    "        # evaluate accuracy at end of each epoch\n",
    "        model.eval()\n",
    "        y_pred_train = model(X_train_tensor)\n",
    "        y_pred_valid = model(X_valid_tensor)\n",
    "        train_loss = float(loss_fn(y_pred_train, y_train_tensor))\n",
    "        valid_loss = float(loss_fn(y_pred_valid, y_valid_tensor))\n",
    "        \n",
    "        bar.set_postfix(Train_MSE = float(train_loss), Valid_MSE = float(valid_loss))\n",
    "        train_history.append(train_loss)\n",
    "        valid_history.append(valid_loss)\n",
    "\n",
    "        if (valid_loss < best_valid):\n",
    "            torch.save(model.state_dict(), f'{MODEL_PATH}/nn_base_params.pt')\n",
    "\n",
    "    if display:\n",
    "        print(f\"Best Epoch: {np.argmin(valid_history)}\")\n",
    "        print(f\"Loss: {np.min(valid_history)}\")\n",
    "    model.load_state_dict(torch.load(f'{MODEL_PATH}/nn_base_params.pt'))\n",
    "    return model, train_history, valid_history"
   ]
  },
  {
   "cell_type": "code",
   "execution_count": 7,
   "metadata": {},
   "outputs": [],
   "source": [
    "def find_best_prob(pred_prob, actual, display=True):\n",
    "    best_prob = 0\n",
    "    best_ratio = np.inf\n",
    "    prob_interval = 0.05\n",
    "    with np.errstate(divide='ignore'):\n",
    "        if display:\n",
    "            print(\n",
    "                f\"i\\t\" + \n",
    "                f\"ratio\\t\" + \n",
    "                f\"roc_auc\\t\" + \n",
    "                f\"acc\\t\" + \n",
    "                f\"conf_matrix\" + \n",
    "                \"\\n===================================================\"\n",
    "            )\n",
    "        for i in np.arange(0, 1.0, prob_interval):\n",
    "            pred = pred_prob > i\n",
    "            metrics = get_metrics(pred, actual, display=False)\n",
    "            \n",
    "            PLR = metrics[6]\n",
    "            NLR = metrics[7]\n",
    "            roc_auc = metrics[8]\n",
    "            ratio = (PLR + NLR)/2\n",
    "\n",
    "            if display:\n",
    "                print(\n",
    "                    f\"{i:.2f}\\t\" + \n",
    "                    f\"{ratio:0.3f}\\t\" + \n",
    "                    f\"{roc_auc:0.3f}\\t\" + \n",
    "                    f\"{((metrics[0] + metrics[3]) / np.sum(metrics[:4]) * 100):.2f}\\t\" + \n",
    "                    f\"{metrics[:4]}\"\n",
    "                )\n",
    "\n",
    "            if (ratio < best_ratio):\n",
    "                best_ratio = ratio\n",
    "                best_prob = i\n",
    "    if display: print(f\"Best Threshold: {best_prob:0.2f}\")\n",
    "    return best_prob"
   ]
  },
  {
   "cell_type": "markdown",
   "metadata": {},
   "source": [
    "# Randomize Features and Evaluate Impact"
   ]
  },
  {
   "cell_type": "code",
   "execution_count": 8,
   "metadata": {},
   "outputs": [],
   "source": [
    "X = feature_matrix.iloc[:,1:].to_numpy()\n",
    "y = feature_matrix.iloc[:,0].to_numpy()"
   ]
  },
  {
   "cell_type": "code",
   "execution_count": 9,
   "metadata": {},
   "outputs": [
    {
     "name": "stdout",
     "output_type": "stream",
     "text": [
      "Evaluating Feature 1/240\n"
     ]
    },
    {
     "name": "stderr",
     "output_type": "stream",
     "text": [
      "Epoch 200: 100%|██████████| 200/200 [00:13<00:00, 15.12it/s, Train_MSE=0.157, Valid_MSE=0.817]\n"
     ]
    },
    {
     "name": "stdout",
     "output_type": "stream",
     "text": [
      "Evaluating Feature 2/240\n"
     ]
    },
    {
     "name": "stderr",
     "output_type": "stream",
     "text": [
      "Epoch 200: 100%|██████████| 200/200 [00:13<00:00, 15.23it/s, Train_MSE=0.177, Valid_MSE=0.727]\n"
     ]
    },
    {
     "name": "stdout",
     "output_type": "stream",
     "text": [
      "Evaluating Feature 3/240\n"
     ]
    },
    {
     "name": "stderr",
     "output_type": "stream",
     "text": [
      "Epoch 200: 100%|██████████| 200/200 [00:13<00:00, 15.23it/s, Train_MSE=0.221, Valid_MSE=0.59] \n"
     ]
    },
    {
     "name": "stdout",
     "output_type": "stream",
     "text": [
      "Evaluating Feature 4/240\n"
     ]
    },
    {
     "name": "stderr",
     "output_type": "stream",
     "text": [
      "Epoch 200: 100%|██████████| 200/200 [00:14<00:00, 13.87it/s, Train_MSE=0.199, Valid_MSE=0.747]\n"
     ]
    },
    {
     "name": "stdout",
     "output_type": "stream",
     "text": [
      "Evaluating Feature 5/240\n"
     ]
    },
    {
     "name": "stderr",
     "output_type": "stream",
     "text": [
      "Epoch 200: 100%|██████████| 200/200 [00:13<00:00, 14.79it/s, Train_MSE=0.259, Valid_MSE=0.536]\n"
     ]
    },
    {
     "name": "stdout",
     "output_type": "stream",
     "text": [
      "Evaluating Feature 6/240\n"
     ]
    },
    {
     "name": "stderr",
     "output_type": "stream",
     "text": [
      "Epoch 200: 100%|██████████| 200/200 [00:12<00:00, 15.43it/s, Train_MSE=0.219, Valid_MSE=0.687]\n"
     ]
    },
    {
     "name": "stdout",
     "output_type": "stream",
     "text": [
      "Evaluating Feature 7/240\n"
     ]
    },
    {
     "name": "stderr",
     "output_type": "stream",
     "text": [
      "Epoch 200: 100%|██████████| 200/200 [00:12<00:00, 15.41it/s, Train_MSE=0.274, Valid_MSE=0.605]\n"
     ]
    },
    {
     "name": "stdout",
     "output_type": "stream",
     "text": [
      "Evaluating Feature 8/240\n"
     ]
    },
    {
     "name": "stderr",
     "output_type": "stream",
     "text": [
      "Epoch 200: 100%|██████████| 200/200 [00:12<00:00, 15.42it/s, Train_MSE=0.218, Valid_MSE=0.542]\n"
     ]
    },
    {
     "name": "stdout",
     "output_type": "stream",
     "text": [
      "Evaluating Feature 9/240\n"
     ]
    },
    {
     "name": "stderr",
     "output_type": "stream",
     "text": [
      "Epoch 200: 100%|██████████| 200/200 [00:13<00:00, 15.10it/s, Train_MSE=0.247, Valid_MSE=0.547]\n"
     ]
    },
    {
     "name": "stdout",
     "output_type": "stream",
     "text": [
      "Evaluating Feature 10/240\n"
     ]
    },
    {
     "name": "stderr",
     "output_type": "stream",
     "text": [
      "Epoch 200: 100%|██████████| 200/200 [00:12<00:00, 15.49it/s, Train_MSE=0.246, Valid_MSE=0.475]\n"
     ]
    },
    {
     "name": "stdout",
     "output_type": "stream",
     "text": [
      "Evaluating Feature 11/240\n"
     ]
    },
    {
     "name": "stderr",
     "output_type": "stream",
     "text": [
      "Epoch 200: 100%|██████████| 200/200 [00:13<00:00, 14.89it/s, Train_MSE=0.267, Valid_MSE=0.519]\n"
     ]
    },
    {
     "name": "stdout",
     "output_type": "stream",
     "text": [
      "Evaluating Feature 12/240\n"
     ]
    },
    {
     "name": "stderr",
     "output_type": "stream",
     "text": [
      "Epoch 200: 100%|██████████| 200/200 [00:12<00:00, 15.56it/s, Train_MSE=0.248, Valid_MSE=0.538]\n"
     ]
    },
    {
     "name": "stdout",
     "output_type": "stream",
     "text": [
      "Evaluating Feature 13/240\n"
     ]
    },
    {
     "name": "stderr",
     "output_type": "stream",
     "text": [
      "Epoch 200: 100%|██████████| 200/200 [00:13<00:00, 15.31it/s, Train_MSE=0.213, Valid_MSE=0.573]\n"
     ]
    },
    {
     "name": "stdout",
     "output_type": "stream",
     "text": [
      "Evaluating Feature 14/240\n"
     ]
    },
    {
     "name": "stderr",
     "output_type": "stream",
     "text": [
      "Epoch 200: 100%|██████████| 200/200 [00:12<00:00, 15.45it/s, Train_MSE=0.187, Valid_MSE=0.763]\n"
     ]
    },
    {
     "name": "stdout",
     "output_type": "stream",
     "text": [
      "Evaluating Feature 15/240\n"
     ]
    },
    {
     "name": "stderr",
     "output_type": "stream",
     "text": [
      "Epoch 200: 100%|██████████| 200/200 [00:14<00:00, 14.10it/s, Train_MSE=0.199, Valid_MSE=0.762]\n"
     ]
    },
    {
     "name": "stdout",
     "output_type": "stream",
     "text": [
      "Evaluating Feature 16/240\n"
     ]
    },
    {
     "name": "stderr",
     "output_type": "stream",
     "text": [
      "Epoch 200: 100%|██████████| 200/200 [00:13<00:00, 15.03it/s, Train_MSE=0.246, Valid_MSE=0.569]\n"
     ]
    },
    {
     "name": "stdout",
     "output_type": "stream",
     "text": [
      "Evaluating Feature 17/240\n"
     ]
    },
    {
     "name": "stderr",
     "output_type": "stream",
     "text": [
      "Epoch 200: 100%|██████████| 200/200 [00:12<00:00, 15.45it/s, Train_MSE=0.221, Valid_MSE=0.57] \n"
     ]
    },
    {
     "name": "stdout",
     "output_type": "stream",
     "text": [
      "Evaluating Feature 18/240\n"
     ]
    },
    {
     "name": "stderr",
     "output_type": "stream",
     "text": [
      "Epoch 200: 100%|██████████| 200/200 [00:13<00:00, 15.06it/s, Train_MSE=0.204, Valid_MSE=0.565]\n"
     ]
    },
    {
     "name": "stdout",
     "output_type": "stream",
     "text": [
      "Evaluating Feature 19/240\n"
     ]
    },
    {
     "name": "stderr",
     "output_type": "stream",
     "text": [
      "Epoch 200: 100%|██████████| 200/200 [00:12<00:00, 15.67it/s, Train_MSE=0.222, Valid_MSE=0.539]\n"
     ]
    },
    {
     "name": "stdout",
     "output_type": "stream",
     "text": [
      "Evaluating Feature 20/240\n"
     ]
    },
    {
     "name": "stderr",
     "output_type": "stream",
     "text": [
      "Epoch 200: 100%|██████████| 200/200 [00:13<00:00, 15.02it/s, Train_MSE=0.216, Valid_MSE=0.563]\n"
     ]
    },
    {
     "name": "stdout",
     "output_type": "stream",
     "text": [
      "Evaluating Feature 21/240\n"
     ]
    },
    {
     "name": "stderr",
     "output_type": "stream",
     "text": [
      "Epoch 200: 100%|██████████| 200/200 [00:12<00:00, 15.43it/s, Train_MSE=0.266, Valid_MSE=0.478]\n"
     ]
    },
    {
     "name": "stdout",
     "output_type": "stream",
     "text": [
      "Evaluating Feature 22/240\n"
     ]
    },
    {
     "name": "stderr",
     "output_type": "stream",
     "text": [
      "Epoch 200: 100%|██████████| 200/200 [00:12<00:00, 15.54it/s, Train_MSE=0.294, Valid_MSE=0.684]\n"
     ]
    },
    {
     "name": "stdout",
     "output_type": "stream",
     "text": [
      "Evaluating Feature 23/240\n"
     ]
    },
    {
     "name": "stderr",
     "output_type": "stream",
     "text": [
      "Epoch 200: 100%|██████████| 200/200 [00:13<00:00, 15.30it/s, Train_MSE=0.263, Valid_MSE=0.556]\n"
     ]
    },
    {
     "name": "stdout",
     "output_type": "stream",
     "text": [
      "Evaluating Feature 24/240\n"
     ]
    },
    {
     "name": "stderr",
     "output_type": "stream",
     "text": [
      "Epoch 200: 100%|██████████| 200/200 [00:12<00:00, 15.50it/s, Train_MSE=0.239, Valid_MSE=0.568]\n"
     ]
    },
    {
     "name": "stdout",
     "output_type": "stream",
     "text": [
      "Evaluating Feature 25/240\n"
     ]
    },
    {
     "name": "stderr",
     "output_type": "stream",
     "text": [
      "Epoch 200: 100%|██████████| 200/200 [00:13<00:00, 15.30it/s, Train_MSE=0.204, Valid_MSE=0.853]\n"
     ]
    },
    {
     "name": "stdout",
     "output_type": "stream",
     "text": [
      "Evaluating Feature 26/240\n"
     ]
    },
    {
     "name": "stderr",
     "output_type": "stream",
     "text": [
      "Epoch 200: 100%|██████████| 200/200 [00:13<00:00, 14.55it/s, Train_MSE=0.267, Valid_MSE=0.51] \n"
     ]
    },
    {
     "name": "stdout",
     "output_type": "stream",
     "text": [
      "Evaluating Feature 27/240\n"
     ]
    },
    {
     "name": "stderr",
     "output_type": "stream",
     "text": [
      "Epoch 200: 100%|██████████| 200/200 [00:13<00:00, 14.80it/s, Train_MSE=0.216, Valid_MSE=0.625]\n"
     ]
    },
    {
     "name": "stdout",
     "output_type": "stream",
     "text": [
      "Evaluating Feature 28/240\n"
     ]
    },
    {
     "name": "stderr",
     "output_type": "stream",
     "text": [
      "Epoch 200: 100%|██████████| 200/200 [00:13<00:00, 15.17it/s, Train_MSE=0.198, Valid_MSE=0.635]\n"
     ]
    },
    {
     "name": "stdout",
     "output_type": "stream",
     "text": [
      "Evaluating Feature 29/240\n"
     ]
    },
    {
     "name": "stderr",
     "output_type": "stream",
     "text": [
      "Epoch 200: 100%|██████████| 200/200 [00:12<00:00, 15.83it/s, Train_MSE=0.204, Valid_MSE=0.615]\n"
     ]
    },
    {
     "name": "stdout",
     "output_type": "stream",
     "text": [
      "Evaluating Feature 30/240\n"
     ]
    },
    {
     "name": "stderr",
     "output_type": "stream",
     "text": [
      "Epoch 200: 100%|██████████| 200/200 [00:14<00:00, 13.47it/s, Train_MSE=0.353, Valid_MSE=0.757]\n"
     ]
    },
    {
     "name": "stdout",
     "output_type": "stream",
     "text": [
      "Evaluating Feature 31/240\n"
     ]
    },
    {
     "name": "stderr",
     "output_type": "stream",
     "text": [
      "Epoch 200: 100%|██████████| 200/200 [00:12<00:00, 15.53it/s, Train_MSE=0.24, Valid_MSE=0.725] \n"
     ]
    },
    {
     "name": "stdout",
     "output_type": "stream",
     "text": [
      "Evaluating Feature 32/240\n"
     ]
    },
    {
     "name": "stderr",
     "output_type": "stream",
     "text": [
      "Epoch 200: 100%|██████████| 200/200 [00:12<00:00, 15.66it/s, Train_MSE=0.251, Valid_MSE=0.73] \n"
     ]
    },
    {
     "name": "stdout",
     "output_type": "stream",
     "text": [
      "Evaluating Feature 33/240\n"
     ]
    },
    {
     "name": "stderr",
     "output_type": "stream",
     "text": [
      "Epoch 200: 100%|██████████| 200/200 [00:13<00:00, 15.37it/s, Train_MSE=0.215, Valid_MSE=0.53] \n"
     ]
    },
    {
     "name": "stdout",
     "output_type": "stream",
     "text": [
      "Evaluating Feature 34/240\n"
     ]
    },
    {
     "name": "stderr",
     "output_type": "stream",
     "text": [
      "Epoch 200: 100%|██████████| 200/200 [00:13<00:00, 15.20it/s, Train_MSE=0.255, Valid_MSE=0.642]\n"
     ]
    },
    {
     "name": "stdout",
     "output_type": "stream",
     "text": [
      "Evaluating Feature 35/240\n"
     ]
    },
    {
     "name": "stderr",
     "output_type": "stream",
     "text": [
      "Epoch 200: 100%|██████████| 200/200 [00:13<00:00, 15.27it/s, Train_MSE=0.232, Valid_MSE=0.868]\n"
     ]
    },
    {
     "name": "stdout",
     "output_type": "stream",
     "text": [
      "Evaluating Feature 36/240\n"
     ]
    },
    {
     "name": "stderr",
     "output_type": "stream",
     "text": [
      "Epoch 200: 100%|██████████| 200/200 [00:12<00:00, 15.39it/s, Train_MSE=0.239, Valid_MSE=0.534]\n"
     ]
    },
    {
     "name": "stdout",
     "output_type": "stream",
     "text": [
      "Evaluating Feature 37/240\n"
     ]
    },
    {
     "name": "stderr",
     "output_type": "stream",
     "text": [
      "Epoch 200: 100%|██████████| 200/200 [00:12<00:00, 15.48it/s, Train_MSE=0.195, Valid_MSE=0.515]\n"
     ]
    },
    {
     "name": "stdout",
     "output_type": "stream",
     "text": [
      "Evaluating Feature 38/240\n"
     ]
    },
    {
     "name": "stderr",
     "output_type": "stream",
     "text": [
      "Epoch 200: 100%|██████████| 200/200 [00:13<00:00, 15.32it/s, Train_MSE=0.285, Valid_MSE=0.533]\n"
     ]
    },
    {
     "name": "stdout",
     "output_type": "stream",
     "text": [
      "Evaluating Feature 39/240\n"
     ]
    },
    {
     "name": "stderr",
     "output_type": "stream",
     "text": [
      "Epoch 200: 100%|██████████| 200/200 [00:13<00:00, 14.65it/s, Train_MSE=0.223, Valid_MSE=1.05] \n"
     ]
    },
    {
     "name": "stdout",
     "output_type": "stream",
     "text": [
      "Evaluating Feature 40/240\n"
     ]
    },
    {
     "name": "stderr",
     "output_type": "stream",
     "text": [
      "Epoch 200: 100%|██████████| 200/200 [00:13<00:00, 15.24it/s, Train_MSE=0.173, Valid_MSE=0.764]\n"
     ]
    },
    {
     "name": "stdout",
     "output_type": "stream",
     "text": [
      "Evaluating Feature 41/240\n"
     ]
    },
    {
     "name": "stderr",
     "output_type": "stream",
     "text": [
      "Epoch 200: 100%|██████████| 200/200 [00:13<00:00, 14.95it/s, Train_MSE=0.24, Valid_MSE=0.712] \n"
     ]
    },
    {
     "name": "stdout",
     "output_type": "stream",
     "text": [
      "Evaluating Feature 42/240\n"
     ]
    },
    {
     "name": "stderr",
     "output_type": "stream",
     "text": [
      "Epoch 200: 100%|██████████| 200/200 [00:13<00:00, 15.26it/s, Train_MSE=0.245, Valid_MSE=0.563]\n"
     ]
    },
    {
     "name": "stdout",
     "output_type": "stream",
     "text": [
      "Evaluating Feature 43/240\n"
     ]
    },
    {
     "name": "stderr",
     "output_type": "stream",
     "text": [
      "Epoch 200: 100%|██████████| 200/200 [00:12<00:00, 15.48it/s, Train_MSE=0.234, Valid_MSE=0.5]  \n"
     ]
    },
    {
     "name": "stdout",
     "output_type": "stream",
     "text": [
      "Evaluating Feature 44/240\n"
     ]
    },
    {
     "name": "stderr",
     "output_type": "stream",
     "text": [
      "Epoch 200: 100%|██████████| 200/200 [00:13<00:00, 14.84it/s, Train_MSE=0.229, Valid_MSE=0.964]\n"
     ]
    },
    {
     "name": "stdout",
     "output_type": "stream",
     "text": [
      "Evaluating Feature 45/240\n"
     ]
    },
    {
     "name": "stderr",
     "output_type": "stream",
     "text": [
      "Epoch 200: 100%|██████████| 200/200 [00:13<00:00, 15.21it/s, Train_MSE=0.258, Valid_MSE=0.693]\n"
     ]
    },
    {
     "name": "stdout",
     "output_type": "stream",
     "text": [
      "Evaluating Feature 46/240\n"
     ]
    },
    {
     "name": "stderr",
     "output_type": "stream",
     "text": [
      "Epoch 200: 100%|██████████| 200/200 [00:14<00:00, 13.63it/s, Train_MSE=0.246, Valid_MSE=0.548]\n"
     ]
    },
    {
     "name": "stdout",
     "output_type": "stream",
     "text": [
      "Evaluating Feature 47/240\n"
     ]
    },
    {
     "name": "stderr",
     "output_type": "stream",
     "text": [
      "Epoch 200: 100%|██████████| 200/200 [00:12<00:00, 15.55it/s, Train_MSE=0.211, Valid_MSE=0.625]\n"
     ]
    },
    {
     "name": "stdout",
     "output_type": "stream",
     "text": [
      "Evaluating Feature 48/240\n"
     ]
    },
    {
     "name": "stderr",
     "output_type": "stream",
     "text": [
      "Epoch 200: 100%|██████████| 200/200 [00:12<00:00, 16.01it/s, Train_MSE=0.221, Valid_MSE=0.593]\n"
     ]
    },
    {
     "name": "stdout",
     "output_type": "stream",
     "text": [
      "Evaluating Feature 49/240\n"
     ]
    },
    {
     "name": "stderr",
     "output_type": "stream",
     "text": [
      "Epoch 200: 100%|██████████| 200/200 [00:12<00:00, 16.21it/s, Train_MSE=0.234, Valid_MSE=0.591]\n"
     ]
    },
    {
     "name": "stdout",
     "output_type": "stream",
     "text": [
      "Evaluating Feature 50/240\n"
     ]
    },
    {
     "name": "stderr",
     "output_type": "stream",
     "text": [
      "Epoch 200: 100%|██████████| 200/200 [00:12<00:00, 15.89it/s, Train_MSE=0.211, Valid_MSE=1.08] \n"
     ]
    },
    {
     "name": "stdout",
     "output_type": "stream",
     "text": [
      "Evaluating Feature 51/240\n"
     ]
    },
    {
     "name": "stderr",
     "output_type": "stream",
     "text": [
      "Epoch 200: 100%|██████████| 200/200 [00:13<00:00, 15.30it/s, Train_MSE=0.23, Valid_MSE=0.911] \n"
     ]
    },
    {
     "name": "stdout",
     "output_type": "stream",
     "text": [
      "Evaluating Feature 52/240\n"
     ]
    },
    {
     "name": "stderr",
     "output_type": "stream",
     "text": [
      "Epoch 200: 100%|██████████| 200/200 [00:12<00:00, 15.55it/s, Train_MSE=0.233, Valid_MSE=0.616]\n"
     ]
    },
    {
     "name": "stdout",
     "output_type": "stream",
     "text": [
      "Evaluating Feature 53/240\n"
     ]
    },
    {
     "name": "stderr",
     "output_type": "stream",
     "text": [
      "Epoch 200: 100%|██████████| 200/200 [00:13<00:00, 15.05it/s, Train_MSE=0.259, Valid_MSE=0.532]\n"
     ]
    },
    {
     "name": "stdout",
     "output_type": "stream",
     "text": [
      "Evaluating Feature 54/240\n"
     ]
    },
    {
     "name": "stderr",
     "output_type": "stream",
     "text": [
      "Epoch 200: 100%|██████████| 200/200 [00:12<00:00, 15.58it/s, Train_MSE=0.231, Valid_MSE=0.577]\n"
     ]
    },
    {
     "name": "stdout",
     "output_type": "stream",
     "text": [
      "Evaluating Feature 55/240\n"
     ]
    },
    {
     "name": "stderr",
     "output_type": "stream",
     "text": [
      "Epoch 200: 100%|██████████| 200/200 [00:13<00:00, 15.19it/s, Train_MSE=0.2, Valid_MSE=0.663]  \n"
     ]
    },
    {
     "name": "stdout",
     "output_type": "stream",
     "text": [
      "Evaluating Feature 56/240\n"
     ]
    },
    {
     "name": "stderr",
     "output_type": "stream",
     "text": [
      "Epoch 200: 100%|██████████| 200/200 [00:13<00:00, 15.02it/s, Train_MSE=0.231, Valid_MSE=0.661]\n"
     ]
    },
    {
     "name": "stdout",
     "output_type": "stream",
     "text": [
      "Evaluating Feature 57/240\n"
     ]
    },
    {
     "name": "stderr",
     "output_type": "stream",
     "text": [
      "Epoch 200: 100%|██████████| 200/200 [00:13<00:00, 15.30it/s, Train_MSE=0.481, Valid_MSE=0.839]\n"
     ]
    },
    {
     "name": "stdout",
     "output_type": "stream",
     "text": [
      "Evaluating Feature 58/240\n"
     ]
    },
    {
     "name": "stderr",
     "output_type": "stream",
     "text": [
      "Epoch 200: 100%|██████████| 200/200 [00:16<00:00, 12.11it/s, Train_MSE=0.215, Valid_MSE=0.607]\n"
     ]
    },
    {
     "name": "stdout",
     "output_type": "stream",
     "text": [
      "Evaluating Feature 59/240\n"
     ]
    },
    {
     "name": "stderr",
     "output_type": "stream",
     "text": [
      "Epoch 200: 100%|██████████| 200/200 [00:12<00:00, 15.42it/s, Train_MSE=0.207, Valid_MSE=0.932]\n"
     ]
    },
    {
     "name": "stdout",
     "output_type": "stream",
     "text": [
      "Evaluating Feature 60/240\n"
     ]
    },
    {
     "name": "stderr",
     "output_type": "stream",
     "text": [
      "Epoch 200: 100%|██████████| 200/200 [00:13<00:00, 14.78it/s, Train_MSE=0.181, Valid_MSE=0.906]\n"
     ]
    },
    {
     "name": "stdout",
     "output_type": "stream",
     "text": [
      "Evaluating Feature 61/240\n"
     ]
    },
    {
     "name": "stderr",
     "output_type": "stream",
     "text": [
      "Epoch 200: 100%|██████████| 200/200 [00:13<00:00, 15.12it/s, Train_MSE=0.206, Valid_MSE=0.795]\n"
     ]
    },
    {
     "name": "stdout",
     "output_type": "stream",
     "text": [
      "Evaluating Feature 62/240\n"
     ]
    },
    {
     "name": "stderr",
     "output_type": "stream",
     "text": [
      "Epoch 200: 100%|██████████| 200/200 [00:13<00:00, 15.23it/s, Train_MSE=0.28, Valid_MSE=0.54]  \n"
     ]
    },
    {
     "name": "stdout",
     "output_type": "stream",
     "text": [
      "Evaluating Feature 63/240\n"
     ]
    },
    {
     "name": "stderr",
     "output_type": "stream",
     "text": [
      "Epoch 200: 100%|██████████| 200/200 [00:13<00:00, 15.02it/s, Train_MSE=0.19, Valid_MSE=1.17]  \n"
     ]
    },
    {
     "name": "stdout",
     "output_type": "stream",
     "text": [
      "Evaluating Feature 64/240\n"
     ]
    },
    {
     "name": "stderr",
     "output_type": "stream",
     "text": [
      "Epoch 200: 100%|██████████| 200/200 [00:13<00:00, 15.04it/s, Train_MSE=0.221, Valid_MSE=0.744]\n"
     ]
    },
    {
     "name": "stdout",
     "output_type": "stream",
     "text": [
      "Evaluating Feature 65/240\n"
     ]
    },
    {
     "name": "stderr",
     "output_type": "stream",
     "text": [
      "Epoch 200: 100%|██████████| 200/200 [00:12<00:00, 15.54it/s, Train_MSE=0.257, Valid_MSE=0.538]\n"
     ]
    },
    {
     "name": "stdout",
     "output_type": "stream",
     "text": [
      "Evaluating Feature 66/240\n"
     ]
    },
    {
     "name": "stderr",
     "output_type": "stream",
     "text": [
      "Epoch 200: 100%|██████████| 200/200 [00:12<00:00, 15.47it/s, Train_MSE=0.253, Valid_MSE=0.593]\n"
     ]
    },
    {
     "name": "stdout",
     "output_type": "stream",
     "text": [
      "Evaluating Feature 67/240\n"
     ]
    },
    {
     "name": "stderr",
     "output_type": "stream",
     "text": [
      "Epoch 200: 100%|██████████| 200/200 [00:13<00:00, 15.16it/s, Train_MSE=0.206, Valid_MSE=0.609]\n"
     ]
    },
    {
     "name": "stdout",
     "output_type": "stream",
     "text": [
      "Evaluating Feature 68/240\n"
     ]
    },
    {
     "name": "stderr",
     "output_type": "stream",
     "text": [
      "Epoch 200: 100%|██████████| 200/200 [00:12<00:00, 15.53it/s, Train_MSE=0.24, Valid_MSE=0.607] \n"
     ]
    },
    {
     "name": "stdout",
     "output_type": "stream",
     "text": [
      "Evaluating Feature 69/240\n"
     ]
    },
    {
     "name": "stderr",
     "output_type": "stream",
     "text": [
      "Epoch 200: 100%|██████████| 200/200 [00:13<00:00, 15.07it/s, Train_MSE=0.237, Valid_MSE=0.518]\n"
     ]
    },
    {
     "name": "stdout",
     "output_type": "stream",
     "text": [
      "Evaluating Feature 70/240\n"
     ]
    },
    {
     "name": "stderr",
     "output_type": "stream",
     "text": [
      "Epoch 200: 100%|██████████| 200/200 [00:12<00:00, 15.49it/s, Train_MSE=0.328, Valid_MSE=0.602]\n"
     ]
    },
    {
     "name": "stdout",
     "output_type": "stream",
     "text": [
      "Evaluating Feature 71/240\n"
     ]
    },
    {
     "name": "stderr",
     "output_type": "stream",
     "text": [
      "Epoch 200: 100%|██████████| 200/200 [00:12<00:00, 15.47it/s, Train_MSE=0.249, Valid_MSE=1]    \n"
     ]
    },
    {
     "name": "stdout",
     "output_type": "stream",
     "text": [
      "Evaluating Feature 72/240\n"
     ]
    },
    {
     "name": "stderr",
     "output_type": "stream",
     "text": [
      "Epoch 200: 100%|██████████| 200/200 [00:12<00:00, 15.62it/s, Train_MSE=0.265, Valid_MSE=0.513]\n"
     ]
    },
    {
     "name": "stdout",
     "output_type": "stream",
     "text": [
      "Evaluating Feature 73/240\n"
     ]
    },
    {
     "name": "stderr",
     "output_type": "stream",
     "text": [
      "Epoch 200: 100%|██████████| 200/200 [00:12<00:00, 15.39it/s, Train_MSE=0.176, Valid_MSE=0.895]\n"
     ]
    },
    {
     "name": "stdout",
     "output_type": "stream",
     "text": [
      "Evaluating Feature 74/240\n"
     ]
    },
    {
     "name": "stderr",
     "output_type": "stream",
     "text": [
      "Epoch 200: 100%|██████████| 200/200 [00:13<00:00, 15.27it/s, Train_MSE=0.198, Valid_MSE=0.613]\n"
     ]
    },
    {
     "name": "stdout",
     "output_type": "stream",
     "text": [
      "Evaluating Feature 75/240\n"
     ]
    },
    {
     "name": "stderr",
     "output_type": "stream",
     "text": [
      "Epoch 200: 100%|██████████| 200/200 [00:12<00:00, 15.54it/s, Train_MSE=0.188, Valid_MSE=0.687]\n"
     ]
    },
    {
     "name": "stdout",
     "output_type": "stream",
     "text": [
      "Evaluating Feature 76/240\n"
     ]
    },
    {
     "name": "stderr",
     "output_type": "stream",
     "text": [
      "Epoch 200: 100%|██████████| 200/200 [00:13<00:00, 15.00it/s, Train_MSE=0.201, Valid_MSE=0.814]\n"
     ]
    },
    {
     "name": "stdout",
     "output_type": "stream",
     "text": [
      "Evaluating Feature 77/240\n"
     ]
    },
    {
     "name": "stderr",
     "output_type": "stream",
     "text": [
      "Epoch 200: 100%|██████████| 200/200 [00:12<00:00, 15.83it/s, Train_MSE=0.205, Valid_MSE=0.737]\n"
     ]
    },
    {
     "name": "stdout",
     "output_type": "stream",
     "text": [
      "Evaluating Feature 78/240\n"
     ]
    },
    {
     "name": "stderr",
     "output_type": "stream",
     "text": [
      "Epoch 200: 100%|██████████| 200/200 [00:12<00:00, 15.58it/s, Train_MSE=0.208, Valid_MSE=0.927]\n"
     ]
    },
    {
     "name": "stdout",
     "output_type": "stream",
     "text": [
      "Evaluating Feature 79/240\n"
     ]
    },
    {
     "name": "stderr",
     "output_type": "stream",
     "text": [
      "Epoch 200: 100%|██████████| 200/200 [00:12<00:00, 15.81it/s, Train_MSE=0.246, Valid_MSE=0.642]\n"
     ]
    },
    {
     "name": "stdout",
     "output_type": "stream",
     "text": [
      "Evaluating Feature 80/240\n"
     ]
    },
    {
     "name": "stderr",
     "output_type": "stream",
     "text": [
      "Epoch 200: 100%|██████████| 200/200 [00:12<00:00, 15.74it/s, Train_MSE=0.202, Valid_MSE=0.742]\n"
     ]
    },
    {
     "name": "stdout",
     "output_type": "stream",
     "text": [
      "Evaluating Feature 81/240\n"
     ]
    },
    {
     "name": "stderr",
     "output_type": "stream",
     "text": [
      "Epoch 200: 100%|██████████| 200/200 [00:12<00:00, 15.80it/s, Train_MSE=0.255, Valid_MSE=0.7]  \n"
     ]
    },
    {
     "name": "stdout",
     "output_type": "stream",
     "text": [
      "Evaluating Feature 82/240\n"
     ]
    },
    {
     "name": "stderr",
     "output_type": "stream",
     "text": [
      "Epoch 200: 100%|██████████| 200/200 [00:12<00:00, 16.31it/s, Train_MSE=0.254, Valid_MSE=0.595]\n"
     ]
    },
    {
     "name": "stdout",
     "output_type": "stream",
     "text": [
      "Evaluating Feature 83/240\n"
     ]
    },
    {
     "name": "stderr",
     "output_type": "stream",
     "text": [
      "Epoch 200: 100%|██████████| 200/200 [00:12<00:00, 16.08it/s, Train_MSE=0.584, Valid_MSE=0.601]\n"
     ]
    },
    {
     "name": "stdout",
     "output_type": "stream",
     "text": [
      "Evaluating Feature 84/240\n"
     ]
    },
    {
     "name": "stderr",
     "output_type": "stream",
     "text": [
      "Epoch 200: 100%|██████████| 200/200 [00:12<00:00, 16.29it/s, Train_MSE=0.196, Valid_MSE=0.818]\n"
     ]
    },
    {
     "name": "stdout",
     "output_type": "stream",
     "text": [
      "Evaluating Feature 85/240\n"
     ]
    },
    {
     "name": "stderr",
     "output_type": "stream",
     "text": [
      "Epoch 200: 100%|██████████| 200/200 [00:12<00:00, 16.33it/s, Train_MSE=0.237, Valid_MSE=0.591]\n"
     ]
    },
    {
     "name": "stdout",
     "output_type": "stream",
     "text": [
      "Evaluating Feature 86/240\n"
     ]
    },
    {
     "name": "stderr",
     "output_type": "stream",
     "text": [
      "Epoch 200: 100%|██████████| 200/200 [00:12<00:00, 16.12it/s, Train_MSE=0.238, Valid_MSE=0.653]\n"
     ]
    },
    {
     "name": "stdout",
     "output_type": "stream",
     "text": [
      "Evaluating Feature 87/240\n"
     ]
    },
    {
     "name": "stderr",
     "output_type": "stream",
     "text": [
      "Epoch 200: 100%|██████████| 200/200 [00:12<00:00, 16.26it/s, Train_MSE=0.249, Valid_MSE=0.757]\n"
     ]
    },
    {
     "name": "stdout",
     "output_type": "stream",
     "text": [
      "Evaluating Feature 88/240\n"
     ]
    },
    {
     "name": "stderr",
     "output_type": "stream",
     "text": [
      "Epoch 200: 100%|██████████| 200/200 [00:12<00:00, 16.01it/s, Train_MSE=0.21, Valid_MSE=0.862] \n"
     ]
    },
    {
     "name": "stdout",
     "output_type": "stream",
     "text": [
      "Evaluating Feature 89/240\n"
     ]
    },
    {
     "name": "stderr",
     "output_type": "stream",
     "text": [
      "Epoch 200: 100%|██████████| 200/200 [00:12<00:00, 16.22it/s, Train_MSE=0.192, Valid_MSE=1.07] \n"
     ]
    },
    {
     "name": "stdout",
     "output_type": "stream",
     "text": [
      "Evaluating Feature 90/240\n"
     ]
    },
    {
     "name": "stderr",
     "output_type": "stream",
     "text": [
      "Epoch 200: 100%|██████████| 200/200 [00:12<00:00, 16.21it/s, Train_MSE=0.202, Valid_MSE=0.652]\n"
     ]
    },
    {
     "name": "stdout",
     "output_type": "stream",
     "text": [
      "Evaluating Feature 91/240\n"
     ]
    },
    {
     "name": "stderr",
     "output_type": "stream",
     "text": [
      "Epoch 200: 100%|██████████| 200/200 [00:12<00:00, 15.83it/s, Train_MSE=0.192, Valid_MSE=0.714]\n"
     ]
    },
    {
     "name": "stdout",
     "output_type": "stream",
     "text": [
      "Evaluating Feature 92/240\n"
     ]
    },
    {
     "name": "stderr",
     "output_type": "stream",
     "text": [
      "Epoch 200: 100%|██████████| 200/200 [00:12<00:00, 16.10it/s, Train_MSE=0.213, Valid_MSE=1.01] \n"
     ]
    },
    {
     "name": "stdout",
     "output_type": "stream",
     "text": [
      "Evaluating Feature 93/240\n"
     ]
    },
    {
     "name": "stderr",
     "output_type": "stream",
     "text": [
      "Epoch 200: 100%|██████████| 200/200 [00:12<00:00, 16.02it/s, Train_MSE=0.218, Valid_MSE=0.949]\n"
     ]
    },
    {
     "name": "stdout",
     "output_type": "stream",
     "text": [
      "Evaluating Feature 94/240\n"
     ]
    },
    {
     "name": "stderr",
     "output_type": "stream",
     "text": [
      "Epoch 200: 100%|██████████| 200/200 [00:12<00:00, 16.11it/s, Train_MSE=0.189, Valid_MSE=0.732]\n"
     ]
    },
    {
     "name": "stdout",
     "output_type": "stream",
     "text": [
      "Evaluating Feature 95/240\n"
     ]
    },
    {
     "name": "stderr",
     "output_type": "stream",
     "text": [
      "Epoch 200: 100%|██████████| 200/200 [00:12<00:00, 16.14it/s, Train_MSE=0.218, Valid_MSE=0.742]\n"
     ]
    },
    {
     "name": "stdout",
     "output_type": "stream",
     "text": [
      "Evaluating Feature 96/240\n"
     ]
    },
    {
     "name": "stderr",
     "output_type": "stream",
     "text": [
      "Epoch 200: 100%|██████████| 200/200 [00:12<00:00, 16.18it/s, Train_MSE=0.179, Valid_MSE=0.87] \n"
     ]
    },
    {
     "name": "stdout",
     "output_type": "stream",
     "text": [
      "Evaluating Feature 97/240\n"
     ]
    },
    {
     "name": "stderr",
     "output_type": "stream",
     "text": [
      "Epoch 200: 100%|██████████| 200/200 [00:12<00:00, 16.25it/s, Train_MSE=0.163, Valid_MSE=1.33] \n"
     ]
    },
    {
     "name": "stdout",
     "output_type": "stream",
     "text": [
      "Evaluating Feature 98/240\n"
     ]
    },
    {
     "name": "stderr",
     "output_type": "stream",
     "text": [
      "Epoch 200: 100%|██████████| 200/200 [00:12<00:00, 16.12it/s, Train_MSE=0.19, Valid_MSE=0.763] \n"
     ]
    },
    {
     "name": "stdout",
     "output_type": "stream",
     "text": [
      "Evaluating Feature 99/240\n"
     ]
    },
    {
     "name": "stderr",
     "output_type": "stream",
     "text": [
      "Epoch 200: 100%|██████████| 200/200 [00:13<00:00, 15.31it/s, Train_MSE=0.238, Valid_MSE=0.852]\n"
     ]
    },
    {
     "name": "stdout",
     "output_type": "stream",
     "text": [
      "Evaluating Feature 100/240\n"
     ]
    },
    {
     "name": "stderr",
     "output_type": "stream",
     "text": [
      "Epoch 200: 100%|██████████| 200/200 [00:13<00:00, 15.11it/s, Train_MSE=0.207, Valid_MSE=0.995]\n"
     ]
    },
    {
     "name": "stdout",
     "output_type": "stream",
     "text": [
      "Evaluating Feature 101/240\n"
     ]
    },
    {
     "name": "stderr",
     "output_type": "stream",
     "text": [
      "Epoch 200: 100%|██████████| 200/200 [00:12<00:00, 15.53it/s, Train_MSE=0.178, Valid_MSE=0.832]\n"
     ]
    },
    {
     "name": "stdout",
     "output_type": "stream",
     "text": [
      "Evaluating Feature 102/240\n"
     ]
    },
    {
     "name": "stderr",
     "output_type": "stream",
     "text": [
      "Epoch 200: 100%|██████████| 200/200 [00:12<00:00, 15.63it/s, Train_MSE=0.213, Valid_MSE=1.28] \n"
     ]
    },
    {
     "name": "stdout",
     "output_type": "stream",
     "text": [
      "Evaluating Feature 103/240\n"
     ]
    },
    {
     "name": "stderr",
     "output_type": "stream",
     "text": [
      "Epoch 200: 100%|██████████| 200/200 [00:13<00:00, 15.13it/s, Train_MSE=0.197, Valid_MSE=0.819]\n"
     ]
    },
    {
     "name": "stdout",
     "output_type": "stream",
     "text": [
      "Evaluating Feature 104/240\n"
     ]
    },
    {
     "name": "stderr",
     "output_type": "stream",
     "text": [
      "Epoch 200: 100%|██████████| 200/200 [00:12<00:00, 15.49it/s, Train_MSE=0.24, Valid_MSE=0.837] \n"
     ]
    },
    {
     "name": "stdout",
     "output_type": "stream",
     "text": [
      "Evaluating Feature 105/240\n"
     ]
    },
    {
     "name": "stderr",
     "output_type": "stream",
     "text": [
      "Epoch 200: 100%|██████████| 200/200 [00:13<00:00, 15.12it/s, Train_MSE=0.234, Valid_MSE=0.672]\n"
     ]
    },
    {
     "name": "stdout",
     "output_type": "stream",
     "text": [
      "Evaluating Feature 106/240\n"
     ]
    },
    {
     "name": "stderr",
     "output_type": "stream",
     "text": [
      "Epoch 200: 100%|██████████| 200/200 [00:13<00:00, 15.26it/s, Train_MSE=0.193, Valid_MSE=0.935]\n"
     ]
    },
    {
     "name": "stdout",
     "output_type": "stream",
     "text": [
      "Evaluating Feature 107/240\n"
     ]
    },
    {
     "name": "stderr",
     "output_type": "stream",
     "text": [
      "Epoch 200: 100%|██████████| 200/200 [00:13<00:00, 15.36it/s, Train_MSE=0.151, Valid_MSE=0.928]\n"
     ]
    },
    {
     "name": "stdout",
     "output_type": "stream",
     "text": [
      "Evaluating Feature 108/240\n"
     ]
    },
    {
     "name": "stderr",
     "output_type": "stream",
     "text": [
      "Epoch 200: 100%|██████████| 200/200 [00:13<00:00, 15.30it/s, Train_MSE=0.214, Valid_MSE=0.665]\n"
     ]
    },
    {
     "name": "stdout",
     "output_type": "stream",
     "text": [
      "Evaluating Feature 109/240\n"
     ]
    },
    {
     "name": "stderr",
     "output_type": "stream",
     "text": [
      "Epoch 200: 100%|██████████| 200/200 [00:12<00:00, 15.51it/s, Train_MSE=0.226, Valid_MSE=0.714]\n"
     ]
    },
    {
     "name": "stdout",
     "output_type": "stream",
     "text": [
      "Evaluating Feature 110/240\n"
     ]
    },
    {
     "name": "stderr",
     "output_type": "stream",
     "text": [
      "Epoch 200: 100%|██████████| 200/200 [00:13<00:00, 14.98it/s, Train_MSE=0.181, Valid_MSE=0.983]\n"
     ]
    },
    {
     "name": "stdout",
     "output_type": "stream",
     "text": [
      "Evaluating Feature 111/240\n"
     ]
    },
    {
     "name": "stderr",
     "output_type": "stream",
     "text": [
      "Epoch 200: 100%|██████████| 200/200 [00:13<00:00, 14.48it/s, Train_MSE=0.2, Valid_MSE=0.939]  \n"
     ]
    },
    {
     "name": "stdout",
     "output_type": "stream",
     "text": [
      "Evaluating Feature 112/240\n"
     ]
    },
    {
     "name": "stderr",
     "output_type": "stream",
     "text": [
      "Epoch 200: 100%|██████████| 200/200 [00:14<00:00, 14.28it/s, Train_MSE=0.217, Valid_MSE=0.627]\n"
     ]
    },
    {
     "name": "stdout",
     "output_type": "stream",
     "text": [
      "Evaluating Feature 113/240\n"
     ]
    },
    {
     "name": "stderr",
     "output_type": "stream",
     "text": [
      "Epoch 200: 100%|██████████| 200/200 [00:13<00:00, 14.85it/s, Train_MSE=0.161, Valid_MSE=1.07] \n"
     ]
    },
    {
     "name": "stdout",
     "output_type": "stream",
     "text": [
      "Evaluating Feature 114/240\n"
     ]
    },
    {
     "name": "stderr",
     "output_type": "stream",
     "text": [
      "Epoch 200: 100%|██████████| 200/200 [00:12<00:00, 16.01it/s, Train_MSE=0.237, Valid_MSE=0.907]\n"
     ]
    },
    {
     "name": "stdout",
     "output_type": "stream",
     "text": [
      "Evaluating Feature 115/240\n"
     ]
    },
    {
     "name": "stderr",
     "output_type": "stream",
     "text": [
      "Epoch 200: 100%|██████████| 200/200 [00:13<00:00, 15.14it/s, Train_MSE=0.213, Valid_MSE=0.914]\n"
     ]
    },
    {
     "name": "stdout",
     "output_type": "stream",
     "text": [
      "Evaluating Feature 116/240\n"
     ]
    },
    {
     "name": "stderr",
     "output_type": "stream",
     "text": [
      "Epoch 200: 100%|██████████| 200/200 [00:13<00:00, 15.35it/s, Train_MSE=0.208, Valid_MSE=0.891]\n"
     ]
    },
    {
     "name": "stdout",
     "output_type": "stream",
     "text": [
      "Evaluating Feature 117/240\n"
     ]
    },
    {
     "name": "stderr",
     "output_type": "stream",
     "text": [
      "Epoch 200: 100%|██████████| 200/200 [00:13<00:00, 15.25it/s, Train_MSE=0.192, Valid_MSE=0.77] \n"
     ]
    },
    {
     "name": "stdout",
     "output_type": "stream",
     "text": [
      "Evaluating Feature 118/240\n"
     ]
    },
    {
     "name": "stderr",
     "output_type": "stream",
     "text": [
      "Epoch 200: 100%|██████████| 200/200 [00:12<00:00, 15.53it/s, Train_MSE=0.16, Valid_MSE=1.17]  \n"
     ]
    },
    {
     "name": "stdout",
     "output_type": "stream",
     "text": [
      "Evaluating Feature 119/240\n"
     ]
    },
    {
     "name": "stderr",
     "output_type": "stream",
     "text": [
      "Epoch 200: 100%|██████████| 200/200 [00:12<00:00, 15.50it/s, Train_MSE=0.234, Valid_MSE=0.69] \n"
     ]
    },
    {
     "name": "stdout",
     "output_type": "stream",
     "text": [
      "Evaluating Feature 120/240\n"
     ]
    },
    {
     "name": "stderr",
     "output_type": "stream",
     "text": [
      "Epoch 200: 100%|██████████| 200/200 [00:12<00:00, 15.64it/s, Train_MSE=0.198, Valid_MSE=0.75] \n"
     ]
    },
    {
     "name": "stdout",
     "output_type": "stream",
     "text": [
      "Evaluating Feature 121/240\n"
     ]
    },
    {
     "name": "stderr",
     "output_type": "stream",
     "text": [
      "Epoch 200: 100%|██████████| 200/200 [00:13<00:00, 15.38it/s, Train_MSE=0.285, Valid_MSE=0.648]\n"
     ]
    },
    {
     "name": "stdout",
     "output_type": "stream",
     "text": [
      "Evaluating Feature 122/240\n"
     ]
    },
    {
     "name": "stderr",
     "output_type": "stream",
     "text": [
      "Epoch 200: 100%|██████████| 200/200 [00:12<00:00, 15.44it/s, Train_MSE=0.24, Valid_MSE=0.526] \n"
     ]
    },
    {
     "name": "stdout",
     "output_type": "stream",
     "text": [
      "Evaluating Feature 123/240\n"
     ]
    },
    {
     "name": "stderr",
     "output_type": "stream",
     "text": [
      "Epoch 200: 100%|██████████| 200/200 [00:12<00:00, 15.53it/s, Train_MSE=0.197, Valid_MSE=1.08] \n"
     ]
    },
    {
     "name": "stdout",
     "output_type": "stream",
     "text": [
      "Evaluating Feature 124/240\n"
     ]
    },
    {
     "name": "stderr",
     "output_type": "stream",
     "text": [
      "Epoch 200: 100%|██████████| 200/200 [00:13<00:00, 15.07it/s, Train_MSE=0.198, Valid_MSE=1.4]  \n"
     ]
    },
    {
     "name": "stdout",
     "output_type": "stream",
     "text": [
      "Evaluating Feature 125/240\n"
     ]
    },
    {
     "name": "stderr",
     "output_type": "stream",
     "text": [
      "Epoch 200: 100%|██████████| 200/200 [00:13<00:00, 14.94it/s, Train_MSE=0.136, Valid_MSE=1.09] \n"
     ]
    },
    {
     "name": "stdout",
     "output_type": "stream",
     "text": [
      "Evaluating Feature 126/240\n"
     ]
    },
    {
     "name": "stderr",
     "output_type": "stream",
     "text": [
      "Epoch 200: 100%|██████████| 200/200 [00:13<00:00, 15.35it/s, Train_MSE=0.187, Valid_MSE=0.744]\n"
     ]
    },
    {
     "name": "stdout",
     "output_type": "stream",
     "text": [
      "Evaluating Feature 127/240\n"
     ]
    },
    {
     "name": "stderr",
     "output_type": "stream",
     "text": [
      "Epoch 200: 100%|██████████| 200/200 [00:12<00:00, 15.89it/s, Train_MSE=0.187, Valid_MSE=0.782]\n"
     ]
    },
    {
     "name": "stdout",
     "output_type": "stream",
     "text": [
      "Evaluating Feature 128/240\n"
     ]
    },
    {
     "name": "stderr",
     "output_type": "stream",
     "text": [
      "Epoch 200: 100%|██████████| 200/200 [00:12<00:00, 16.09it/s, Train_MSE=0.198, Valid_MSE=1.04] \n"
     ]
    },
    {
     "name": "stdout",
     "output_type": "stream",
     "text": [
      "Evaluating Feature 129/240\n"
     ]
    },
    {
     "name": "stderr",
     "output_type": "stream",
     "text": [
      "Epoch 200: 100%|██████████| 200/200 [00:12<00:00, 15.90it/s, Train_MSE=0.186, Valid_MSE=0.913]\n"
     ]
    },
    {
     "name": "stdout",
     "output_type": "stream",
     "text": [
      "Evaluating Feature 130/240\n"
     ]
    },
    {
     "name": "stderr",
     "output_type": "stream",
     "text": [
      "Epoch 200: 100%|██████████| 200/200 [00:12<00:00, 16.03it/s, Train_MSE=0.192, Valid_MSE=0.676]\n"
     ]
    },
    {
     "name": "stdout",
     "output_type": "stream",
     "text": [
      "Evaluating Feature 131/240\n"
     ]
    },
    {
     "name": "stderr",
     "output_type": "stream",
     "text": [
      "Epoch 200: 100%|██████████| 200/200 [00:12<00:00, 15.60it/s, Train_MSE=0.188, Valid_MSE=0.957]\n"
     ]
    },
    {
     "name": "stdout",
     "output_type": "stream",
     "text": [
      "Evaluating Feature 132/240\n"
     ]
    },
    {
     "name": "stderr",
     "output_type": "stream",
     "text": [
      "Epoch 200: 100%|██████████| 200/200 [00:12<00:00, 16.02it/s, Train_MSE=0.175, Valid_MSE=1.52]\n"
     ]
    },
    {
     "name": "stdout",
     "output_type": "stream",
     "text": [
      "Evaluating Feature 133/240\n"
     ]
    },
    {
     "name": "stderr",
     "output_type": "stream",
     "text": [
      "Epoch 200: 100%|██████████| 200/200 [00:12<00:00, 15.57it/s, Train_MSE=0.172, Valid_MSE=0.854]\n"
     ]
    },
    {
     "name": "stdout",
     "output_type": "stream",
     "text": [
      "Evaluating Feature 134/240\n"
     ]
    },
    {
     "name": "stderr",
     "output_type": "stream",
     "text": [
      "Epoch 200: 100%|██████████| 200/200 [00:12<00:00, 15.41it/s, Train_MSE=0.182, Valid_MSE=0.713]\n"
     ]
    },
    {
     "name": "stdout",
     "output_type": "stream",
     "text": [
      "Evaluating Feature 135/240\n"
     ]
    },
    {
     "name": "stderr",
     "output_type": "stream",
     "text": [
      "Epoch 200: 100%|██████████| 200/200 [00:13<00:00, 15.10it/s, Train_MSE=0.169, Valid_MSE=1.07] \n"
     ]
    },
    {
     "name": "stdout",
     "output_type": "stream",
     "text": [
      "Evaluating Feature 136/240\n"
     ]
    },
    {
     "name": "stderr",
     "output_type": "stream",
     "text": [
      "Epoch 200: 100%|██████████| 200/200 [00:14<00:00, 13.65it/s, Train_MSE=0.174, Valid_MSE=0.828]\n"
     ]
    },
    {
     "name": "stdout",
     "output_type": "stream",
     "text": [
      "Evaluating Feature 137/240\n"
     ]
    },
    {
     "name": "stderr",
     "output_type": "stream",
     "text": [
      "Epoch 200: 100%|██████████| 200/200 [00:13<00:00, 14.92it/s, Train_MSE=0.164, Valid_MSE=1.02] \n"
     ]
    },
    {
     "name": "stdout",
     "output_type": "stream",
     "text": [
      "Evaluating Feature 138/240\n"
     ]
    },
    {
     "name": "stderr",
     "output_type": "stream",
     "text": [
      "Epoch 200: 100%|██████████| 200/200 [00:14<00:00, 14.03it/s, Train_MSE=0.166, Valid_MSE=1.28] \n"
     ]
    },
    {
     "name": "stdout",
     "output_type": "stream",
     "text": [
      "Evaluating Feature 139/240\n"
     ]
    },
    {
     "name": "stderr",
     "output_type": "stream",
     "text": [
      "Epoch 200: 100%|██████████| 200/200 [00:13<00:00, 15.22it/s, Train_MSE=0.191, Valid_MSE=0.756]\n"
     ]
    },
    {
     "name": "stdout",
     "output_type": "stream",
     "text": [
      "Evaluating Feature 140/240\n"
     ]
    },
    {
     "name": "stderr",
     "output_type": "stream",
     "text": [
      "Epoch 200: 100%|██████████| 200/200 [00:13<00:00, 15.31it/s, Train_MSE=0.183, Valid_MSE=0.947]\n"
     ]
    },
    {
     "name": "stdout",
     "output_type": "stream",
     "text": [
      "Evaluating Feature 141/240\n"
     ]
    },
    {
     "name": "stderr",
     "output_type": "stream",
     "text": [
      "Epoch 200: 100%|██████████| 200/200 [00:12<00:00, 15.99it/s, Train_MSE=0.2, Valid_MSE=0.949]  \n"
     ]
    },
    {
     "name": "stdout",
     "output_type": "stream",
     "text": [
      "Evaluating Feature 142/240\n"
     ]
    },
    {
     "name": "stderr",
     "output_type": "stream",
     "text": [
      "Epoch 200: 100%|██████████| 200/200 [00:12<00:00, 15.51it/s, Train_MSE=0.201, Valid_MSE=1.15] \n"
     ]
    },
    {
     "name": "stdout",
     "output_type": "stream",
     "text": [
      "Evaluating Feature 143/240\n"
     ]
    },
    {
     "name": "stderr",
     "output_type": "stream",
     "text": [
      "Epoch 200: 100%|██████████| 200/200 [00:13<00:00, 14.64it/s, Train_MSE=0.22, Valid_MSE=1.5]  \n"
     ]
    },
    {
     "name": "stdout",
     "output_type": "stream",
     "text": [
      "Evaluating Feature 144/240\n"
     ]
    },
    {
     "name": "stderr",
     "output_type": "stream",
     "text": [
      "Epoch 200: 100%|██████████| 200/200 [00:12<00:00, 15.40it/s, Train_MSE=0.249, Valid_MSE=1.41] \n"
     ]
    },
    {
     "name": "stdout",
     "output_type": "stream",
     "text": [
      "Evaluating Feature 145/240\n"
     ]
    },
    {
     "name": "stderr",
     "output_type": "stream",
     "text": [
      "Epoch 200: 100%|██████████| 200/200 [00:12<00:00, 15.43it/s, Train_MSE=0.15, Valid_MSE=0.949] \n"
     ]
    },
    {
     "name": "stdout",
     "output_type": "stream",
     "text": [
      "Evaluating Feature 146/240\n"
     ]
    },
    {
     "name": "stderr",
     "output_type": "stream",
     "text": [
      "Epoch 200: 100%|██████████| 200/200 [00:12<00:00, 15.41it/s, Train_MSE=0.202, Valid_MSE=0.972]\n"
     ]
    },
    {
     "name": "stdout",
     "output_type": "stream",
     "text": [
      "Evaluating Feature 147/240\n"
     ]
    },
    {
     "name": "stderr",
     "output_type": "stream",
     "text": [
      "Epoch 200: 100%|██████████| 200/200 [00:13<00:00, 14.93it/s, Train_MSE=0.138, Valid_MSE=1.4]  \n"
     ]
    },
    {
     "name": "stdout",
     "output_type": "stream",
     "text": [
      "Evaluating Feature 148/240\n"
     ]
    },
    {
     "name": "stderr",
     "output_type": "stream",
     "text": [
      "Epoch 200: 100%|██████████| 200/200 [00:13<00:00, 15.32it/s, Train_MSE=0.149, Valid_MSE=1.03] \n"
     ]
    },
    {
     "name": "stdout",
     "output_type": "stream",
     "text": [
      "Evaluating Feature 149/240\n"
     ]
    },
    {
     "name": "stderr",
     "output_type": "stream",
     "text": [
      "Epoch 200: 100%|██████████| 200/200 [00:12<00:00, 15.40it/s, Train_MSE=0.349, Valid_MSE=0.941]\n"
     ]
    },
    {
     "name": "stdout",
     "output_type": "stream",
     "text": [
      "Evaluating Feature 150/240\n"
     ]
    },
    {
     "name": "stderr",
     "output_type": "stream",
     "text": [
      "Epoch 200: 100%|██████████| 200/200 [00:13<00:00, 14.94it/s, Train_MSE=0.18, Valid_MSE=0.785] \n"
     ]
    },
    {
     "name": "stdout",
     "output_type": "stream",
     "text": [
      "Evaluating Feature 151/240\n"
     ]
    },
    {
     "name": "stderr",
     "output_type": "stream",
     "text": [
      "Epoch 200: 100%|██████████| 200/200 [00:12<00:00, 15.45it/s, Train_MSE=0.148, Valid_MSE=1.26] \n"
     ]
    },
    {
     "name": "stdout",
     "output_type": "stream",
     "text": [
      "Evaluating Feature 152/240\n"
     ]
    },
    {
     "name": "stderr",
     "output_type": "stream",
     "text": [
      "Epoch 200: 100%|██████████| 200/200 [00:13<00:00, 15.36it/s, Train_MSE=0.249, Valid_MSE=0.91] \n"
     ]
    },
    {
     "name": "stdout",
     "output_type": "stream",
     "text": [
      "Evaluating Feature 153/240\n"
     ]
    },
    {
     "name": "stderr",
     "output_type": "stream",
     "text": [
      "Epoch 200: 100%|██████████| 200/200 [00:12<00:00, 15.51it/s, Train_MSE=0.15, Valid_MSE=1.33]  \n"
     ]
    },
    {
     "name": "stdout",
     "output_type": "stream",
     "text": [
      "Evaluating Feature 154/240\n"
     ]
    },
    {
     "name": "stderr",
     "output_type": "stream",
     "text": [
      "Epoch 200: 100%|██████████| 200/200 [00:13<00:00, 15.36it/s, Train_MSE=0.207, Valid_MSE=0.759]\n"
     ]
    },
    {
     "name": "stdout",
     "output_type": "stream",
     "text": [
      "Evaluating Feature 155/240\n"
     ]
    },
    {
     "name": "stderr",
     "output_type": "stream",
     "text": [
      "Epoch 200: 100%|██████████| 200/200 [00:12<00:00, 15.42it/s, Train_MSE=0.209, Valid_MSE=0.99] \n"
     ]
    },
    {
     "name": "stdout",
     "output_type": "stream",
     "text": [
      "Evaluating Feature 156/240\n"
     ]
    },
    {
     "name": "stderr",
     "output_type": "stream",
     "text": [
      "Epoch 200: 100%|██████████| 200/200 [00:12<00:00, 15.43it/s, Train_MSE=0.18, Valid_MSE=0.783] \n"
     ]
    },
    {
     "name": "stdout",
     "output_type": "stream",
     "text": [
      "Evaluating Feature 157/240\n"
     ]
    },
    {
     "name": "stderr",
     "output_type": "stream",
     "text": [
      "Epoch 200: 100%|██████████| 200/200 [00:13<00:00, 15.33it/s, Train_MSE=0.134, Valid_MSE=1.09] \n"
     ]
    },
    {
     "name": "stdout",
     "output_type": "stream",
     "text": [
      "Evaluating Feature 158/240\n"
     ]
    },
    {
     "name": "stderr",
     "output_type": "stream",
     "text": [
      "Epoch 200: 100%|██████████| 200/200 [00:12<00:00, 15.58it/s, Train_MSE=0.246, Valid_MSE=0.866]\n"
     ]
    },
    {
     "name": "stdout",
     "output_type": "stream",
     "text": [
      "Evaluating Feature 159/240\n"
     ]
    },
    {
     "name": "stderr",
     "output_type": "stream",
     "text": [
      "Epoch 200: 100%|██████████| 200/200 [00:13<00:00, 15.03it/s, Train_MSE=0.152, Valid_MSE=1.39] \n"
     ]
    },
    {
     "name": "stdout",
     "output_type": "stream",
     "text": [
      "Evaluating Feature 160/240\n"
     ]
    },
    {
     "name": "stderr",
     "output_type": "stream",
     "text": [
      "Epoch 200: 100%|██████████| 200/200 [00:12<00:00, 15.49it/s, Train_MSE=0.207, Valid_MSE=1.32] \n"
     ]
    },
    {
     "name": "stdout",
     "output_type": "stream",
     "text": [
      "Evaluating Feature 161/240\n"
     ]
    },
    {
     "name": "stderr",
     "output_type": "stream",
     "text": [
      "Epoch 200: 100%|██████████| 200/200 [00:13<00:00, 15.33it/s, Train_MSE=0.185, Valid_MSE=0.935]\n"
     ]
    },
    {
     "name": "stdout",
     "output_type": "stream",
     "text": [
      "Evaluating Feature 162/240\n"
     ]
    },
    {
     "name": "stderr",
     "output_type": "stream",
     "text": [
      "Epoch 200: 100%|██████████| 200/200 [00:12<00:00, 15.40it/s, Train_MSE=0.192, Valid_MSE=0.811]\n"
     ]
    },
    {
     "name": "stdout",
     "output_type": "stream",
     "text": [
      "Evaluating Feature 163/240\n"
     ]
    },
    {
     "name": "stderr",
     "output_type": "stream",
     "text": [
      "Epoch 200: 100%|██████████| 200/200 [00:12<00:00, 15.49it/s, Train_MSE=0.552, Valid_MSE=0.645]\n"
     ]
    },
    {
     "name": "stdout",
     "output_type": "stream",
     "text": [
      "Evaluating Feature 164/240\n"
     ]
    },
    {
     "name": "stderr",
     "output_type": "stream",
     "text": [
      "Epoch 200: 100%|██████████| 200/200 [00:13<00:00, 15.05it/s, Train_MSE=0.228, Valid_MSE=1.5]  \n"
     ]
    },
    {
     "name": "stdout",
     "output_type": "stream",
     "text": [
      "Evaluating Feature 165/240\n"
     ]
    },
    {
     "name": "stderr",
     "output_type": "stream",
     "text": [
      "Epoch 200: 100%|██████████| 200/200 [00:12<00:00, 15.42it/s, Train_MSE=0.232, Valid_MSE=0.724]\n"
     ]
    },
    {
     "name": "stdout",
     "output_type": "stream",
     "text": [
      "Evaluating Feature 166/240\n"
     ]
    },
    {
     "name": "stderr",
     "output_type": "stream",
     "text": [
      "Epoch 200: 100%|██████████| 200/200 [00:13<00:00, 15.33it/s, Train_MSE=0.214, Valid_MSE=1.13] \n"
     ]
    },
    {
     "name": "stdout",
     "output_type": "stream",
     "text": [
      "Evaluating Feature 167/240\n"
     ]
    },
    {
     "name": "stderr",
     "output_type": "stream",
     "text": [
      "Epoch 200: 100%|██████████| 200/200 [00:13<00:00, 15.35it/s, Train_MSE=0.223, Valid_MSE=1.3]  \n"
     ]
    },
    {
     "name": "stdout",
     "output_type": "stream",
     "text": [
      "Evaluating Feature 168/240\n"
     ]
    },
    {
     "name": "stderr",
     "output_type": "stream",
     "text": [
      "Epoch 200: 100%|██████████| 200/200 [00:13<00:00, 15.10it/s, Train_MSE=0.219, Valid_MSE=1.56] \n"
     ]
    },
    {
     "name": "stdout",
     "output_type": "stream",
     "text": [
      "Evaluating Feature 169/240\n"
     ]
    },
    {
     "name": "stderr",
     "output_type": "stream",
     "text": [
      "Epoch 200: 100%|██████████| 200/200 [00:13<00:00, 15.03it/s, Train_MSE=0.217, Valid_MSE=1.13] \n"
     ]
    },
    {
     "name": "stdout",
     "output_type": "stream",
     "text": [
      "Evaluating Feature 170/240\n"
     ]
    },
    {
     "name": "stderr",
     "output_type": "stream",
     "text": [
      "Epoch 200: 100%|██████████| 200/200 [00:13<00:00, 15.25it/s, Train_MSE=0.214, Valid_MSE=1.21] \n"
     ]
    },
    {
     "name": "stdout",
     "output_type": "stream",
     "text": [
      "Evaluating Feature 171/240\n"
     ]
    },
    {
     "name": "stderr",
     "output_type": "stream",
     "text": [
      "Epoch 200: 100%|██████████| 200/200 [00:13<00:00, 15.29it/s, Train_MSE=0.159, Valid_MSE=1.18] \n"
     ]
    },
    {
     "name": "stdout",
     "output_type": "stream",
     "text": [
      "Evaluating Feature 172/240\n"
     ]
    },
    {
     "name": "stderr",
     "output_type": "stream",
     "text": [
      "Epoch 200: 100%|██████████| 200/200 [00:13<00:00, 15.37it/s, Train_MSE=0.142, Valid_MSE=1.21] \n"
     ]
    },
    {
     "name": "stdout",
     "output_type": "stream",
     "text": [
      "Evaluating Feature 173/240\n"
     ]
    },
    {
     "name": "stderr",
     "output_type": "stream",
     "text": [
      "Epoch 200: 100%|██████████| 200/200 [00:13<00:00, 15.22it/s, Train_MSE=0.173, Valid_MSE=0.727]\n"
     ]
    },
    {
     "name": "stdout",
     "output_type": "stream",
     "text": [
      "Evaluating Feature 174/240\n"
     ]
    },
    {
     "name": "stderr",
     "output_type": "stream",
     "text": [
      "Epoch 200: 100%|██████████| 200/200 [00:13<00:00, 15.17it/s, Train_MSE=0.239, Valid_MSE=0.885]\n"
     ]
    },
    {
     "name": "stdout",
     "output_type": "stream",
     "text": [
      "Evaluating Feature 175/240\n"
     ]
    },
    {
     "name": "stderr",
     "output_type": "stream",
     "text": [
      "Epoch 200: 100%|██████████| 200/200 [00:12<00:00, 15.53it/s, Train_MSE=0.197, Valid_MSE=0.897]\n"
     ]
    },
    {
     "name": "stdout",
     "output_type": "stream",
     "text": [
      "Evaluating Feature 176/240\n"
     ]
    },
    {
     "name": "stderr",
     "output_type": "stream",
     "text": [
      "Epoch 200: 100%|██████████| 200/200 [00:13<00:00, 15.32it/s, Train_MSE=0.212, Valid_MSE=1.71] \n"
     ]
    },
    {
     "name": "stdout",
     "output_type": "stream",
     "text": [
      "Evaluating Feature 177/240\n"
     ]
    },
    {
     "name": "stderr",
     "output_type": "stream",
     "text": [
      "Epoch 200: 100%|██████████| 200/200 [00:12<00:00, 15.47it/s, Train_MSE=0.156, Valid_MSE=0.97] \n"
     ]
    },
    {
     "name": "stdout",
     "output_type": "stream",
     "text": [
      "Evaluating Feature 178/240\n"
     ]
    },
    {
     "name": "stderr",
     "output_type": "stream",
     "text": [
      "Epoch 200: 100%|██████████| 200/200 [00:13<00:00, 14.76it/s, Train_MSE=0.236, Valid_MSE=0.635]\n"
     ]
    },
    {
     "name": "stdout",
     "output_type": "stream",
     "text": [
      "Evaluating Feature 179/240\n"
     ]
    },
    {
     "name": "stderr",
     "output_type": "stream",
     "text": [
      "Epoch 200: 100%|██████████| 200/200 [00:12<00:00, 15.51it/s, Train_MSE=0.242, Valid_MSE=1.01] \n"
     ]
    },
    {
     "name": "stdout",
     "output_type": "stream",
     "text": [
      "Evaluating Feature 180/240\n"
     ]
    },
    {
     "name": "stderr",
     "output_type": "stream",
     "text": [
      "Epoch 200: 100%|██████████| 200/200 [00:13<00:00, 15.27it/s, Train_MSE=0.187, Valid_MSE=1.21] \n"
     ]
    },
    {
     "name": "stdout",
     "output_type": "stream",
     "text": [
      "Evaluating Feature 181/240\n"
     ]
    },
    {
     "name": "stderr",
     "output_type": "stream",
     "text": [
      "Epoch 200: 100%|██████████| 200/200 [00:12<00:00, 15.55it/s, Train_MSE=0.222, Valid_MSE=1.03] \n"
     ]
    },
    {
     "name": "stdout",
     "output_type": "stream",
     "text": [
      "Evaluating Feature 182/240\n"
     ]
    },
    {
     "name": "stderr",
     "output_type": "stream",
     "text": [
      "Epoch 200: 100%|██████████| 200/200 [00:12<00:00, 15.43it/s, Train_MSE=0.196, Valid_MSE=0.835]\n"
     ]
    },
    {
     "name": "stdout",
     "output_type": "stream",
     "text": [
      "Evaluating Feature 183/240\n"
     ]
    },
    {
     "name": "stderr",
     "output_type": "stream",
     "text": [
      "Epoch 200: 100%|██████████| 200/200 [00:13<00:00, 15.12it/s, Train_MSE=0.17, Valid_MSE=1.24]  \n"
     ]
    },
    {
     "name": "stdout",
     "output_type": "stream",
     "text": [
      "Evaluating Feature 184/240\n"
     ]
    },
    {
     "name": "stderr",
     "output_type": "stream",
     "text": [
      "Epoch 200: 100%|██████████| 200/200 [00:13<00:00, 14.82it/s, Train_MSE=0.196, Valid_MSE=0.895]\n"
     ]
    },
    {
     "name": "stdout",
     "output_type": "stream",
     "text": [
      "Evaluating Feature 185/240\n"
     ]
    },
    {
     "name": "stderr",
     "output_type": "stream",
     "text": [
      "Epoch 200: 100%|██████████| 200/200 [00:14<00:00, 14.04it/s, Train_MSE=0.265, Valid_MSE=0.744]\n"
     ]
    },
    {
     "name": "stdout",
     "output_type": "stream",
     "text": [
      "Evaluating Feature 186/240\n"
     ]
    },
    {
     "name": "stderr",
     "output_type": "stream",
     "text": [
      "Epoch 200: 100%|██████████| 200/200 [00:12<00:00, 15.42it/s, Train_MSE=0.142, Valid_MSE=0.977]\n"
     ]
    },
    {
     "name": "stdout",
     "output_type": "stream",
     "text": [
      "Evaluating Feature 187/240\n"
     ]
    },
    {
     "name": "stderr",
     "output_type": "stream",
     "text": [
      "Epoch 200: 100%|██████████| 200/200 [00:14<00:00, 13.89it/s, Train_MSE=0.182, Valid_MSE=1.3]  \n"
     ]
    },
    {
     "name": "stdout",
     "output_type": "stream",
     "text": [
      "Evaluating Feature 188/240\n"
     ]
    },
    {
     "name": "stderr",
     "output_type": "stream",
     "text": [
      "Epoch 200: 100%|██████████| 200/200 [00:12<00:00, 15.51it/s, Train_MSE=0.26, Valid_MSE=1.06]  \n"
     ]
    },
    {
     "name": "stdout",
     "output_type": "stream",
     "text": [
      "Evaluating Feature 189/240\n"
     ]
    },
    {
     "name": "stderr",
     "output_type": "stream",
     "text": [
      "Epoch 200: 100%|██████████| 200/200 [00:12<00:00, 15.43it/s, Train_MSE=0.215, Valid_MSE=0.833]\n"
     ]
    },
    {
     "name": "stdout",
     "output_type": "stream",
     "text": [
      "Evaluating Feature 190/240\n"
     ]
    },
    {
     "name": "stderr",
     "output_type": "stream",
     "text": [
      "Epoch 200: 100%|██████████| 200/200 [00:13<00:00, 15.09it/s, Train_MSE=0.129, Valid_MSE=1.32] \n"
     ]
    },
    {
     "name": "stdout",
     "output_type": "stream",
     "text": [
      "Evaluating Feature 191/240\n"
     ]
    },
    {
     "name": "stderr",
     "output_type": "stream",
     "text": [
      "Epoch 200: 100%|██████████| 200/200 [00:12<00:00, 15.56it/s, Train_MSE=0.271, Valid_MSE=1.07] \n"
     ]
    },
    {
     "name": "stdout",
     "output_type": "stream",
     "text": [
      "Evaluating Feature 192/240\n"
     ]
    },
    {
     "name": "stderr",
     "output_type": "stream",
     "text": [
      "Epoch 200: 100%|██████████| 200/200 [00:13<00:00, 15.32it/s, Train_MSE=0.193, Valid_MSE=0.77] \n"
     ]
    },
    {
     "name": "stdout",
     "output_type": "stream",
     "text": [
      "Evaluating Feature 193/240\n"
     ]
    },
    {
     "name": "stderr",
     "output_type": "stream",
     "text": [
      "Epoch 200: 100%|██████████| 200/200 [00:12<00:00, 15.43it/s, Train_MSE=0.285, Valid_MSE=0.944]\n"
     ]
    },
    {
     "name": "stdout",
     "output_type": "stream",
     "text": [
      "Evaluating Feature 194/240\n"
     ]
    },
    {
     "name": "stderr",
     "output_type": "stream",
     "text": [
      "Epoch 200: 100%|██████████| 200/200 [00:13<00:00, 15.27it/s, Train_MSE=0.133, Valid_MSE=1.26] \n"
     ]
    },
    {
     "name": "stdout",
     "output_type": "stream",
     "text": [
      "Evaluating Feature 195/240\n"
     ]
    },
    {
     "name": "stderr",
     "output_type": "stream",
     "text": [
      "Epoch 200: 100%|██████████| 200/200 [00:12<00:00, 15.50it/s, Train_MSE=0.223, Valid_MSE=1.2] \n"
     ]
    },
    {
     "name": "stdout",
     "output_type": "stream",
     "text": [
      "Evaluating Feature 196/240\n"
     ]
    },
    {
     "name": "stderr",
     "output_type": "stream",
     "text": [
      "Epoch 200: 100%|██████████| 200/200 [00:12<00:00, 15.44it/s, Train_MSE=0.151, Valid_MSE=1.09] \n"
     ]
    },
    {
     "name": "stdout",
     "output_type": "stream",
     "text": [
      "Evaluating Feature 197/240\n"
     ]
    },
    {
     "name": "stderr",
     "output_type": "stream",
     "text": [
      "Epoch 200: 100%|██████████| 200/200 [00:13<00:00, 15.30it/s, Train_MSE=0.164, Valid_MSE=1.06] \n"
     ]
    },
    {
     "name": "stdout",
     "output_type": "stream",
     "text": [
      "Evaluating Feature 198/240\n"
     ]
    },
    {
     "name": "stderr",
     "output_type": "stream",
     "text": [
      "Epoch 200: 100%|██████████| 200/200 [00:12<00:00, 15.44it/s, Train_MSE=0.161, Valid_MSE=1.02] \n"
     ]
    },
    {
     "name": "stdout",
     "output_type": "stream",
     "text": [
      "Evaluating Feature 199/240\n"
     ]
    },
    {
     "name": "stderr",
     "output_type": "stream",
     "text": [
      "Epoch 200: 100%|██████████| 200/200 [00:13<00:00, 14.66it/s, Train_MSE=0.182, Valid_MSE=1.1]  \n"
     ]
    },
    {
     "name": "stdout",
     "output_type": "stream",
     "text": [
      "Evaluating Feature 200/240\n"
     ]
    },
    {
     "name": "stderr",
     "output_type": "stream",
     "text": [
      "Epoch 200: 100%|██████████| 200/200 [00:12<00:00, 15.43it/s, Train_MSE=0.234, Valid_MSE=1.15] \n"
     ]
    },
    {
     "name": "stdout",
     "output_type": "stream",
     "text": [
      "Evaluating Feature 201/240\n"
     ]
    },
    {
     "name": "stderr",
     "output_type": "stream",
     "text": [
      "Epoch 200: 100%|██████████| 200/200 [00:13<00:00, 15.28it/s, Train_MSE=0.182, Valid_MSE=1.93]\n"
     ]
    },
    {
     "name": "stdout",
     "output_type": "stream",
     "text": [
      "Evaluating Feature 202/240\n"
     ]
    },
    {
     "name": "stderr",
     "output_type": "stream",
     "text": [
      "Epoch 200: 100%|██████████| 200/200 [00:12<00:00, 15.39it/s, Train_MSE=0.227, Valid_MSE=0.994]\n"
     ]
    },
    {
     "name": "stdout",
     "output_type": "stream",
     "text": [
      "Evaluating Feature 203/240\n"
     ]
    },
    {
     "name": "stderr",
     "output_type": "stream",
     "text": [
      "Epoch 200: 100%|██████████| 200/200 [00:12<00:00, 15.47it/s, Train_MSE=0.194, Valid_MSE=1.33] \n"
     ]
    },
    {
     "name": "stdout",
     "output_type": "stream",
     "text": [
      "Evaluating Feature 204/240\n"
     ]
    },
    {
     "name": "stderr",
     "output_type": "stream",
     "text": [
      "Epoch 200: 100%|██████████| 200/200 [00:12<00:00, 15.53it/s, Train_MSE=0.232, Valid_MSE=1.57] \n"
     ]
    },
    {
     "name": "stdout",
     "output_type": "stream",
     "text": [
      "Evaluating Feature 205/240\n"
     ]
    },
    {
     "name": "stderr",
     "output_type": "stream",
     "text": [
      "Epoch 200: 100%|██████████| 200/200 [00:12<00:00, 15.46it/s, Train_MSE=0.211, Valid_MSE=1.27] \n"
     ]
    },
    {
     "name": "stdout",
     "output_type": "stream",
     "text": [
      "Evaluating Feature 206/240\n"
     ]
    },
    {
     "name": "stderr",
     "output_type": "stream",
     "text": [
      "Epoch 200: 100%|██████████| 200/200 [00:13<00:00, 15.37it/s, Train_MSE=0.229, Valid_MSE=1.37] \n"
     ]
    },
    {
     "name": "stdout",
     "output_type": "stream",
     "text": [
      "Evaluating Feature 207/240\n"
     ]
    },
    {
     "name": "stderr",
     "output_type": "stream",
     "text": [
      "Epoch 200: 100%|██████████| 200/200 [00:12<00:00, 15.51it/s, Train_MSE=0.236, Valid_MSE=1.32] \n"
     ]
    },
    {
     "name": "stdout",
     "output_type": "stream",
     "text": [
      "Evaluating Feature 208/240\n"
     ]
    },
    {
     "name": "stderr",
     "output_type": "stream",
     "text": [
      "Epoch 200: 100%|██████████| 200/200 [00:12<00:00, 15.41it/s, Train_MSE=0.243, Valid_MSE=0.823]\n"
     ]
    },
    {
     "name": "stdout",
     "output_type": "stream",
     "text": [
      "Evaluating Feature 209/240\n"
     ]
    },
    {
     "name": "stderr",
     "output_type": "stream",
     "text": [
      "Epoch 200: 100%|██████████| 200/200 [00:12<00:00, 15.44it/s, Train_MSE=0.199, Valid_MSE=1.77] \n"
     ]
    },
    {
     "name": "stdout",
     "output_type": "stream",
     "text": [
      "Evaluating Feature 210/240\n"
     ]
    },
    {
     "name": "stderr",
     "output_type": "stream",
     "text": [
      "Epoch 200: 100%|██████████| 200/200 [00:12<00:00, 15.73it/s, Train_MSE=0.17, Valid_MSE=1.4]   \n"
     ]
    },
    {
     "name": "stdout",
     "output_type": "stream",
     "text": [
      "Evaluating Feature 211/240\n"
     ]
    },
    {
     "name": "stderr",
     "output_type": "stream",
     "text": [
      "Epoch 200: 100%|██████████| 200/200 [00:13<00:00, 15.30it/s, Train_MSE=0.265, Valid_MSE=1.53] \n"
     ]
    },
    {
     "name": "stdout",
     "output_type": "stream",
     "text": [
      "Evaluating Feature 212/240\n"
     ]
    },
    {
     "name": "stderr",
     "output_type": "stream",
     "text": [
      "Epoch 200: 100%|██████████| 200/200 [00:12<00:00, 15.75it/s, Train_MSE=0.253, Valid_MSE=1.3]  \n"
     ]
    },
    {
     "name": "stdout",
     "output_type": "stream",
     "text": [
      "Evaluating Feature 213/240\n"
     ]
    },
    {
     "name": "stderr",
     "output_type": "stream",
     "text": [
      "Epoch 200: 100%|██████████| 200/200 [00:12<00:00, 15.56it/s, Train_MSE=0.179, Valid_MSE=1.56] \n"
     ]
    },
    {
     "name": "stdout",
     "output_type": "stream",
     "text": [
      "Evaluating Feature 214/240\n"
     ]
    },
    {
     "name": "stderr",
     "output_type": "stream",
     "text": [
      "Epoch 200: 100%|██████████| 200/200 [00:12<00:00, 16.23it/s, Train_MSE=0.255, Valid_MSE=1.29] \n"
     ]
    },
    {
     "name": "stdout",
     "output_type": "stream",
     "text": [
      "Evaluating Feature 215/240\n"
     ]
    },
    {
     "name": "stderr",
     "output_type": "stream",
     "text": [
      "Epoch 200: 100%|██████████| 200/200 [00:12<00:00, 16.08it/s, Train_MSE=0.236, Valid_MSE=1.19] \n"
     ]
    },
    {
     "name": "stdout",
     "output_type": "stream",
     "text": [
      "Evaluating Feature 216/240\n"
     ]
    },
    {
     "name": "stderr",
     "output_type": "stream",
     "text": [
      "Epoch 200: 100%|██████████| 200/200 [00:12<00:00, 16.19it/s, Train_MSE=0.243, Valid_MSE=1.5]  \n"
     ]
    },
    {
     "name": "stdout",
     "output_type": "stream",
     "text": [
      "Evaluating Feature 217/240\n"
     ]
    },
    {
     "name": "stderr",
     "output_type": "stream",
     "text": [
      "Epoch 200: 100%|██████████| 200/200 [00:12<00:00, 16.12it/s, Train_MSE=0.244, Valid_MSE=1.6]  \n"
     ]
    },
    {
     "name": "stdout",
     "output_type": "stream",
     "text": [
      "Evaluating Feature 218/240\n"
     ]
    },
    {
     "name": "stderr",
     "output_type": "stream",
     "text": [
      "Epoch 200: 100%|██████████| 200/200 [00:13<00:00, 15.29it/s, Train_MSE=0.196, Valid_MSE=1.12] \n"
     ]
    },
    {
     "name": "stdout",
     "output_type": "stream",
     "text": [
      "Evaluating Feature 219/240\n"
     ]
    },
    {
     "name": "stderr",
     "output_type": "stream",
     "text": [
      "Epoch 200: 100%|██████████| 200/200 [00:12<00:00, 15.49it/s, Train_MSE=0.239, Valid_MSE=0.933]\n"
     ]
    },
    {
     "name": "stdout",
     "output_type": "stream",
     "text": [
      "Evaluating Feature 220/240\n"
     ]
    },
    {
     "name": "stderr",
     "output_type": "stream",
     "text": [
      "Epoch 200: 100%|██████████| 200/200 [00:13<00:00, 15.13it/s, Train_MSE=0.236, Valid_MSE=1.49]\n"
     ]
    },
    {
     "name": "stdout",
     "output_type": "stream",
     "text": [
      "Evaluating Feature 221/240\n"
     ]
    },
    {
     "name": "stderr",
     "output_type": "stream",
     "text": [
      "Epoch 200: 100%|██████████| 200/200 [00:12<00:00, 15.41it/s, Train_MSE=0.275, Valid_MSE=1.22] \n"
     ]
    },
    {
     "name": "stdout",
     "output_type": "stream",
     "text": [
      "Evaluating Feature 222/240\n"
     ]
    },
    {
     "name": "stderr",
     "output_type": "stream",
     "text": [
      "Epoch 200: 100%|██████████| 200/200 [00:12<00:00, 15.55it/s, Train_MSE=0.197, Valid_MSE=1.59] \n"
     ]
    },
    {
     "name": "stdout",
     "output_type": "stream",
     "text": [
      "Evaluating Feature 223/240\n"
     ]
    },
    {
     "name": "stderr",
     "output_type": "stream",
     "text": [
      "Epoch 200: 100%|██████████| 200/200 [00:13<00:00, 15.12it/s, Train_MSE=0.204, Valid_MSE=1.46] \n"
     ]
    },
    {
     "name": "stdout",
     "output_type": "stream",
     "text": [
      "Evaluating Feature 224/240\n"
     ]
    },
    {
     "name": "stderr",
     "output_type": "stream",
     "text": [
      "Epoch 200: 100%|██████████| 200/200 [00:12<00:00, 15.50it/s, Train_MSE=0.26, Valid_MSE=1.31] \n"
     ]
    },
    {
     "name": "stdout",
     "output_type": "stream",
     "text": [
      "Evaluating Feature 225/240\n"
     ]
    },
    {
     "name": "stderr",
     "output_type": "stream",
     "text": [
      "Epoch 200: 100%|██████████| 200/200 [00:12<00:00, 15.50it/s, Train_MSE=0.212, Valid_MSE=1.62]\n"
     ]
    },
    {
     "name": "stdout",
     "output_type": "stream",
     "text": [
      "Evaluating Feature 226/240\n"
     ]
    },
    {
     "name": "stderr",
     "output_type": "stream",
     "text": [
      "Epoch 200: 100%|██████████| 200/200 [00:12<00:00, 15.51it/s, Train_MSE=0.199, Valid_MSE=1.13] \n"
     ]
    },
    {
     "name": "stdout",
     "output_type": "stream",
     "text": [
      "Evaluating Feature 227/240\n"
     ]
    },
    {
     "name": "stderr",
     "output_type": "stream",
     "text": [
      "Epoch 200: 100%|██████████| 200/200 [00:13<00:00, 15.08it/s, Train_MSE=0.233, Valid_MSE=1.34] \n"
     ]
    },
    {
     "name": "stdout",
     "output_type": "stream",
     "text": [
      "Evaluating Feature 228/240\n"
     ]
    },
    {
     "name": "stderr",
     "output_type": "stream",
     "text": [
      "Epoch 200: 100%|██████████| 200/200 [00:12<00:00, 15.57it/s, Train_MSE=0.147, Valid_MSE=1.23] \n"
     ]
    },
    {
     "name": "stdout",
     "output_type": "stream",
     "text": [
      "Evaluating Feature 229/240\n"
     ]
    },
    {
     "name": "stderr",
     "output_type": "stream",
     "text": [
      "Epoch 200: 100%|██████████| 200/200 [00:12<00:00, 15.59it/s, Train_MSE=0.203, Valid_MSE=1.3]  \n"
     ]
    },
    {
     "name": "stdout",
     "output_type": "stream",
     "text": [
      "Evaluating Feature 230/240\n"
     ]
    },
    {
     "name": "stderr",
     "output_type": "stream",
     "text": [
      "Epoch 200: 100%|██████████| 200/200 [00:12<00:00, 15.40it/s, Train_MSE=0.206, Valid_MSE=1.62] \n"
     ]
    },
    {
     "name": "stdout",
     "output_type": "stream",
     "text": [
      "Evaluating Feature 231/240\n"
     ]
    },
    {
     "name": "stderr",
     "output_type": "stream",
     "text": [
      "Epoch 200: 100%|██████████| 200/200 [00:12<00:00, 15.57it/s, Train_MSE=0.222, Valid_MSE=1.59]\n"
     ]
    },
    {
     "name": "stdout",
     "output_type": "stream",
     "text": [
      "Evaluating Feature 232/240\n"
     ]
    },
    {
     "name": "stderr",
     "output_type": "stream",
     "text": [
      "Epoch 200: 100%|██████████| 200/200 [00:13<00:00, 14.85it/s, Train_MSE=0.251, Valid_MSE=1.09] \n"
     ]
    },
    {
     "name": "stdout",
     "output_type": "stream",
     "text": [
      "Evaluating Feature 233/240\n"
     ]
    },
    {
     "name": "stderr",
     "output_type": "stream",
     "text": [
      "Epoch 200: 100%|██████████| 200/200 [00:12<00:00, 15.55it/s, Train_MSE=0.204, Valid_MSE=1.48] \n"
     ]
    },
    {
     "name": "stdout",
     "output_type": "stream",
     "text": [
      "Evaluating Feature 234/240\n"
     ]
    },
    {
     "name": "stderr",
     "output_type": "stream",
     "text": [
      "Epoch 200: 100%|██████████| 200/200 [00:13<00:00, 15.11it/s, Train_MSE=0.288, Valid_MSE=1.34] \n"
     ]
    },
    {
     "name": "stdout",
     "output_type": "stream",
     "text": [
      "Evaluating Feature 235/240\n"
     ]
    },
    {
     "name": "stderr",
     "output_type": "stream",
     "text": [
      "Epoch 200: 100%|██████████| 200/200 [00:12<00:00, 15.55it/s, Train_MSE=0.233, Valid_MSE=1.54] \n"
     ]
    },
    {
     "name": "stdout",
     "output_type": "stream",
     "text": [
      "Evaluating Feature 236/240\n"
     ]
    },
    {
     "name": "stderr",
     "output_type": "stream",
     "text": [
      "Epoch 200: 100%|██████████| 200/200 [00:13<00:00, 15.34it/s, Train_MSE=0.158, Valid_MSE=1.63]\n"
     ]
    },
    {
     "name": "stdout",
     "output_type": "stream",
     "text": [
      "Evaluating Feature 237/240\n"
     ]
    },
    {
     "name": "stderr",
     "output_type": "stream",
     "text": [
      "Epoch 200: 100%|██████████| 200/200 [00:13<00:00, 15.00it/s, Train_MSE=0.212, Valid_MSE=1.6]  \n"
     ]
    },
    {
     "name": "stdout",
     "output_type": "stream",
     "text": [
      "Evaluating Feature 238/240\n"
     ]
    },
    {
     "name": "stderr",
     "output_type": "stream",
     "text": [
      "Epoch 200: 100%|██████████| 200/200 [00:12<00:00, 15.41it/s, Train_MSE=0.218, Valid_MSE=1.48] \n"
     ]
    },
    {
     "name": "stdout",
     "output_type": "stream",
     "text": [
      "Evaluating Feature 239/240\n"
     ]
    },
    {
     "name": "stderr",
     "output_type": "stream",
     "text": [
      "Epoch 200: 100%|██████████| 200/200 [00:13<00:00, 15.12it/s, Train_MSE=0.314, Valid_MSE=1.61]\n"
     ]
    }
   ],
   "source": [
    "feature_names = feature_matrix.iloc[:,1:].columns\n",
    "log_reg_feature_scores = []\n",
    "SNN_feature_scores = []\n",
    "\n",
    "for i in range(X.shape[1]):\n",
    "    print(f\"Evaluating Feature {i+1}/{len(feature_names)}\")\n",
    "    # Randomize feature\n",
    "    orig_feature = X[:,i]\n",
    "    np.random.shuffle(X[:,i])\n",
    "\n",
    "    # Create New Datasets\n",
    "    X_train, X_valid, X_test, y_train, y_valid, y_test = train_valid_test_split(X, y, random_state=42)\n",
    "\n",
    "    X_train_tensor = torch.tensor(X_train, dtype=torch.float32)\n",
    "    y_train_tensor = torch.tensor(y_train, dtype=torch.float32).reshape(-1, 1)\n",
    "    X_valid_tensor = torch.tensor(X_valid, dtype=torch.float32)\n",
    "    y_valid_tensor = torch.tensor(y_valid, dtype=torch.float32).reshape(-1, 1)\n",
    "    X_test_tensor = torch.tensor(X_test, dtype=torch.float32)\n",
    "    y_test_tensor = torch.tensor(y_test, dtype=torch.float32).reshape(-1, 1)\n",
    "    \n",
    "    # Define and Train Models\n",
    "    with warnings.catch_warnings():\n",
    "        warnings.simplefilter(\"ignore\", category=ConvergenceWarning)\n",
    "        # Define Logistic Regression model\n",
    "        lin_model = linear_model.LogisticRegression(max_iter=1000)\n",
    "        # Train Logistic Regression model\n",
    "        lin_model.fit(X_train, y_train)\n",
    "\n",
    "    # Define Sequential NN model\n",
    "    model = nn.Sequential(\n",
    "        nn.Linear(X.shape[1], 12),\n",
    "        nn.ReLU(),\n",
    "        nn.Linear(12, 24),\n",
    "        nn.ReLU(),\n",
    "        nn.Linear(24, 24),\n",
    "        nn.ReLU(),\n",
    "        nn.Linear(24, 12),\n",
    "        nn.ReLU(),\n",
    "        nn.Linear(12, 6),\n",
    "        nn.ReLU(),\n",
    "        nn.Linear(6, 1),\n",
    "        nn.Sigmoid()\n",
    "    )\n",
    "    # loss function and optimizer\n",
    "    loss_fn = nn.BCELoss()\n",
    "    optimizer = torch.optim.Adam(model.parameters(), lr=0.0001)\n",
    "    # Train Sequential NN model\n",
    "    model, train_history, valid_history = train_SNN(\n",
    "        model, \n",
    "        loss_fn,\n",
    "        optimizer,\n",
    "        X_train_tensor, \n",
    "        y_train_tensor, \n",
    "        X_valid_tensor, \n",
    "        y_valid_tensor, \n",
    "        n_epochs = 200,\n",
    "        batch_size = 64,\n",
    "        display=False\n",
    "    )\n",
    "    \n",
    "    # Evaluate Logistic Rergression model\n",
    "    test_pred = lin_model.predict(X_test)\n",
    "    lin_reg_score = get_metrics(test_pred, y_test, display=False)[-1]\n",
    "    \n",
    "    # Evaluate Sequential NN model    \n",
    "    # Find optimal threshold\n",
    "    valid_pred_prob = model(X_valid_tensor).detach().numpy()[:,0]\n",
    "    threshold = find_best_prob(valid_pred_prob, y_valid, display=False)\n",
    "    # Find test roc_auc score\n",
    "    test_pred_prob = model(X_test_tensor).detach().numpy()[:,0]\n",
    "    test_pred = test_pred_prob > threshold\n",
    "    SNN_score = get_metrics(test_pred, y_test, display=False)[-1]\n",
    "    \n",
    "    # Save evaluated scores\n",
    "    log_reg_feature_scores.append(lin_reg_score)\n",
    "    SNN_feature_scores.append(SNN_score)\n",
    "    \n",
    "    # Restore orig Dataset\n",
    "    X[:,i] = orig_feature\n"
   ]
  },
  {
   "cell_type": "markdown",
   "metadata": {},
   "source": [
    "## Final Feature Scores"
   ]
  },
  {
   "cell_type": "code",
   "execution_count": 23,
   "metadata": {},
   "outputs": [],
   "source": [
    "feature_names = feature_matrix.iloc[:,1:].columns"
   ]
  },
  {
   "cell_type": "code",
   "execution_count": 35,
   "metadata": {},
   "outputs": [],
   "source": [
    "SNN_sorted_scores = {\n",
    "    k:v for k,v in sorted(\n",
    "        dict(zip(feature_names, SNN_feature_scores)).items(), key=lambda x: x[1]\n",
    "    )\n",
    "}\n",
    "\n",
    "log_reg_sorted_scores = {\n",
    "    k:v for k,v in sorted(\n",
    "        dict(zip(feature_names, log_reg_feature_scores)).items(), key=lambda x: x[1]\n",
    "    )\n",
    "}"
   ]
  },
  {
   "cell_type": "code",
   "execution_count": 38,
   "metadata": {},
   "outputs": [
    {
     "data": {
      "text/plain": [
       "array(['CHILD_DEPENDENTS_mean', 'MORTGAGE_mean', 'minCHILD_DEPENDENTS',\n",
       "       'RENT_mean', 'PAYCHECK_mean', 'INSURANCE_prop', 'PETS_mean',\n",
       "       'TRAVEL_mean', 'HEALTHCARE_MEDICAL_mean', 'BNPL_mean',\n",
       "       'OVERDRAFT_mean', 'INSURANCE_mean', 'CREDIT_CARD_PAYMENT_mean',\n",
       "       'CREDIT_CARD_PAYMENT_prop', 'PETS_prop', 'SELF_TRANSFER_mean',\n",
       "       'TAX_mean', 'AUTOMOTIVE_mean', 'ATM_CASH_prop', 'EDUCATION_prop'],\n",
       "      dtype='<U25')"
      ]
     },
     "execution_count": 38,
     "metadata": {},
     "output_type": "execute_result"
    }
   ],
   "source": [
    "# Top 20 features for Logistic Regression model\n",
    "np.array(list(log_reg_sorted_scores.keys()))[:20]"
   ]
  },
  {
   "cell_type": "code",
   "execution_count": 39,
   "metadata": {},
   "outputs": [
    {
     "data": {
      "text/plain": [
       "array(['MORTGAGE_prop', 'PETS_prop', 'GIFTS_DONATIONS_prop',\n",
       "       'ACCOUNT_FEES_prop', 'SELF_TRANSFER_prop',\n",
       "       'HEALTHCARE_MEDICAL_prop', 'EDUCATION_prop',\n",
       "       'CHILD_DEPENDENTS_prop', 'cum_weighted_def_val', 'GROCERIES_prop',\n",
       "       'OVERDRAFT_prop', 'ESSENTIAL_SERVICES_count',\n",
       "       'FOOD_AND_BEVERAGES_prop', 'UNCATEGORIZED_prop', 'Overdraft Count',\n",
       "       'ESSENTIAL_SERVICES_mean', 'PAYCHECK_prop', 'LOAN_prop',\n",
       "       'CREDIT_CARD_PAYMENT_prop', 'ESSENTIAL_SERVICES_prop'],\n",
       "      dtype='<U25')"
      ]
     },
     "execution_count": 39,
     "metadata": {},
     "output_type": "execute_result"
    }
   ],
   "source": [
    "# Top 20 features for SNN model\n",
    "np.array(list(SNN_sorted_scores.keys()))[:20]"
   ]
  },
  {
   "cell_type": "code",
   "execution_count": null,
   "metadata": {},
   "outputs": [],
   "source": []
  }
 ],
 "metadata": {
  "kernelspec": {
   "display_name": "Python 3 (ipykernel)",
   "language": "python",
   "name": "python3"
  },
  "language_info": {
   "codemirror_mode": {
    "name": "ipython",
    "version": 3
   },
   "file_extension": ".py",
   "mimetype": "text/x-python",
   "name": "python",
   "nbconvert_exporter": "python",
   "pygments_lexer": "ipython3",
   "version": "3.9.12"
  }
 },
 "nbformat": 4,
 "nbformat_minor": 4
}
