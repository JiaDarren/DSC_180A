{
 "cells": [
  {
   "cell_type": "markdown",
   "metadata": {},
   "source": [
    "# Import Important Libraries"
   ]
  },
  {
   "cell_type": "code",
   "execution_count": 34,
   "metadata": {},
   "outputs": [],
   "source": [
    "import pandas as pd"
   ]
  },
  {
   "cell_type": "code",
   "execution_count": 35,
   "metadata": {},
   "outputs": [],
   "source": [
    "DATA_PATH = '../data'"
   ]
  },
  {
   "cell_type": "markdown",
   "metadata": {},
   "source": [
    "# Import Datasets"
   ]
  },
  {
   "cell_type": "code",
   "execution_count": 36,
   "metadata": {},
   "outputs": [],
   "source": [
    "datasets_files = [\n",
    "    \"q2_consDF_final.pqt\", \n",
    "    \"q2_consDF_HOLDOUT_notags_final.pqt\", \n",
    "    \"q2_acctDF_final.pqt\", \n",
    "    \"q2_acctDF_HOLDOUT_final.pqt\", \n",
    "    \"q2_inflows_final.pqt\", \n",
    "    \"q2_inflows_HOLDOUT_final.pqt\", \n",
    "    \"q2_outflows_1sthalf_final.pqt\", \n",
    "    \"q2_outflows_2ndhalf_final.pqt\", \n",
    "    \"q2_outflows_HOLDOUT_2ndhalf_final.pqt\", \n",
    "    \"q2_outflows_HOLDOUT_1sthalf_final.pqt\"\n",
    "]\n",
    "\n",
    "datasets = []\n",
    "for dataset_file in datasets_files:\n",
    "    datasets.append(pd.read_parquet(f'../../dsc180-fa23/{dataset_file}'))"
   ]
  },
  {
   "cell_type": "code",
   "execution_count": 37,
   "metadata": {},
   "outputs": [
    {
     "name": "stdout",
     "output_type": "stream",
     "text": [
      "0: q2_consDF_final.pqt                    ['prism_consumer_id', 'evaluation_date', 'APPROVED', 'FPF_TARGET']\n",
      "1: q2_consDF_HOLDOUT_notags_final.pqt     ['prism_consumer_id', 'evaluation_date', 'APPROVED']\n",
      "2: q2_acctDF_final.pqt                    ['prism_consumer_id', 'prism_account_id', 'account_type', 'balance', 'balance_date']\n",
      "3: q2_acctDF_HOLDOUT_final.pqt            ['prism_consumer_id', 'prism_account_id', 'balance', 'balance_date', 'account_type']\n",
      "4: q2_inflows_final.pqt                   ['prism_consumer_id', 'prism_account_id', 'memo_clean', 'amount', 'posted_date', 'category_description']\n",
      "5: q2_inflows_HOLDOUT_final.pqt           ['prism_consumer_id', 'prism_account_id', 'memo_clean', 'amount', 'posted_date', 'category_description', 'credit_or_debit']\n",
      "6: q2_outflows_1sthalf_final.pqt          ['prism_consumer_id', 'prism_account_id', 'memo_clean', 'amount', 'posted_date', 'category_description']\n",
      "7: q2_outflows_2ndhalf_final.pqt          ['prism_consumer_id', 'prism_account_id', 'memo_clean', 'amount', 'posted_date', 'category_description']\n",
      "8: q2_outflows_HOLDOUT_2ndhalf_final.pqt  ['prism_consumer_id', 'prism_account_id', 'memo_clean', 'amount', 'posted_date', 'category_description', 'credit_or_debit']\n",
      "9: q2_outflows_HOLDOUT_1sthalf_final.pqt  ['prism_consumer_id', 'prism_account_id', 'memo_clean', 'amount', 'posted_date', 'category_description', 'credit_or_debit']\n"
     ]
    }
   ],
   "source": [
    "for i in range(len(datasets)):\n",
    "    print(f\"{i}: {datasets_files[i]:39s}{list(datasets[i].columns)}\")"
   ]
  },
  {
   "cell_type": "code",
   "execution_count": 38,
   "metadata": {},
   "outputs": [],
   "source": [
    "new_datasets = {\n",
    "    \"q2_consDF_final.pqt\"                   : datasets[0], \n",
    "    \"q2_consDF_HOLDOUT_notags_final.pqt\"    : datasets[1], \n",
    "    \"q2_acctDF_final.pqt\"                   : datasets[2], \n",
    "    \"q2_acctDF_HOLDOUT_final.pqt\"           : datasets[3], \n",
    "    \"q2_inflows_final.pqt\"                  : datasets[4], \n",
    "    \"q2_inflows_HOLDOUT_final.pqt\"          : datasets[5], \n",
    "    \"q2_outflows_final.pqt\"                 : pd.concat(datasets[6:8]),  \n",
    "    \"q2_outflows_HOLDOUT_final.pqt\"         : pd.concat(datasets[8:]), \n",
    "}"
   ]
  },
  {
   "cell_type": "code",
   "execution_count": 39,
   "metadata": {},
   "outputs": [],
   "source": [
    "for file_name in new_datasets:\n",
    "    new_datasets[file_name].to_parquet(f\"{DATA_PATH}/raw/{file_name}\")"
   ]
  },
  {
   "cell_type": "markdown",
   "metadata": {},
   "source": [
    "# Save Datasets"
   ]
  },
  {
   "cell_type": "code",
   "execution_count": 40,
   "metadata": {},
   "outputs": [
    {
     "name": "stdout",
     "output_type": "stream",
     "text": [
      "q2_consDF_final.pqt                : ['prism_consumer_id', 'evaluation_date', 'APPROVED', 'FPF_TARGET']\n",
      "q2_consDF_HOLDOUT_notags_final.pqt : ['prism_consumer_id', 'evaluation_date', 'APPROVED']\n",
      "q2_acctDF_final.pqt                : ['prism_consumer_id', 'prism_account_id', 'account_type', 'balance', 'balance_date']\n",
      "q2_acctDF_HOLDOUT_final.pqt        : ['prism_consumer_id', 'prism_account_id', 'balance', 'balance_date', 'account_type']\n",
      "q2_inflows_final.pqt               : ['prism_consumer_id', 'prism_account_id', 'memo_clean', 'amount', 'posted_date', 'category_description']\n",
      "q2_inflows_HOLDOUT_final.pqt       : ['prism_consumer_id', 'prism_account_id', 'memo_clean', 'amount', 'posted_date', 'category_description', 'credit_or_debit']\n",
      "q2_outflows_final.pqt              : ['prism_consumer_id', 'prism_account_id', 'memo_clean', 'amount', 'posted_date', 'category_description']\n",
      "q2_outflows_HOLDOUT_final.pqt      : ['prism_consumer_id', 'prism_account_id', 'memo_clean', 'amount', 'posted_date', 'category_description', 'credit_or_debit']\n"
     ]
    }
   ],
   "source": [
    "for file_name in new_datasets:\n",
    "    print(f\"{file_name:35s}: {list(new_datasets[file_name].columns)}\")"
   ]
  }
 ],
 "metadata": {
  "kernelspec": {
   "display_name": "dsc180",
   "language": "python",
   "name": "python3"
  },
  "language_info": {
   "codemirror_mode": {
    "name": "ipython",
    "version": 3
   },
   "file_extension": ".py",
   "mimetype": "text/x-python",
   "name": "python",
   "nbconvert_exporter": "python",
   "pygments_lexer": "ipython3",
   "version": "3.9.12"
  }
 },
 "nbformat": 4,
 "nbformat_minor": 2
}
