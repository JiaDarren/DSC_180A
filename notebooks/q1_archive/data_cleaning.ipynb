{
 "cells": [
  {
   "cell_type": "markdown",
   "metadata": {},
   "source": [
    "# Import Important Libraries"
   ]
  },
  {
   "cell_type": "code",
   "execution_count": 1,
   "metadata": {},
   "outputs": [],
   "source": [
    "import pandas as pd\n",
    "import matplotlib.pyplot as plt\n",
    "import re"
   ]
  },
  {
   "cell_type": "code",
   "execution_count": 2,
   "metadata": {},
   "outputs": [],
   "source": [
    "DATA_PATH = '../../data'"
   ]
  },
  {
   "cell_type": "markdown",
   "metadata": {},
   "source": [
    "# Import Raw Data"
   ]
  },
  {
   "cell_type": "code",
   "execution_count": 3,
   "metadata": {},
   "outputs": [
    {
     "data": {
      "text/html": [
       "<div>\n",
       "<style scoped>\n",
       "    .dataframe tbody tr th:only-of-type {\n",
       "        vertical-align: middle;\n",
       "    }\n",
       "\n",
       "    .dataframe tbody tr th {\n",
       "        vertical-align: top;\n",
       "    }\n",
       "\n",
       "    .dataframe thead th {\n",
       "        text-align: right;\n",
       "    }\n",
       "</style>\n",
       "<table border=\"1\" class=\"dataframe\">\n",
       "  <thead>\n",
       "    <tr style=\"text-align: right;\">\n",
       "      <th></th>\n",
       "      <th>prism_consumer_id</th>\n",
       "      <th>prism_account_id</th>\n",
       "      <th>memo</th>\n",
       "      <th>amount</th>\n",
       "      <th>posted_date</th>\n",
       "      <th>category</th>\n",
       "    </tr>\n",
       "  </thead>\n",
       "  <tbody>\n",
       "    <tr>\n",
       "      <th>2</th>\n",
       "      <td>0</td>\n",
       "      <td>acc_0</td>\n",
       "      <td>TST* Casa Del Rio - Exp Fairlawn OH 09/24</td>\n",
       "      <td>18.42</td>\n",
       "      <td>2022-09-26</td>\n",
       "      <td>FOOD_AND_BEVERAGES</td>\n",
       "    </tr>\n",
       "    <tr>\n",
       "      <th>4</th>\n",
       "      <td>0</td>\n",
       "      <td>acc_0</td>\n",
       "      <td>Buffalo Wild Wings</td>\n",
       "      <td>26.47</td>\n",
       "      <td>2022-09-12</td>\n",
       "      <td>FOOD_AND_BEVERAGES</td>\n",
       "    </tr>\n",
       "    <tr>\n",
       "      <th>6</th>\n",
       "      <td>0</td>\n",
       "      <td>acc_0</td>\n",
       "      <td>Oculus CA 04/16</td>\n",
       "      <td>11.73</td>\n",
       "      <td>2022-04-18</td>\n",
       "      <td>GENERAL_MERCHANDISE</td>\n",
       "    </tr>\n",
       "    <tr>\n",
       "      <th>7</th>\n",
       "      <td>0</td>\n",
       "      <td>acc_0</td>\n",
       "      <td>LOS GIRASOLES STOW OH 03/08</td>\n",
       "      <td>30.04</td>\n",
       "      <td>2022-03-09</td>\n",
       "      <td>FOOD_AND_BEVERAGES</td>\n",
       "    </tr>\n",
       "    <tr>\n",
       "      <th>8</th>\n",
       "      <td>0</td>\n",
       "      <td>acc_0</td>\n",
       "      <td>BUZZIS LAUNDRY 1 OH 03/28</td>\n",
       "      <td>4.16</td>\n",
       "      <td>2022-03-29</td>\n",
       "      <td>GENERAL_MERCHANDISE</td>\n",
       "    </tr>\n",
       "  </tbody>\n",
       "</table>\n",
       "</div>"
      ],
      "text/plain": [
       "   prism_consumer_id prism_account_id  \\\n",
       "2                  0            acc_0   \n",
       "4                  0            acc_0   \n",
       "6                  0            acc_0   \n",
       "7                  0            acc_0   \n",
       "8                  0            acc_0   \n",
       "\n",
       "                                        memo  amount posted_date  \\\n",
       "2  TST* Casa Del Rio - Exp Fairlawn OH 09/24   18.42  2022-09-26   \n",
       "4                         Buffalo Wild Wings   26.47  2022-09-12   \n",
       "6                            Oculus CA 04/16   11.73  2022-04-18   \n",
       "7                LOS GIRASOLES STOW OH 03/08   30.04  2022-03-09   \n",
       "8                  BUZZIS LAUNDRY 1 OH 03/28    4.16  2022-03-29   \n",
       "\n",
       "              category  \n",
       "2   FOOD_AND_BEVERAGES  \n",
       "4   FOOD_AND_BEVERAGES  \n",
       "6  GENERAL_MERCHANDISE  \n",
       "7   FOOD_AND_BEVERAGES  \n",
       "8  GENERAL_MERCHANDISE  "
      ]
     },
     "execution_count": 3,
     "metadata": {},
     "output_type": "execute_result"
    }
   ],
   "source": [
    "raw_df_1 = pd.read_parquet(f'{DATA_PATH}/raw/Transacation_outflows_with_date_3k_firsthalf.pqt')\n",
    "raw_df_2 = pd.read_parquet(f'{DATA_PATH}/raw/Transacation_outflows_with_date_3k_secondhalf.pqt')\n",
    "\n",
    "df = pd.concat([raw_df_1, raw_df_2])\n",
    "# remove rows where memo is the same as category_description\n",
    "df = df[df[\"memo\"] != df[\"category\"]]\n",
    "df.head()"
   ]
  },
  {
   "cell_type": "code",
   "execution_count": 4,
   "metadata": {},
   "outputs": [
    {
     "data": {
      "text/plain": [
       "(1306452, 6)"
      ]
     },
     "execution_count": 4,
     "metadata": {},
     "output_type": "execute_result"
    }
   ],
   "source": [
    "df.shape"
   ]
  },
  {
   "cell_type": "markdown",
   "metadata": {},
   "source": [
    "# Memo Cleaning"
   ]
  },
  {
   "cell_type": "code",
   "execution_count": 5,
   "metadata": {},
   "outputs": [
    {
     "data": {
      "text/html": [
       "<div>\n",
       "<style scoped>\n",
       "    .dataframe tbody tr th:only-of-type {\n",
       "        vertical-align: middle;\n",
       "    }\n",
       "\n",
       "    .dataframe tbody tr th {\n",
       "        vertical-align: top;\n",
       "    }\n",
       "\n",
       "    .dataframe thead th {\n",
       "        text-align: right;\n",
       "    }\n",
       "</style>\n",
       "<table border=\"1\" class=\"dataframe\">\n",
       "  <thead>\n",
       "    <tr style=\"text-align: right;\">\n",
       "      <th></th>\n",
       "      <th>prism_consumer_id</th>\n",
       "      <th>prism_account_id</th>\n",
       "      <th>memo</th>\n",
       "      <th>amount</th>\n",
       "      <th>posted_date</th>\n",
       "      <th>category</th>\n",
       "    </tr>\n",
       "  </thead>\n",
       "  <tbody>\n",
       "    <tr>\n",
       "      <th>2</th>\n",
       "      <td>0</td>\n",
       "      <td>acc_0</td>\n",
       "      <td>TST* CASA DEL RIO - EXP FAIRLAWN OH 09/24</td>\n",
       "      <td>18.42</td>\n",
       "      <td>2022-09-26</td>\n",
       "      <td>FOOD_AND_BEVERAGES</td>\n",
       "    </tr>\n",
       "    <tr>\n",
       "      <th>4</th>\n",
       "      <td>0</td>\n",
       "      <td>acc_0</td>\n",
       "      <td>BUFFALO WILD WINGS</td>\n",
       "      <td>26.47</td>\n",
       "      <td>2022-09-12</td>\n",
       "      <td>FOOD_AND_BEVERAGES</td>\n",
       "    </tr>\n",
       "    <tr>\n",
       "      <th>6</th>\n",
       "      <td>0</td>\n",
       "      <td>acc_0</td>\n",
       "      <td>OCULUS CA 04/16</td>\n",
       "      <td>11.73</td>\n",
       "      <td>2022-04-18</td>\n",
       "      <td>GENERAL_MERCHANDISE</td>\n",
       "    </tr>\n",
       "    <tr>\n",
       "      <th>7</th>\n",
       "      <td>0</td>\n",
       "      <td>acc_0</td>\n",
       "      <td>LOS GIRASOLES STOW OH 03/08</td>\n",
       "      <td>30.04</td>\n",
       "      <td>2022-03-09</td>\n",
       "      <td>FOOD_AND_BEVERAGES</td>\n",
       "    </tr>\n",
       "    <tr>\n",
       "      <th>8</th>\n",
       "      <td>0</td>\n",
       "      <td>acc_0</td>\n",
       "      <td>BUZZIS LAUNDRY 1 OH 03/28</td>\n",
       "      <td>4.16</td>\n",
       "      <td>2022-03-29</td>\n",
       "      <td>GENERAL_MERCHANDISE</td>\n",
       "    </tr>\n",
       "  </tbody>\n",
       "</table>\n",
       "</div>"
      ],
      "text/plain": [
       "   prism_consumer_id prism_account_id  \\\n",
       "2                  0            acc_0   \n",
       "4                  0            acc_0   \n",
       "6                  0            acc_0   \n",
       "7                  0            acc_0   \n",
       "8                  0            acc_0   \n",
       "\n",
       "                                        memo  amount posted_date  \\\n",
       "2  TST* CASA DEL RIO - EXP FAIRLAWN OH 09/24   18.42  2022-09-26   \n",
       "4                         BUFFALO WILD WINGS   26.47  2022-09-12   \n",
       "6                            OCULUS CA 04/16   11.73  2022-04-18   \n",
       "7                LOS GIRASOLES STOW OH 03/08   30.04  2022-03-09   \n",
       "8                  BUZZIS LAUNDRY 1 OH 03/28    4.16  2022-03-29   \n",
       "\n",
       "              category  \n",
       "2   FOOD_AND_BEVERAGES  \n",
       "4   FOOD_AND_BEVERAGES  \n",
       "6  GENERAL_MERCHANDISE  \n",
       "7   FOOD_AND_BEVERAGES  \n",
       "8  GENERAL_MERCHANDISE  "
      ]
     },
     "execution_count": 5,
     "metadata": {},
     "output_type": "execute_result"
    }
   ],
   "source": [
    "df[\"memo\"] = df[\"memo\"].str.upper()\n",
    "df.head()"
   ]
  },
  {
   "cell_type": "code",
   "execution_count": 6,
   "metadata": {},
   "outputs": [
    {
     "data": {
      "text/plain": [
       "2                           TST CASA DEL RIO EXP FAIRLAWN OH\n",
       "4                                         BUFFALO WILD WINGS\n",
       "6                                                  OCULUS CA\n",
       "7                                      LOS GIRASOLES STOW OH\n",
       "8                                          BUZZIS LAUNDRY OH\n",
       "                                 ...                        \n",
       "5195447    DEBIT CARD WITHDRAWAL PURCHASEAMAZON PRIME*TI4...\n",
       "5195452    POS WITHDRAWALAZ LOT QUIKTRIP E INDIAN SCHOOL ...\n",
       "5195455    POS WITHDRAWALWAL MART E MCKELLIPS RD MESA AZ ...\n",
       "5195458    WITHDRAWAL SALT RIVER PROJETYPE ONLINE PMT CO ...\n",
       "5195466     POS WITHDRAWALFRYS FOOD DRG S E MESA AZ CARD MCC\n",
       "Name: memo, Length: 1306452, dtype: object"
      ]
     },
     "execution_count": 6,
     "metadata": {},
     "output_type": "execute_result"
    }
   ],
   "source": [
    "def get_text(text):\n",
    "    return \" \".join(re.findall(r\"(?!\\W|X|\\d)(\\w+\\*\\w+|\\w+)\", text))\n",
    "    # return \" \".join(re.findall(\"(?!\\s|X)\\w+|(\\*\\w)|\\s{1}\", text))\n",
    "upper_memos = df[\"memo\"].apply(get_text)\n",
    "upper_memos"
   ]
  },
  {
   "cell_type": "code",
   "execution_count": 7,
   "metadata": {},
   "outputs": [
    {
     "data": {
      "text/plain": [
       "2                           TST CASA DEL RIO EXP FAIRLAWN OH\n",
       "4                                         BUFFALO WILD WINGS\n",
       "6                                                  OCULUS CA\n",
       "7                                      LOS GIRASOLES STOW OH\n",
       "8                                          BUZZIS LAUNDRY OH\n",
       "                                 ...                        \n",
       "5195447    DEBIT CARD WITHDRAWAL PURCHASEAMAZON PRIME * T...\n",
       "5195452    POS WITHDRAWALAZ LOT QUIKTRIP E INDIAN SCHOOL ...\n",
       "5195455    POS WITHDRAWALWAL MART E MCKELLIPS RD MESA AZ ...\n",
       "5195458    WITHDRAWAL SALT RIVER PROJETYPE ONLINE PMT COS...\n",
       "5195466     POS WITHDRAWALFRYS FOOD DRG S E MESA AZ CARD MCC\n",
       "Name: memo, Length: 1306452, dtype: object"
      ]
     },
     "execution_count": 7,
     "metadata": {},
     "output_type": "execute_result"
    }
   ],
   "source": [
    "def get_text_alt(text):\n",
    "    text = \"\".join(re.findall(r\"(?!(?!\\*|\\.|\\s|-)\\W).\", text))\n",
    "    return \" \".join(re.findall(r\"\\b(?!COM|X{2,}|\\w+X{3,}|\\d)\\w+|\\*\\b\", text))\n",
    "alt_upper_memos = df[\"memo\"].apply(get_text_alt)\n",
    "alt_upper_memos"
   ]
  },
  {
   "cell_type": "code",
   "execution_count": 8,
   "metadata": {},
   "outputs": [
    {
     "data": {
      "text/html": [
       "<div>\n",
       "<style scoped>\n",
       "    .dataframe tbody tr th:only-of-type {\n",
       "        vertical-align: middle;\n",
       "    }\n",
       "\n",
       "    .dataframe tbody tr th {\n",
       "        vertical-align: top;\n",
       "    }\n",
       "\n",
       "    .dataframe thead th {\n",
       "        text-align: right;\n",
       "    }\n",
       "</style>\n",
       "<table border=\"1\" class=\"dataframe\">\n",
       "  <thead>\n",
       "    <tr style=\"text-align: right;\">\n",
       "      <th></th>\n",
       "      <th>prism_consumer_id</th>\n",
       "      <th>prism_account_id</th>\n",
       "      <th>memo</th>\n",
       "      <th>amount</th>\n",
       "      <th>posted_date</th>\n",
       "      <th>category</th>\n",
       "    </tr>\n",
       "  </thead>\n",
       "  <tbody>\n",
       "    <tr>\n",
       "      <th>2</th>\n",
       "      <td>0</td>\n",
       "      <td>acc_0</td>\n",
       "      <td>TST CASA DEL RIO EXP FAIRLAWN OH</td>\n",
       "      <td>18.42</td>\n",
       "      <td>2022-09-26</td>\n",
       "      <td>FOOD_AND_BEVERAGES</td>\n",
       "    </tr>\n",
       "    <tr>\n",
       "      <th>4</th>\n",
       "      <td>0</td>\n",
       "      <td>acc_0</td>\n",
       "      <td>BUFFALO WILD WINGS</td>\n",
       "      <td>26.47</td>\n",
       "      <td>2022-09-12</td>\n",
       "      <td>FOOD_AND_BEVERAGES</td>\n",
       "    </tr>\n",
       "    <tr>\n",
       "      <th>6</th>\n",
       "      <td>0</td>\n",
       "      <td>acc_0</td>\n",
       "      <td>OCULUS CA</td>\n",
       "      <td>11.73</td>\n",
       "      <td>2022-04-18</td>\n",
       "      <td>GENERAL_MERCHANDISE</td>\n",
       "    </tr>\n",
       "    <tr>\n",
       "      <th>7</th>\n",
       "      <td>0</td>\n",
       "      <td>acc_0</td>\n",
       "      <td>LOS GIRASOLES STOW OH</td>\n",
       "      <td>30.04</td>\n",
       "      <td>2022-03-09</td>\n",
       "      <td>FOOD_AND_BEVERAGES</td>\n",
       "    </tr>\n",
       "    <tr>\n",
       "      <th>8</th>\n",
       "      <td>0</td>\n",
       "      <td>acc_0</td>\n",
       "      <td>BUZZIS LAUNDRY OH</td>\n",
       "      <td>4.16</td>\n",
       "      <td>2022-03-29</td>\n",
       "      <td>GENERAL_MERCHANDISE</td>\n",
       "    </tr>\n",
       "  </tbody>\n",
       "</table>\n",
       "</div>"
      ],
      "text/plain": [
       "   prism_consumer_id prism_account_id                              memo  \\\n",
       "2                  0            acc_0  TST CASA DEL RIO EXP FAIRLAWN OH   \n",
       "4                  0            acc_0                BUFFALO WILD WINGS   \n",
       "6                  0            acc_0                         OCULUS CA   \n",
       "7                  0            acc_0             LOS GIRASOLES STOW OH   \n",
       "8                  0            acc_0                 BUZZIS LAUNDRY OH   \n",
       "\n",
       "   amount posted_date             category  \n",
       "2   18.42  2022-09-26   FOOD_AND_BEVERAGES  \n",
       "4   26.47  2022-09-12   FOOD_AND_BEVERAGES  \n",
       "6   11.73  2022-04-18  GENERAL_MERCHANDISE  \n",
       "7   30.04  2022-03-09   FOOD_AND_BEVERAGES  \n",
       "8    4.16  2022-03-29  GENERAL_MERCHANDISE  "
      ]
     },
     "execution_count": 8,
     "metadata": {},
     "output_type": "execute_result"
    }
   ],
   "source": [
    "df_clean = df.copy()\n",
    "df_clean[\"memo\"] = alt_upper_memos\n",
    "df_clean.head()"
   ]
  },
  {
   "cell_type": "markdown",
   "metadata": {},
   "source": [
    "# Date Cleaning"
   ]
  },
  {
   "cell_type": "code",
   "execution_count": 14,
   "metadata": {},
   "outputs": [],
   "source": [
    "df_clean['year'] = pd.DatetimeIndex(df_clean['posted_date']).year\n",
    "df_clean['month'] = pd.DatetimeIndex(df_clean['posted_date']).month\n",
    "df_clean['day'] = pd.DatetimeIndex(df_clean['posted_date']).day"
   ]
  },
  {
   "cell_type": "code",
   "execution_count": 15,
   "metadata": {},
   "outputs": [
    {
     "data": {
      "text/html": [
       "<div>\n",
       "<style scoped>\n",
       "    .dataframe tbody tr th:only-of-type {\n",
       "        vertical-align: middle;\n",
       "    }\n",
       "\n",
       "    .dataframe tbody tr th {\n",
       "        vertical-align: top;\n",
       "    }\n",
       "\n",
       "    .dataframe thead th {\n",
       "        text-align: right;\n",
       "    }\n",
       "</style>\n",
       "<table border=\"1\" class=\"dataframe\">\n",
       "  <thead>\n",
       "    <tr style=\"text-align: right;\">\n",
       "      <th></th>\n",
       "      <th>prism_consumer_id</th>\n",
       "      <th>prism_account_id</th>\n",
       "      <th>memo</th>\n",
       "      <th>amount</th>\n",
       "      <th>posted_date</th>\n",
       "      <th>category</th>\n",
       "      <th>year</th>\n",
       "      <th>month</th>\n",
       "      <th>day</th>\n",
       "    </tr>\n",
       "  </thead>\n",
       "  <tbody>\n",
       "    <tr>\n",
       "      <th>2</th>\n",
       "      <td>0</td>\n",
       "      <td>acc_0</td>\n",
       "      <td>TST CASA DEL RIO EXP FAIRLAWN OH</td>\n",
       "      <td>18.42</td>\n",
       "      <td>2022-09-26</td>\n",
       "      <td>FOOD_AND_BEVERAGES</td>\n",
       "      <td>2022</td>\n",
       "      <td>9</td>\n",
       "      <td>26</td>\n",
       "    </tr>\n",
       "    <tr>\n",
       "      <th>4</th>\n",
       "      <td>0</td>\n",
       "      <td>acc_0</td>\n",
       "      <td>BUFFALO WILD WINGS</td>\n",
       "      <td>26.47</td>\n",
       "      <td>2022-09-12</td>\n",
       "      <td>FOOD_AND_BEVERAGES</td>\n",
       "      <td>2022</td>\n",
       "      <td>9</td>\n",
       "      <td>12</td>\n",
       "    </tr>\n",
       "    <tr>\n",
       "      <th>6</th>\n",
       "      <td>0</td>\n",
       "      <td>acc_0</td>\n",
       "      <td>OCULUS CA</td>\n",
       "      <td>11.73</td>\n",
       "      <td>2022-04-18</td>\n",
       "      <td>GENERAL_MERCHANDISE</td>\n",
       "      <td>2022</td>\n",
       "      <td>4</td>\n",
       "      <td>18</td>\n",
       "    </tr>\n",
       "    <tr>\n",
       "      <th>7</th>\n",
       "      <td>0</td>\n",
       "      <td>acc_0</td>\n",
       "      <td>LOS GIRASOLES STOW OH</td>\n",
       "      <td>30.04</td>\n",
       "      <td>2022-03-09</td>\n",
       "      <td>FOOD_AND_BEVERAGES</td>\n",
       "      <td>2022</td>\n",
       "      <td>3</td>\n",
       "      <td>9</td>\n",
       "    </tr>\n",
       "    <tr>\n",
       "      <th>8</th>\n",
       "      <td>0</td>\n",
       "      <td>acc_0</td>\n",
       "      <td>BUZZIS LAUNDRY OH</td>\n",
       "      <td>4.16</td>\n",
       "      <td>2022-03-29</td>\n",
       "      <td>GENERAL_MERCHANDISE</td>\n",
       "      <td>2022</td>\n",
       "      <td>3</td>\n",
       "      <td>29</td>\n",
       "    </tr>\n",
       "  </tbody>\n",
       "</table>\n",
       "</div>"
      ],
      "text/plain": [
       "   prism_consumer_id prism_account_id                              memo  \\\n",
       "2                  0            acc_0  TST CASA DEL RIO EXP FAIRLAWN OH   \n",
       "4                  0            acc_0                BUFFALO WILD WINGS   \n",
       "6                  0            acc_0                         OCULUS CA   \n",
       "7                  0            acc_0             LOS GIRASOLES STOW OH   \n",
       "8                  0            acc_0                 BUZZIS LAUNDRY OH   \n",
       "\n",
       "   amount posted_date             category  year  month  day  \n",
       "2   18.42  2022-09-26   FOOD_AND_BEVERAGES  2022      9   26  \n",
       "4   26.47  2022-09-12   FOOD_AND_BEVERAGES  2022      9   12  \n",
       "6   11.73  2022-04-18  GENERAL_MERCHANDISE  2022      4   18  \n",
       "7   30.04  2022-03-09   FOOD_AND_BEVERAGES  2022      3    9  \n",
       "8    4.16  2022-03-29  GENERAL_MERCHANDISE  2022      3   29  "
      ]
     },
     "execution_count": 15,
     "metadata": {},
     "output_type": "execute_result"
    }
   ],
   "source": [
    "df_clean.head()"
   ]
  },
  {
   "cell_type": "code",
   "execution_count": 16,
   "metadata": {},
   "outputs": [],
   "source": [
    "# Save cleaned memos to clean_data\n",
    "df_clean.to_parquet(f\"{DATA_PATH}/processed/data_clean.pqt\")"
   ]
  }
 ],
 "metadata": {
  "kernelspec": {
   "display_name": "base",
   "language": "python",
   "name": "python3"
  },
  "language_info": {
   "codemirror_mode": {
    "name": "ipython",
    "version": 3
   },
   "file_extension": ".py",
   "mimetype": "text/x-python",
   "name": "python",
   "nbconvert_exporter": "python",
   "pygments_lexer": "ipython3",
   "version": "3.9.12"
  },
  "orig_nbformat": 4
 },
 "nbformat": 4,
 "nbformat_minor": 2
}
