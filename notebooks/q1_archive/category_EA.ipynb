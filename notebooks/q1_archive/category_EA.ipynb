{
 "cells": [
  {
   "cell_type": "code",
   "execution_count": 1,
   "metadata": {},
   "outputs": [],
   "source": [
    "import pandas as pd\n",
    "import matplotlib.pyplot as plt\n",
    "import re"
   ]
  },
  {
   "cell_type": "code",
   "execution_count": null,
   "metadata": {},
   "outputs": [],
   "source": [
    "DATA_PATH = '../../data'"
   ]
  },
  {
   "cell_type": "code",
   "execution_count": 2,
   "metadata": {},
   "outputs": [
    {
     "data": {
      "text/html": [
       "<div>\n",
       "<style scoped>\n",
       "    .dataframe tbody tr th:only-of-type {\n",
       "        vertical-align: middle;\n",
       "    }\n",
       "\n",
       "    .dataframe tbody tr th {\n",
       "        vertical-align: top;\n",
       "    }\n",
       "\n",
       "    .dataframe thead th {\n",
       "        text-align: right;\n",
       "    }\n",
       "</style>\n",
       "<table border=\"1\" class=\"dataframe\">\n",
       "  <thead>\n",
       "    <tr style=\"text-align: right;\">\n",
       "      <th></th>\n",
       "      <th>prism_consumer_id</th>\n",
       "      <th>prism_account_id</th>\n",
       "      <th>memo_clean</th>\n",
       "      <th>amount</th>\n",
       "      <th>category_description</th>\n",
       "    </tr>\n",
       "  </thead>\n",
       "  <tbody>\n",
       "    <tr>\n",
       "      <th>0</th>\n",
       "      <td>0</td>\n",
       "      <td>acc_0</td>\n",
       "      <td>Kroger</td>\n",
       "      <td>20.98</td>\n",
       "      <td>GROCERIES</td>\n",
       "    </tr>\n",
       "    <tr>\n",
       "      <th>1</th>\n",
       "      <td>0</td>\n",
       "      <td>acc_0</td>\n",
       "      <td>CASH APP*FREE XXXXXXXXXX CA XX/XX</td>\n",
       "      <td>200.00</td>\n",
       "      <td>GENERAL_MERCHANDISE</td>\n",
       "    </tr>\n",
       "    <tr>\n",
       "      <th>7</th>\n",
       "      <td>0</td>\n",
       "      <td>acc_0</td>\n",
       "      <td>Amazon.com*HXXXWXXQX Amzn.com/bill WA XX/XX</td>\n",
       "      <td>33.20</td>\n",
       "      <td>GENERAL_MERCHANDISE</td>\n",
       "    </tr>\n",
       "    <tr>\n",
       "      <th>9</th>\n",
       "      <td>0</td>\n",
       "      <td>acc_0</td>\n",
       "      <td>Amazon</td>\n",
       "      <td>42.79</td>\n",
       "      <td>GENERAL_MERCHANDISE</td>\n",
       "    </tr>\n",
       "    <tr>\n",
       "      <th>10</th>\n",
       "      <td>0</td>\n",
       "      <td>acc_0</td>\n",
       "      <td>Kroger</td>\n",
       "      <td>36.55</td>\n",
       "      <td>GROCERIES</td>\n",
       "    </tr>\n",
       "  </tbody>\n",
       "</table>\n",
       "</div>"
      ],
      "text/plain": [
       "    prism_consumer_id prism_account_id  \\\n",
       "0                   0            acc_0   \n",
       "1                   0            acc_0   \n",
       "7                   0            acc_0   \n",
       "9                   0            acc_0   \n",
       "10                  0            acc_0   \n",
       "\n",
       "                                     memo_clean  amount category_description  \n",
       "0                                        Kroger   20.98            GROCERIES  \n",
       "1             CASH APP*FREE XXXXXXXXXX CA XX/XX  200.00  GENERAL_MERCHANDISE  \n",
       "7   Amazon.com*HXXXWXXQX Amzn.com/bill WA XX/XX   33.20  GENERAL_MERCHANDISE  \n",
       "9                                        Amazon   42.79  GENERAL_MERCHANDISE  \n",
       "10                                       Kroger   36.55            GROCERIES  "
      ]
     },
     "execution_count": 2,
     "metadata": {},
     "output_type": "execute_result"
    }
   ],
   "source": [
    "df = pd.read_parquet(f'{DATA_PATH}/raw/data.pqt')\n",
    "# remove rows where memo is the same as category_description\n",
    "df = df[df[\"memo_clean\"] != df[\"category_description\"]]\n",
    "\n",
    "df.head()"
   ]
  },
  {
   "cell_type": "code",
   "execution_count": 3,
   "metadata": {},
   "outputs": [
    {
     "data": {
      "text/plain": [
       "array(['GROCERIES', 'GENERAL_MERCHANDISE', 'FOOD_AND_BEVERAGES', 'TRAVEL',\n",
       "       'PETS', 'OVERDRAFT', 'RENT', 'EDUCATION', 'MORTGAGE'], dtype=object)"
      ]
     },
     "execution_count": 3,
     "metadata": {},
     "output_type": "execute_result"
    }
   ],
   "source": [
    "df[\"category_description\"].unique()"
   ]
  },
  {
   "cell_type": "code",
   "execution_count": 4,
   "metadata": {},
   "outputs": [],
   "source": [
    "cat_group = (\n",
    "    df[[\"amount\", \"category_description\"]]\n",
    "    .groupby(\"category_description\")\n",
    ")\n",
    "num_purchases = cat_group.count()\n",
    "avg_purchase = cat_group.mean()\n",
    "max_purchase = cat_group.max()"
   ]
  },
  {
   "cell_type": "code",
   "execution_count": 5,
   "metadata": {},
   "outputs": [
    {
     "data": {
      "image/png": "[encoded data removed]",
      "text/plain": [
       "<Figure size 432x288 with 1 Axes>"
      ]
     },
     "metadata": {
      "needs_background": "light"
     },
     "output_type": "display_data"
    }
   ],
   "source": [
    "num_purchases = num_purchases.sort_values(\"amount\", ascending=False)\n",
    "plt.bar(num_purchases.index, num_purchases[\"amount\"])\n",
    "plt.xticks(rotation=90)\n",
    "plt.title(\"Total Number of Purchases per Category\");"
   ]
  },
  {
   "cell_type": "code",
   "execution_count": 6,
   "metadata": {},
   "outputs": [
    {
     "data": {
      "image/png": "[encoded data removed]",
      "text/plain": [
       "<Figure size 432x288 with 1 Axes>"
      ]
     },
     "metadata": {
      "needs_background": "light"
     },
     "output_type": "display_data"
    }
   ],
   "source": [
    "avg_purchase = avg_purchase.sort_values(\"amount\", ascending=False)\n",
    "plt.bar(avg_purchase.index, avg_purchase[\"amount\"])\n",
    "plt.xticks(rotation=90)\n",
    "plt.title(\"Average Amount per Category\");"
   ]
  },
  {
   "cell_type": "code",
   "execution_count": 7,
   "metadata": {},
   "outputs": [
    {
     "data": {
      "image/png": "[encoded data removed]",
      "text/plain": [
       "<Figure size 432x288 with 1 Axes>"
      ]
     },
     "metadata": {
      "needs_background": "light"
     },
     "output_type": "display_data"
    }
   ],
   "source": [
    "max_purchase = max_purchase.sort_values(\"amount\", ascending=False)\n",
    "plt.bar(max_purchase.index, max_purchase[\"amount\"])\n",
    "plt.xticks(rotation=90)\n",
    "plt.title(\"Largest Amount per Category\");"
   ]
  },
  {
   "cell_type": "code",
   "execution_count": 8,
   "metadata": {},
   "outputs": [
    {
     "data": {
      "image/png": "[encoded data removed]",
      "text/plain": [
       "<Figure size 432x288 with 1 Axes>"
      ]
     },
     "metadata": {
      "needs_background": "light"
     },
     "output_type": "display_data"
    }
   ],
   "source": [
    "std_purchases = cat_group.std()\n",
    "std_purchases = std_purchases.sort_values(\"amount\", ascending=False)\n",
    "plt.bar(std_purchases.index, std_purchases[\"amount\"])\n",
    "plt.xticks(rotation=90)\n",
    "plt.title(\"Standard Deviation per Category\");"
   ]
  },
  {
   "cell_type": "code",
   "execution_count": 13,
   "metadata": {},
   "outputs": [
    {
     "data": {
      "text/html": [
       "<div>\n",
       "<style scoped>\n",
       "    .dataframe tbody tr th:only-of-type {\n",
       "        vertical-align: middle;\n",
       "    }\n",
       "\n",
       "    .dataframe tbody tr th {\n",
       "        vertical-align: top;\n",
       "    }\n",
       "\n",
       "    .dataframe thead th {\n",
       "        text-align: right;\n",
       "    }\n",
       "</style>\n",
       "<table border=\"1\" class=\"dataframe\">\n",
       "  <thead>\n",
       "    <tr style=\"text-align: right;\">\n",
       "      <th></th>\n",
       "      <th>prism_consumer_id</th>\n",
       "      <th>prism_account_id</th>\n",
       "      <th>memo_clean</th>\n",
       "      <th>amount</th>\n",
       "      <th>category_description</th>\n",
       "    </tr>\n",
       "  </thead>\n",
       "  <tbody>\n",
       "    <tr>\n",
       "      <th>1</th>\n",
       "      <td>0</td>\n",
       "      <td>acc_0</td>\n",
       "      <td>CASH APP*FREE XXXXXXXXXX CA XX/XX</td>\n",
       "      <td>200.00</td>\n",
       "      <td>GENERAL_MERCHANDISE</td>\n",
       "    </tr>\n",
       "    <tr>\n",
       "      <th>7</th>\n",
       "      <td>0</td>\n",
       "      <td>acc_0</td>\n",
       "      <td>Amazon.com*HXXXWXXQX Amzn.com/bill WA XX/XX</td>\n",
       "      <td>33.20</td>\n",
       "      <td>GENERAL_MERCHANDISE</td>\n",
       "    </tr>\n",
       "    <tr>\n",
       "      <th>24</th>\n",
       "      <td>0</td>\n",
       "      <td>acc_0</td>\n",
       "      <td>CASH APP*FREE XXXXXXXXXX CA XX/XX</td>\n",
       "      <td>190.00</td>\n",
       "      <td>GENERAL_MERCHANDISE</td>\n",
       "    </tr>\n",
       "    <tr>\n",
       "      <th>30</th>\n",
       "      <td>0</td>\n",
       "      <td>acc_0</td>\n",
       "      <td>CASH APP*FREE XXXXXXXXXX CA XX/XX</td>\n",
       "      <td>50.00</td>\n",
       "      <td>GENERAL_MERCHANDISE</td>\n",
       "    </tr>\n",
       "    <tr>\n",
       "      <th>35</th>\n",
       "      <td>0</td>\n",
       "      <td>acc_0</td>\n",
       "      <td>CASH APP*RANDY GART XXXXXXXXXX CA XX/XX</td>\n",
       "      <td>25.00</td>\n",
       "      <td>GENERAL_MERCHANDISE</td>\n",
       "    </tr>\n",
       "    <tr>\n",
       "      <th>...</th>\n",
       "      <td>...</td>\n",
       "      <td>...</td>\n",
       "      <td>...</td>\n",
       "      <td>...</td>\n",
       "      <td>...</td>\n",
       "    </tr>\n",
       "    <tr>\n",
       "      <th>5197125</th>\n",
       "      <td>5941</td>\n",
       "      <td>acc_9244</td>\n",
       "      <td>TST* Tutus Lafa XX Lafayette Cir Lafayette CAUS</td>\n",
       "      <td>50.50</td>\n",
       "      <td>FOOD_AND_BEVERAGES</td>\n",
       "    </tr>\n",
       "    <tr>\n",
       "      <th>5197143</th>\n",
       "      <td>5941</td>\n",
       "      <td>acc_9244</td>\n",
       "      <td>DNH*GODADDY.COM XXXX E GoDaddy Way XXX-XXXXXXX...</td>\n",
       "      <td>18.98</td>\n",
       "      <td>GENERAL_MERCHANDISE</td>\n",
       "    </tr>\n",
       "    <tr>\n",
       "      <th>5197158</th>\n",
       "      <td>5941</td>\n",
       "      <td>acc_9244</td>\n",
       "      <td>EIG*CONSTANTCON XXXX Trapelo Road XXX-XXXXXXX ...</td>\n",
       "      <td>55.00</td>\n",
       "      <td>GENERAL_MERCHANDISE</td>\n",
       "    </tr>\n",
       "    <tr>\n",
       "      <th>5197198</th>\n",
       "      <td>5941</td>\n",
       "      <td>acc_9244</td>\n",
       "      <td>TST* NORM'S PLAC</td>\n",
       "      <td>3.81</td>\n",
       "      <td>FOOD_AND_BEVERAGES</td>\n",
       "    </tr>\n",
       "    <tr>\n",
       "      <th>5197200</th>\n",
       "      <td>5941</td>\n",
       "      <td>acc_9244</td>\n",
       "      <td>DNH*GODADDY.COM</td>\n",
       "      <td>45.60</td>\n",
       "      <td>GENERAL_MERCHANDISE</td>\n",
       "    </tr>\n",
       "  </tbody>\n",
       "</table>\n",
       "<p>191855 rows × 5 columns</p>\n",
       "</div>"
      ],
      "text/plain": [
       "         prism_consumer_id prism_account_id  \\\n",
       "1                        0            acc_0   \n",
       "7                        0            acc_0   \n",
       "24                       0            acc_0   \n",
       "30                       0            acc_0   \n",
       "35                       0            acc_0   \n",
       "...                    ...              ...   \n",
       "5197125               5941         acc_9244   \n",
       "5197143               5941         acc_9244   \n",
       "5197158               5941         acc_9244   \n",
       "5197198               5941         acc_9244   \n",
       "5197200               5941         acc_9244   \n",
       "\n",
       "                                                memo_clean  amount  \\\n",
       "1                        CASH APP*FREE XXXXXXXXXX CA XX/XX  200.00   \n",
       "7              Amazon.com*HXXXWXXQX Amzn.com/bill WA XX/XX   33.20   \n",
       "24                       CASH APP*FREE XXXXXXXXXX CA XX/XX  190.00   \n",
       "30                       CASH APP*FREE XXXXXXXXXX CA XX/XX   50.00   \n",
       "35                 CASH APP*RANDY GART XXXXXXXXXX CA XX/XX   25.00   \n",
       "...                                                    ...     ...   \n",
       "5197125    TST* Tutus Lafa XX Lafayette Cir Lafayette CAUS   50.50   \n",
       "5197143  DNH*GODADDY.COM XXXX E GoDaddy Way XXX-XXXXXXX...   18.98   \n",
       "5197158  EIG*CONSTANTCON XXXX Trapelo Road XXX-XXXXXXX ...   55.00   \n",
       "5197198                                   TST* NORM'S PLAC    3.81   \n",
       "5197200                                    DNH*GODADDY.COM   45.60   \n",
       "\n",
       "        category_description  \n",
       "1        GENERAL_MERCHANDISE  \n",
       "7        GENERAL_MERCHANDISE  \n",
       "24       GENERAL_MERCHANDISE  \n",
       "30       GENERAL_MERCHANDISE  \n",
       "35       GENERAL_MERCHANDISE  \n",
       "...                      ...  \n",
       "5197125   FOOD_AND_BEVERAGES  \n",
       "5197143  GENERAL_MERCHANDISE  \n",
       "5197158  GENERAL_MERCHANDISE  \n",
       "5197198   FOOD_AND_BEVERAGES  \n",
       "5197200  GENERAL_MERCHANDISE  \n",
       "\n",
       "[191855 rows x 5 columns]"
      ]
     },
     "execution_count": 13,
     "metadata": {},
     "output_type": "execute_result"
    }
   ],
   "source": [
    "df[df[\"memo_clean\"].str.contains(\"\\*\")]"
   ]
  },
  {
   "cell_type": "code",
   "execution_count": null,
   "metadata": {},
   "outputs": [],
   "source": []
  }
 ],
 "metadata": {
  "kernelspec": {
   "display_name": "base",
   "language": "python",
   "name": "python3"
  },
  "language_info": {
   "codemirror_mode": {
    "name": "ipython",
    "version": 3
   },
   "file_extension": ".py",
   "mimetype": "text/x-python",
   "name": "python",
   "nbconvert_exporter": "python",
   "pygments_lexer": "ipython3",
   "version": "3.9.12"
  },
  "orig_nbformat": 4
 },
 "nbformat": 4,
 "nbformat_minor": 2
}
