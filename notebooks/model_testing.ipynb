{
 "cells": [
  {
   "cell_type": "markdown",
   "metadata": {},
   "source": [
    "# Import Libraries and Data"
   ]
  },
  {
   "cell_type": "code",
   "execution_count": 5,
   "metadata": {},
   "outputs": [],
   "source": [
    "import pandas as pd\n",
    "import matplotlib.pyplot as plt\n",
    "\n",
    "import numpy as np\n",
    "from sklearn.metrics import confusion_matrix\n",
    "from sklearn.model_selection import train_test_split\n",
    "\n",
    "from sklearn import linear_model\n",
    "import torch\n",
    "import torch.nn as nn\n",
    "from tqdm import tqdm\n",
    "\n",
    "from sklearn.metrics import roc_auc_score"
   ]
  },
  {
   "cell_type": "code",
   "execution_count": 6,
   "metadata": {},
   "outputs": [],
   "source": [
    "DATA_PATH = '../data'\n",
    "MODEL_PATH = '../src/models'"
   ]
  },
  {
   "cell_type": "markdown",
   "metadata": {},
   "source": [
    "### Util Functions"
   ]
  },
  {
   "cell_type": "code",
   "execution_count": 8,
   "metadata": {},
   "outputs": [],
   "source": [
    "def train_valid_test_split(X, y, TEST_SIZE=0.2, random_state=42):\n",
    "    X_train, X_test, y_train, y_test = train_test_split(\n",
    "        X, \n",
    "        y, \n",
    "        test_size = TEST_SIZE, \n",
    "        random_state=random_state\n",
    "    )\n",
    "\n",
    "    X_train, X_valid, y_train, y_valid = train_test_split(\n",
    "        X_train, \n",
    "        y_train, \n",
    "        test_size = TEST_SIZE, \n",
    "        random_state=random_state\n",
    "    )\n",
    "\n",
    "    return X_train, X_valid, X_test, y_train, y_valid, y_test"
   ]
  },
  {
   "cell_type": "code",
   "execution_count": 9,
   "metadata": {},
   "outputs": [],
   "source": [
    "def get_metrics(pred, actual, display=True):\n",
    "    cm = confusion_matrix(actual, pred)\n",
    "    tn, fp, fn, tp = cm.ravel()\n",
    "\n",
    "    TPR = tp / (tp + fn)\n",
    "    FPR = tn / (tn + fp)\n",
    "    roc_auc = roc_auc_score(actual, pred)\n",
    "    if (display):\n",
    "        print(f\"Accuracy: {np.mean(pred == actual):.4f}\")\n",
    "        print(f\"tn:  {tn},  fp:  {fp},  fn:  {fn}, tp:  {tp}\")\n",
    "        print(f\"Precision:\\t\\t\\t{tp / (tp + fp):.5f}\")\n",
    "        print(f\"Recall:\\t\\t\\t\\t{tp / (tp + fn):.5f}\")\n",
    "        print(f\"TPR:\\t\\t\\t\\t{TPR:.5f}\")\n",
    "        print(f\"FPR:\\t\\t\\t\\t{FPR:.5f}\")\n",
    "        print(f\"Positive likelihood ratio:\\t{TPR/FPR:.5f}\")\n",
    "        print(f\"Negative likelihood ratio:\\t{FPR/TPR:.5f}\")\n",
    "        print(f\"ROC-AUC Score:\\t{roc_auc:.5f}\")\n",
    "        return\n",
    "    return [tn, fp, fn, tp, TPR, FPR, TPR/FPR, FPR/TPR, roc_auc]"
   ]
  },
  {
   "cell_type": "markdown",
   "metadata": {},
   "source": [
    "## Final Feature Matrix"
   ]
  },
  {
   "cell_type": "code",
   "execution_count": 13,
   "metadata": {},
   "outputs": [
    {
     "data": {
      "text/html": [
       "<div>\n",
       "<style scoped>\n",
       "    .dataframe tbody tr th:only-of-type {\n",
       "        vertical-align: middle;\n",
       "    }\n",
       "\n",
       "    .dataframe tbody tr th {\n",
       "        vertical-align: top;\n",
       "    }\n",
       "\n",
       "    .dataframe thead th {\n",
       "        text-align: right;\n",
       "    }\n",
       "</style>\n",
       "<table border=\"1\" class=\"dataframe\">\n",
       "  <thead>\n",
       "    <tr style=\"text-align: right;\">\n",
       "      <th></th>\n",
       "      <th>FPF_TARGET</th>\n",
       "      <th>ESSENTIAL_SERVICES_slp</th>\n",
       "      <th>medianLOAN</th>\n",
       "      <th>BNPL_mean</th>\n",
       "      <th>meanCHILD_DEPENDENTS</th>\n",
       "      <th>total_balance</th>\n",
       "      <th>GENERAL_MERCHANDISE_prop</th>\n",
       "      <th>minCREDIT_CARD_PAYMENT</th>\n",
       "      <th>GROCERIES_count</th>\n",
       "      <th>meanGROCERIES</th>\n",
       "      <th>...</th>\n",
       "      <th>RENT_count</th>\n",
       "      <th>TRAVEL_count</th>\n",
       "      <th>TAX_mean</th>\n",
       "      <th>UNCATEGORIZED_prop</th>\n",
       "      <th>ATM_CASH_slp</th>\n",
       "      <th>maxACCOUNT_FEES</th>\n",
       "      <th>maxEDUCATION</th>\n",
       "      <th>minAUTOMOTIVE</th>\n",
       "      <th>LOAN_mean</th>\n",
       "      <th>RENT_prop</th>\n",
       "    </tr>\n",
       "  </thead>\n",
       "  <tbody>\n",
       "    <tr>\n",
       "      <th>0</th>\n",
       "      <td>0.0</td>\n",
       "      <td>-2.063860</td>\n",
       "      <td>301.58</td>\n",
       "      <td>0.0</td>\n",
       "      <td>0.0</td>\n",
       "      <td>857.150161</td>\n",
       "      <td>0.083363</td>\n",
       "      <td>3.63</td>\n",
       "      <td>10.730769</td>\n",
       "      <td>58.130215</td>\n",
       "      <td>...</td>\n",
       "      <td>0.0</td>\n",
       "      <td>1.375000</td>\n",
       "      <td>0.000000</td>\n",
       "      <td>0.089842</td>\n",
       "      <td>40.049989</td>\n",
       "      <td>23.0</td>\n",
       "      <td>45.13</td>\n",
       "      <td>2.00</td>\n",
       "      <td>345.082200</td>\n",
       "      <td>0.0</td>\n",
       "    </tr>\n",
       "    <tr>\n",
       "      <th>1</th>\n",
       "      <td>0.0</td>\n",
       "      <td>-37.036209</td>\n",
       "      <td>807.11</td>\n",
       "      <td>0.0</td>\n",
       "      <td>0.0</td>\n",
       "      <td>43016.714011</td>\n",
       "      <td>0.102295</td>\n",
       "      <td>10.48</td>\n",
       "      <td>20.076923</td>\n",
       "      <td>101.452452</td>\n",
       "      <td>...</td>\n",
       "      <td>0.0</td>\n",
       "      <td>2.615385</td>\n",
       "      <td>140.326667</td>\n",
       "      <td>0.246412</td>\n",
       "      <td>-83.024286</td>\n",
       "      <td>34.0</td>\n",
       "      <td>62.49</td>\n",
       "      <td>2.19</td>\n",
       "      <td>866.531397</td>\n",
       "      <td>0.0</td>\n",
       "    </tr>\n",
       "    <tr>\n",
       "      <th>2</th>\n",
       "      <td>0.0</td>\n",
       "      <td>7.498741</td>\n",
       "      <td>2154.48</td>\n",
       "      <td>0.0</td>\n",
       "      <td>0.0</td>\n",
       "      <td>14667.666944</td>\n",
       "      <td>0.068612</td>\n",
       "      <td>2.39</td>\n",
       "      <td>7.769231</td>\n",
       "      <td>42.681584</td>\n",
       "      <td>...</td>\n",
       "      <td>0.0</td>\n",
       "      <td>1.000000</td>\n",
       "      <td>0.000000</td>\n",
       "      <td>0.001825</td>\n",
       "      <td>69.475385</td>\n",
       "      <td>34.0</td>\n",
       "      <td>0.00</td>\n",
       "      <td>1.71</td>\n",
       "      <td>1802.527857</td>\n",
       "      <td>0.0</td>\n",
       "    </tr>\n",
       "    <tr>\n",
       "      <th>3</th>\n",
       "      <td>0.0</td>\n",
       "      <td>-22.930495</td>\n",
       "      <td>1400.00</td>\n",
       "      <td>0.0</td>\n",
       "      <td>0.0</td>\n",
       "      <td>-4188.933058</td>\n",
       "      <td>0.155554</td>\n",
       "      <td>10.00</td>\n",
       "      <td>3.833333</td>\n",
       "      <td>88.043261</td>\n",
       "      <td>...</td>\n",
       "      <td>0.0</td>\n",
       "      <td>2.000000</td>\n",
       "      <td>0.000000</td>\n",
       "      <td>0.016086</td>\n",
       "      <td>31.785714</td>\n",
       "      <td>149.0</td>\n",
       "      <td>180.00</td>\n",
       "      <td>4.13</td>\n",
       "      <td>933.743056</td>\n",
       "      <td>0.0</td>\n",
       "    </tr>\n",
       "    <tr>\n",
       "      <th>4</th>\n",
       "      <td>0.0</td>\n",
       "      <td>14.604286</td>\n",
       "      <td>2109.36</td>\n",
       "      <td>0.0</td>\n",
       "      <td>0.0</td>\n",
       "      <td>-2630.480387</td>\n",
       "      <td>0.045677</td>\n",
       "      <td>100.00</td>\n",
       "      <td>3.800000</td>\n",
       "      <td>112.683158</td>\n",
       "      <td>...</td>\n",
       "      <td>0.0</td>\n",
       "      <td>2.888889</td>\n",
       "      <td>0.000000</td>\n",
       "      <td>0.140562</td>\n",
       "      <td>-40.421727</td>\n",
       "      <td>14.0</td>\n",
       "      <td>56.45</td>\n",
       "      <td>1.91</td>\n",
       "      <td>2457.143333</td>\n",
       "      <td>0.0</td>\n",
       "    </tr>\n",
       "  </tbody>\n",
       "</table>\n",
       "<p>5 rows × 41 columns</p>\n",
       "</div>"
      ],
      "text/plain": [
       "   FPF_TARGET  ESSENTIAL_SERVICES_slp  medianLOAN  BNPL_mean  \\\n",
       "0         0.0               -2.063860      301.58        0.0   \n",
       "1         0.0              -37.036209      807.11        0.0   \n",
       "2         0.0                7.498741     2154.48        0.0   \n",
       "3         0.0              -22.930495     1400.00        0.0   \n",
       "4         0.0               14.604286     2109.36        0.0   \n",
       "\n",
       "   meanCHILD_DEPENDENTS  total_balance  GENERAL_MERCHANDISE_prop  \\\n",
       "0                   0.0     857.150161                  0.083363   \n",
       "1                   0.0   43016.714011                  0.102295   \n",
       "2                   0.0   14667.666944                  0.068612   \n",
       "3                   0.0   -4188.933058                  0.155554   \n",
       "4                   0.0   -2630.480387                  0.045677   \n",
       "\n",
       "   minCREDIT_CARD_PAYMENT  GROCERIES_count  meanGROCERIES  ...  RENT_count  \\\n",
       "0                    3.63        10.730769      58.130215  ...         0.0   \n",
       "1                   10.48        20.076923     101.452452  ...         0.0   \n",
       "2                    2.39         7.769231      42.681584  ...         0.0   \n",
       "3                   10.00         3.833333      88.043261  ...         0.0   \n",
       "4                  100.00         3.800000     112.683158  ...         0.0   \n",
       "\n",
       "   TRAVEL_count    TAX_mean  UNCATEGORIZED_prop  ATM_CASH_slp  \\\n",
       "0      1.375000    0.000000            0.089842     40.049989   \n",
       "1      2.615385  140.326667            0.246412    -83.024286   \n",
       "2      1.000000    0.000000            0.001825     69.475385   \n",
       "3      2.000000    0.000000            0.016086     31.785714   \n",
       "4      2.888889    0.000000            0.140562    -40.421727   \n",
       "\n",
       "   maxACCOUNT_FEES  maxEDUCATION  minAUTOMOTIVE    LOAN_mean  RENT_prop  \n",
       "0             23.0         45.13           2.00   345.082200        0.0  \n",
       "1             34.0         62.49           2.19   866.531397        0.0  \n",
       "2             34.0          0.00           1.71  1802.527857        0.0  \n",
       "3            149.0        180.00           4.13   933.743056        0.0  \n",
       "4             14.0         56.45           1.91  2457.143333        0.0  \n",
       "\n",
       "[5 rows x 41 columns]"
      ]
     },
     "execution_count": 13,
     "metadata": {},
     "output_type": "execute_result"
    }
   ],
   "source": [
    "# Get Logistic Regression Data\n",
    "feature_matrix = pd.read_csv(f'{DATA_PATH}/processed/log_reg_feature_matrix.csv')\n",
    "feature_matrix.head()"
   ]
  },
  {
   "cell_type": "code",
   "execution_count": 14,
   "metadata": {},
   "outputs": [],
   "source": [
    "# Train Test Split\n",
    "TEST_SIZE = 0.2\n",
    "X = feature_matrix.iloc[:,1:].to_numpy()\n",
    "y = feature_matrix.iloc[:,0].to_numpy()\n",
    "\n",
    "X_train, X_valid, X_test, y_train, y_valid, y_test = train_valid_test_split(\n",
    "    X, \n",
    "    y, \n",
    "    TEST_SIZE = TEST_SIZE, \n",
    "    random_state = 42\n",
    ")"
   ]
  },
  {
   "cell_type": "markdown",
   "metadata": {},
   "source": [
    "# Prototype Model to Predict Default Risk"
   ]
  },
  {
   "cell_type": "markdown",
   "metadata": {},
   "source": [
    "### Training"
   ]
  },
  {
   "cell_type": "code",
   "execution_count": 15,
   "metadata": {},
   "outputs": [],
   "source": [
    "lin_model = linear_model.LogisticRegression()"
   ]
  },
  {
   "cell_type": "code",
   "execution_count": 16,
   "metadata": {},
   "outputs": [
    {
     "name": "stderr",
     "output_type": "stream",
     "text": [
      "/Users/darrenjiang/opt/anaconda3/envs/dsc180/lib/python3.9/site-packages/sklearn/linear_model/_logistic.py:460: ConvergenceWarning: lbfgs failed to converge (status=1):\n",
      "STOP: TOTAL NO. of ITERATIONS REACHED LIMIT.\n",
      "\n",
      "Increase the number of iterations (max_iter) or scale the data as shown in:\n",
      "    https://scikit-learn.org/stable/modules/preprocessing.html\n",
      "Please also refer to the documentation for alternative solver options:\n",
      "    https://scikit-learn.org/stable/modules/linear_model.html#logistic-regression\n",
      "  n_iter_i = _check_optimize_result(\n"
     ]
    },
    {
     "data": {
      "text/html": [
       "<style>#sk-container-id-1 {color: black;}#sk-container-id-1 pre{padding: 0;}#sk-container-id-1 div.sk-toggleable {background-color: white;}#sk-container-id-1 label.sk-toggleable__label {cursor: pointer;display: block;width: 100%;margin-bottom: 0;padding: 0.3em;box-sizing: border-box;text-align: center;}#sk-container-id-1 label.sk-toggleable__label-arrow:before {content: \"▸\";float: left;margin-right: 0.25em;color: #696969;}#sk-container-id-1 label.sk-toggleable__label-arrow:hover:before {color: black;}#sk-container-id-1 div.sk-estimator:hover label.sk-toggleable__label-arrow:before {color: black;}#sk-container-id-1 div.sk-toggleable__content {max-height: 0;max-width: 0;overflow: hidden;text-align: left;background-color: #f0f8ff;}#sk-container-id-1 div.sk-toggleable__content pre {margin: 0.2em;color: black;border-radius: 0.25em;background-color: #f0f8ff;}#sk-container-id-1 input.sk-toggleable__control:checked~div.sk-toggleable__content {max-height: 200px;max-width: 100%;overflow: auto;}#sk-container-id-1 input.sk-toggleable__control:checked~label.sk-toggleable__label-arrow:before {content: \"▾\";}#sk-container-id-1 div.sk-estimator input.sk-toggleable__control:checked~label.sk-toggleable__label {background-color: #d4ebff;}#sk-container-id-1 div.sk-label input.sk-toggleable__control:checked~label.sk-toggleable__label {background-color: #d4ebff;}#sk-container-id-1 input.sk-hidden--visually {border: 0;clip: rect(1px 1px 1px 1px);clip: rect(1px, 1px, 1px, 1px);height: 1px;margin: -1px;overflow: hidden;padding: 0;position: absolute;width: 1px;}#sk-container-id-1 div.sk-estimator {font-family: monospace;background-color: #f0f8ff;border: 1px dotted black;border-radius: 0.25em;box-sizing: border-box;margin-bottom: 0.5em;}#sk-container-id-1 div.sk-estimator:hover {background-color: #d4ebff;}#sk-container-id-1 div.sk-parallel-item::after {content: \"\";width: 100%;border-bottom: 1px solid gray;flex-grow: 1;}#sk-container-id-1 div.sk-label:hover label.sk-toggleable__label {background-color: #d4ebff;}#sk-container-id-1 div.sk-serial::before {content: \"\";position: absolute;border-left: 1px solid gray;box-sizing: border-box;top: 0;bottom: 0;left: 50%;z-index: 0;}#sk-container-id-1 div.sk-serial {display: flex;flex-direction: column;align-items: center;background-color: white;padding-right: 0.2em;padding-left: 0.2em;position: relative;}#sk-container-id-1 div.sk-item {position: relative;z-index: 1;}#sk-container-id-1 div.sk-parallel {display: flex;align-items: stretch;justify-content: center;background-color: white;position: relative;}#sk-container-id-1 div.sk-item::before, #sk-container-id-1 div.sk-parallel-item::before {content: \"\";position: absolute;border-left: 1px solid gray;box-sizing: border-box;top: 0;bottom: 0;left: 50%;z-index: -1;}#sk-container-id-1 div.sk-parallel-item {display: flex;flex-direction: column;z-index: 1;position: relative;background-color: white;}#sk-container-id-1 div.sk-parallel-item:first-child::after {align-self: flex-end;width: 50%;}#sk-container-id-1 div.sk-parallel-item:last-child::after {align-self: flex-start;width: 50%;}#sk-container-id-1 div.sk-parallel-item:only-child::after {width: 0;}#sk-container-id-1 div.sk-dashed-wrapped {border: 1px dashed gray;margin: 0 0.4em 0.5em 0.4em;box-sizing: border-box;padding-bottom: 0.4em;background-color: white;}#sk-container-id-1 div.sk-label label {font-family: monospace;font-weight: bold;display: inline-block;line-height: 1.2em;}#sk-container-id-1 div.sk-label-container {text-align: center;}#sk-container-id-1 div.sk-container {/* jupyter's `normalize.less` sets `[hidden] { display: none; }` but bootstrap.min.css set `[hidden] { display: none !important; }` so we also need the `!important` here to be able to override the default hidden behavior on the sphinx rendered scikit-learn.org. See: https://github.com/scikit-learn/scikit-learn/issues/21755 */display: inline-block !important;position: relative;}#sk-container-id-1 div.sk-text-repr-fallback {display: none;}</style><div id=\"sk-container-id-1\" class=\"sk-top-container\"><div class=\"sk-text-repr-fallback\"><pre>LogisticRegression()</pre><b>In a Jupyter environment, please rerun this cell to show the HTML representation or trust the notebook. <br />On GitHub, the HTML representation is unable to render, please try loading this page with nbviewer.org.</b></div><div class=\"sk-container\" hidden><div class=\"sk-item\"><div class=\"sk-estimator sk-toggleable\"><input class=\"sk-toggleable__control sk-hidden--visually\" id=\"sk-estimator-id-1\" type=\"checkbox\" checked><label for=\"sk-estimator-id-1\" class=\"sk-toggleable__label sk-toggleable__label-arrow\">LogisticRegression</label><div class=\"sk-toggleable__content\"><pre>LogisticRegression()</pre></div></div></div></div></div>"
      ],
      "text/plain": [
       "LogisticRegression()"
      ]
     },
     "execution_count": 16,
     "metadata": {},
     "output_type": "execute_result"
    }
   ],
   "source": [
    "lin_model.fit(X_train, y_train)"
   ]
  },
  {
   "cell_type": "markdown",
   "metadata": {},
   "source": [
    "### Evaluate Model"
   ]
  },
  {
   "cell_type": "code",
   "execution_count": 17,
   "metadata": {},
   "outputs": [],
   "source": [
    "valid_pred = lin_model.predict(X_valid)\n",
    "test_pred = lin_model.predict(X_test)"
   ]
  },
  {
   "cell_type": "code",
   "execution_count": 18,
   "metadata": {},
   "outputs": [
    {
     "name": "stdout",
     "output_type": "stream",
     "text": [
      "Validation:\n",
      "Accuracy: 0.7736\n",
      "tn:  365,  fp:  10,  fn:  98, tp:  4\n",
      "Precision:\t\t\t0.28571\n",
      "Recall:\t\t\t\t0.03922\n",
      "TPR:\t\t\t\t0.03922\n",
      "FPR:\t\t\t\t0.97333\n",
      "Positive likelihood ratio:\t0.04029\n",
      "Negative likelihood ratio:\t24.82000\n",
      "ROC-AUC Score:\t0.50627\n",
      "===========================\n",
      "Test:\n",
      "Accuracy: 0.8255\n",
      "tn:  486,  fp:  12,  fn:  92, tp:  6\n",
      "Precision:\t\t\t0.33333\n",
      "Recall:\t\t\t\t0.06122\n",
      "TPR:\t\t\t\t0.06122\n",
      "FPR:\t\t\t\t0.97590\n",
      "Positive likelihood ratio:\t0.06274\n",
      "Negative likelihood ratio:\t15.93976\n",
      "ROC-AUC Score:\t0.51856\n"
     ]
    }
   ],
   "source": [
    "print(\"Validation:\")\n",
    "get_metrics(valid_pred, y_valid)\n",
    "print(\"===========================\")\n",
    "print(\"Test:\")\n",
    "get_metrics(test_pred, y_test)"
   ]
  },
  {
   "cell_type": "markdown",
   "metadata": {},
   "source": [
    "# Prototype 2: Basic Sequential NN"
   ]
  },
  {
   "cell_type": "markdown",
   "metadata": {},
   "source": [
    "### Get Data"
   ]
  },
  {
   "cell_type": "code",
   "execution_count": 19,
   "metadata": {},
   "outputs": [
    {
     "data": {
      "text/html": [
       "<div>\n",
       "<style scoped>\n",
       "    .dataframe tbody tr th:only-of-type {\n",
       "        vertical-align: middle;\n",
       "    }\n",
       "\n",
       "    .dataframe tbody tr th {\n",
       "        vertical-align: top;\n",
       "    }\n",
       "\n",
       "    .dataframe thead th {\n",
       "        text-align: right;\n",
       "    }\n",
       "</style>\n",
       "<table border=\"1\" class=\"dataframe\">\n",
       "  <thead>\n",
       "    <tr style=\"text-align: right;\">\n",
       "      <th></th>\n",
       "      <th>FPF_TARGET</th>\n",
       "      <th>minEDUCATION</th>\n",
       "      <th>maxFOOD_AND_BEVERAGES</th>\n",
       "      <th>BILLS_UTILITIES_prop</th>\n",
       "      <th>UNCATEGORIZED_prop</th>\n",
       "      <th>minHOME_IMPROVEMENT</th>\n",
       "      <th>RENT_mean</th>\n",
       "      <th>INSURANCE_mean</th>\n",
       "      <th>meanLOAN</th>\n",
       "      <th>meanCREDIT_CARD_PAYMENT</th>\n",
       "      <th>...</th>\n",
       "      <th>minPAYCHECK</th>\n",
       "      <th>AUTOMOTIVE_slp</th>\n",
       "      <th>maxCREDIT_CARD_PAYMENT</th>\n",
       "      <th>medianUNCATEGORIZED</th>\n",
       "      <th>PETS_slp</th>\n",
       "      <th>LOAN_slp</th>\n",
       "      <th>minMORTGAGE</th>\n",
       "      <th>meanEXTERNAL_TRANSFER</th>\n",
       "      <th>meanBILLS_UTILITIES</th>\n",
       "      <th>stdbalance</th>\n",
       "    </tr>\n",
       "  </thead>\n",
       "  <tbody>\n",
       "    <tr>\n",
       "      <th>0</th>\n",
       "      <td>0.0</td>\n",
       "      <td>33.26</td>\n",
       "      <td>326.45</td>\n",
       "      <td>0.0</td>\n",
       "      <td>0.089842</td>\n",
       "      <td>1.98</td>\n",
       "      <td>0.0</td>\n",
       "      <td>89.423571</td>\n",
       "      <td>358.890312</td>\n",
       "      <td>311.720326</td>\n",
       "      <td>...</td>\n",
       "      <td>0.0</td>\n",
       "      <td>-11.050222</td>\n",
       "      <td>2371.71</td>\n",
       "      <td>37.000</td>\n",
       "      <td>-63.700000</td>\n",
       "      <td>-18.541469</td>\n",
       "      <td>1345.91</td>\n",
       "      <td>79.478235</td>\n",
       "      <td>0.0</td>\n",
       "      <td>125.590741</td>\n",
       "    </tr>\n",
       "    <tr>\n",
       "      <th>1</th>\n",
       "      <td>0.0</td>\n",
       "      <td>10.00</td>\n",
       "      <td>505.95</td>\n",
       "      <td>0.0</td>\n",
       "      <td>0.246412</td>\n",
       "      <td>102.43</td>\n",
       "      <td>0.0</td>\n",
       "      <td>401.003718</td>\n",
       "      <td>928.079878</td>\n",
       "      <td>988.767167</td>\n",
       "      <td>...</td>\n",
       "      <td>0.0</td>\n",
       "      <td>-51.708601</td>\n",
       "      <td>5729.39</td>\n",
       "      <td>200.000</td>\n",
       "      <td>0.000000</td>\n",
       "      <td>573.156813</td>\n",
       "      <td>0.00</td>\n",
       "      <td>826.376709</td>\n",
       "      <td>0.0</td>\n",
       "      <td>13215.093678</td>\n",
       "    </tr>\n",
       "    <tr>\n",
       "      <th>2</th>\n",
       "      <td>0.0</td>\n",
       "      <td>0.00</td>\n",
       "      <td>112.99</td>\n",
       "      <td>0.0</td>\n",
       "      <td>0.001825</td>\n",
       "      <td>16.39</td>\n",
       "      <td>0.0</td>\n",
       "      <td>90.264091</td>\n",
       "      <td>1713.210000</td>\n",
       "      <td>151.407725</td>\n",
       "      <td>...</td>\n",
       "      <td>0.0</td>\n",
       "      <td>-8.617238</td>\n",
       "      <td>2500.00</td>\n",
       "      <td>19.765</td>\n",
       "      <td>0.000000</td>\n",
       "      <td>268.779643</td>\n",
       "      <td>0.00</td>\n",
       "      <td>464.490968</td>\n",
       "      <td>0.0</td>\n",
       "      <td>17278.364208</td>\n",
       "    </tr>\n",
       "    <tr>\n",
       "      <th>3</th>\n",
       "      <td>0.0</td>\n",
       "      <td>20.00</td>\n",
       "      <td>514.23</td>\n",
       "      <td>0.0</td>\n",
       "      <td>0.016086</td>\n",
       "      <td>27.76</td>\n",
       "      <td>0.0</td>\n",
       "      <td>180.296410</td>\n",
       "      <td>874.035714</td>\n",
       "      <td>224.630698</td>\n",
       "      <td>...</td>\n",
       "      <td>0.0</td>\n",
       "      <td>21.904371</td>\n",
       "      <td>1500.00</td>\n",
       "      <td>21.720</td>\n",
       "      <td>2.510105</td>\n",
       "      <td>-34.430944</td>\n",
       "      <td>0.00</td>\n",
       "      <td>108.286707</td>\n",
       "      <td>0.0</td>\n",
       "      <td>4514.989935</td>\n",
       "    </tr>\n",
       "    <tr>\n",
       "      <th>4</th>\n",
       "      <td>0.0</td>\n",
       "      <td>56.45</td>\n",
       "      <td>500.00</td>\n",
       "      <td>0.0</td>\n",
       "      <td>0.140562</td>\n",
       "      <td>231.37</td>\n",
       "      <td>0.0</td>\n",
       "      <td>896.420000</td>\n",
       "      <td>2318.397000</td>\n",
       "      <td>172.375000</td>\n",
       "      <td>...</td>\n",
       "      <td>0.0</td>\n",
       "      <td>18.470070</td>\n",
       "      <td>391.00</td>\n",
       "      <td>20.000</td>\n",
       "      <td>0.974000</td>\n",
       "      <td>183.787500</td>\n",
       "      <td>0.00</td>\n",
       "      <td>192.407646</td>\n",
       "      <td>0.0</td>\n",
       "      <td>438.528721</td>\n",
       "    </tr>\n",
       "  </tbody>\n",
       "</table>\n",
       "<p>5 rows × 41 columns</p>\n",
       "</div>"
      ],
      "text/plain": [
       "   FPF_TARGET  minEDUCATION  maxFOOD_AND_BEVERAGES  BILLS_UTILITIES_prop  \\\n",
       "0         0.0         33.26                 326.45                   0.0   \n",
       "1         0.0         10.00                 505.95                   0.0   \n",
       "2         0.0          0.00                 112.99                   0.0   \n",
       "3         0.0         20.00                 514.23                   0.0   \n",
       "4         0.0         56.45                 500.00                   0.0   \n",
       "\n",
       "   UNCATEGORIZED_prop  minHOME_IMPROVEMENT  RENT_mean  INSURANCE_mean  \\\n",
       "0            0.089842                 1.98        0.0       89.423571   \n",
       "1            0.246412               102.43        0.0      401.003718   \n",
       "2            0.001825                16.39        0.0       90.264091   \n",
       "3            0.016086                27.76        0.0      180.296410   \n",
       "4            0.140562               231.37        0.0      896.420000   \n",
       "\n",
       "      meanLOAN  meanCREDIT_CARD_PAYMENT  ...  minPAYCHECK  AUTOMOTIVE_slp  \\\n",
       "0   358.890312               311.720326  ...          0.0      -11.050222   \n",
       "1   928.079878               988.767167  ...          0.0      -51.708601   \n",
       "2  1713.210000               151.407725  ...          0.0       -8.617238   \n",
       "3   874.035714               224.630698  ...          0.0       21.904371   \n",
       "4  2318.397000               172.375000  ...          0.0       18.470070   \n",
       "\n",
       "   maxCREDIT_CARD_PAYMENT  medianUNCATEGORIZED   PETS_slp    LOAN_slp  \\\n",
       "0                 2371.71               37.000 -63.700000  -18.541469   \n",
       "1                 5729.39              200.000   0.000000  573.156813   \n",
       "2                 2500.00               19.765   0.000000  268.779643   \n",
       "3                 1500.00               21.720   2.510105  -34.430944   \n",
       "4                  391.00               20.000   0.974000  183.787500   \n",
       "\n",
       "   minMORTGAGE  meanEXTERNAL_TRANSFER  meanBILLS_UTILITIES    stdbalance  \n",
       "0      1345.91              79.478235                  0.0    125.590741  \n",
       "1         0.00             826.376709                  0.0  13215.093678  \n",
       "2         0.00             464.490968                  0.0  17278.364208  \n",
       "3         0.00             108.286707                  0.0   4514.989935  \n",
       "4         0.00             192.407646                  0.0    438.528721  \n",
       "\n",
       "[5 rows x 41 columns]"
      ]
     },
     "execution_count": 19,
     "metadata": {},
     "output_type": "execute_result"
    }
   ],
   "source": [
    "# Get SNN Data\n",
    "feature_matrix = pd.read_csv(f'{DATA_PATH}/processed/SNN_feature_matrix.csv')\n",
    "feature_matrix.head()"
   ]
  },
  {
   "cell_type": "code",
   "execution_count": 20,
   "metadata": {},
   "outputs": [],
   "source": [
    "# Train Test Split\n",
    "TEST_SIZE = 0.2\n",
    "X = feature_matrix.iloc[:,1:].to_numpy()\n",
    "y = feature_matrix.iloc[:,0].to_numpy()\n",
    "\n",
    "X_train, X_valid, X_test, y_train, y_valid, y_test = train_valid_test_split(\n",
    "    X, \n",
    "    y, \n",
    "    TEST_SIZE = TEST_SIZE, \n",
    "    random_state = 42\n",
    ")"
   ]
  },
  {
   "cell_type": "markdown",
   "metadata": {},
   "source": [
    "### Define Model"
   ]
  },
  {
   "cell_type": "code",
   "execution_count": 21,
   "metadata": {},
   "outputs": [],
   "source": [
    "# Define the model\n",
    "model = nn.Sequential(\n",
    "    nn.Linear(X.shape[1], 12),\n",
    "    nn.ReLU(),\n",
    "    nn.Linear(12, 24),\n",
    "    nn.ReLU(),\n",
    "    nn.Linear(24, 24),\n",
    "    nn.ReLU(),\n",
    "    nn.Linear(24, 12),\n",
    "    nn.ReLU(),\n",
    "    nn.Linear(12, 6),\n",
    "    nn.ReLU(),\n",
    "    nn.Linear(6, 1),\n",
    "    nn.Sigmoid()\n",
    ")"
   ]
  },
  {
   "cell_type": "code",
   "execution_count": 22,
   "metadata": {},
   "outputs": [],
   "source": [
    "# loss function and optimizer\n",
    "loss_fn = nn.BCELoss()\n",
    "optimizer = torch.optim.Adam(model.parameters(), lr=0.0001)"
   ]
  },
  {
   "cell_type": "markdown",
   "metadata": {},
   "source": [
    "### Training"
   ]
  },
  {
   "cell_type": "code",
   "execution_count": 23,
   "metadata": {},
   "outputs": [],
   "source": [
    "# training parameters\n",
    "n_epochs = 200   # number of epochs to run\n",
    "batch_size = 16  # size of each batch"
   ]
  },
  {
   "cell_type": "code",
   "execution_count": 24,
   "metadata": {},
   "outputs": [],
   "source": [
    "X_train_tensor = torch.tensor(X_train, dtype=torch.float32)\n",
    "y_train_tensor = torch.tensor(y_train, dtype=torch.float32).reshape(-1, 1)\n",
    "X_valid_tensor = torch.tensor(X_valid, dtype=torch.float32)\n",
    "y_valid_tensor = torch.tensor(y_valid, dtype=torch.float32).reshape(-1, 1)\n",
    "X_test_tensor = torch.tensor(X_test, dtype=torch.float32)\n",
    "y_test_tensor = torch.tensor(y_test, dtype=torch.float32).reshape(-1, 1)"
   ]
  },
  {
   "cell_type": "code",
   "execution_count": 25,
   "metadata": {},
   "outputs": [],
   "source": [
    "def train_SNN(\n",
    "        model, \n",
    "        loss_fn, \n",
    "        optimizer, \n",
    "        X_train_tensor, \n",
    "        y_train_tensor, \n",
    "        X_valid_tensor, \n",
    "        y_valid_tensor, \n",
    "        n_epochs=n_epochs,\n",
    "        batch_size=batch_size, \n",
    "        display=True):\n",
    "    \n",
    "    batch_start = torch.arange(0, X_train_tensor.shape[0], batch_size)\n",
    "    train_history = []\n",
    "    valid_history = []\n",
    "    best_valid = np.inf\n",
    "    \n",
    "    # training loop\n",
    "    bar = tqdm(range(n_epochs))\n",
    "    for epoch in bar:\n",
    "        model.train()\n",
    "        bar.set_description(f\"Epoch {epoch+1}\")\n",
    "        for start in batch_start:\n",
    "            # take a batch\n",
    "            X_batch = X_train_tensor[start:start+batch_size]\n",
    "            y_batch = y_train_tensor[start:start+batch_size]\n",
    "            # forward pass\n",
    "            y_pred = model(X_batch)\n",
    "            loss = loss_fn(y_pred, y_batch)\n",
    "            # backward pass\n",
    "            optimizer.zero_grad()\n",
    "            loss.backward()\n",
    "            # update weights\n",
    "            optimizer.step()\n",
    "        # evaluate accuracy at end of each epoch\n",
    "        model.eval()\n",
    "        y_pred_train = model(X_train_tensor)\n",
    "        y_pred_valid = model(X_valid_tensor)\n",
    "        train_loss = float(loss_fn(y_pred_train, y_train_tensor))\n",
    "        valid_loss = float(loss_fn(y_pred_valid, y_valid_tensor))\n",
    "        \n",
    "        bar.set_postfix(Train_MSE = float(train_loss), Valid_MSE = float(valid_loss))\n",
    "        train_history.append(train_loss)\n",
    "        valid_history.append(valid_loss)\n",
    "\n",
    "        if (valid_loss < best_valid):\n",
    "            torch.save(model.state_dict(), f'{MODEL_PATH}/nn_base_params.pt')\n",
    "\n",
    "    if display:\n",
    "        print(f\"Best Epoch: {np.argmin(valid_history)}\")\n",
    "        print(f\"Loss: {np.min(valid_history)}\")\n",
    "    model.load_state_dict(torch.load(f'{MODEL_PATH}/nn_base_params.pt'))\n",
    "    return model, train_history, valid_history"
   ]
  },
  {
   "cell_type": "code",
   "execution_count": 26,
   "metadata": {},
   "outputs": [
    {
     "name": "stderr",
     "output_type": "stream",
     "text": [
      "Epoch 200: 100%|██████████| 200/200 [00:14<00:00, 14.04it/s, Train_MSE=0.291, Valid_MSE=0.497]\n"
     ]
    }
   ],
   "source": [
    "model, train_history, valid_history = train_SNN(\n",
    "    model, \n",
    "    loss_fn,\n",
    "    optimizer,\n",
    "    X_train_tensor, \n",
    "    y_train_tensor, \n",
    "    X_valid_tensor, \n",
    "    y_valid_tensor, \n",
    "    n_epochs = 200,\n",
    "    batch_size = 64,\n",
    "    display=False\n",
    ")"
   ]
  },
  {
   "cell_type": "code",
   "execution_count": 27,
   "metadata": {},
   "outputs": [
    {
     "data": {
      "text/plain": [
       "[<matplotlib.lines.Line2D at 0x7fb62822bc70>]"
      ]
     },
     "execution_count": 27,
     "metadata": {},
     "output_type": "execute_result"
    },
    {
     "data": {
      "image/png": "[encoded data removed]",
      "text/plain": [
       "<Figure size 640x480 with 1 Axes>"
      ]
     },
     "metadata": {},
     "output_type": "display_data"
    }
   ],
   "source": [
    "plt.plot(train_history, 'gray')\n",
    "plt.plot(valid_history, 'r')"
   ]
  },
  {
   "cell_type": "markdown",
   "metadata": {},
   "source": [
    "### Evaluate Model"
   ]
  },
  {
   "cell_type": "code",
   "execution_count": 31,
   "metadata": {},
   "outputs": [],
   "source": [
    "# train_pred = model.predict(X_train)\n",
    "def standardize_output(arr):\n",
    "    return (1 / (1 + np.e ** (-1 * arr)))\n",
    "\n",
    "def find_best_prob(pred_prob, actual, display=True):\n",
    "    best_prob = 0\n",
    "    best_score = -np.inf\n",
    "    prob_interval = 0.05\n",
    "    with np.errstate(divide='ignore'):\n",
    "        if display:\n",
    "            print(\n",
    "                f\"i\\t\" + \n",
    "                f\"roc_auc\\t\" + \n",
    "                f\"acc\\t\" + \n",
    "                f\"conf_matrix\" + \n",
    "                \"\\n===================================================\"\n",
    "            )\n",
    "        for i in np.arange(0, 1.0, prob_interval):\n",
    "            pred = pred_prob > i\n",
    "            metrics = get_metrics(pred, actual, display=False)\n",
    "            \n",
    "            score = metrics[8]\n",
    "\n",
    "            if display:\n",
    "                print(\n",
    "                    f\"{i:.2f}\\t\" + \n",
    "                    f\"{score:0.3f}\\t\" + \n",
    "                    f\"{((metrics[0] + metrics[3]) / np.sum(metrics[:4]) * 100):.2f}\\t\" + \n",
    "                    f\"{metrics[:4]}\"\n",
    "                )\n",
    "\n",
    "            if (score > best_score):\n",
    "                best_score = score\n",
    "                best_prob = i\n",
    "    if display: print(f\"Best Threshold: {best_prob:0.2f}\")\n",
    "    return best_prob"
   ]
  },
  {
   "cell_type": "code",
   "execution_count": 32,
   "metadata": {},
   "outputs": [
    {
     "name": "stdout",
     "output_type": "stream",
     "text": [
      "i\troc_auc\tacc\tconf_matrix\n",
      "===================================================\n",
      "0.00\t0.537\t27.25\t[28, 347, 0, 102]\n",
      "0.05\t0.737\t65.41\t[222, 153, 12, 90]\n",
      "0.10\t0.744\t68.13\t[238, 137, 15, 87]\n",
      "0.15\t0.712\t68.76\t[251, 124, 25, 77]\n",
      "0.20\t0.711\t70.86\t[265, 110, 29, 73]\n",
      "0.25\t0.698\t72.75\t[281, 94, 36, 66]\n",
      "0.30\t0.654\t72.54\t[292, 83, 48, 54]\n",
      "0.35\t0.618\t72.54\t[302, 73, 58, 44]\n",
      "0.40\t0.606\t74.00\t[315, 60, 64, 38]\n",
      "0.45\t0.592\t75.05\t[326, 49, 70, 32]\n",
      "0.50\t0.576\t76.52\t[340, 35, 77, 25]\n",
      "0.55\t0.566\t78.41\t[355, 20, 83, 19]\n",
      "0.60\t0.552\t79.45\t[366, 9, 89, 13]\n",
      "0.65\t0.502\t78.41\t[373, 2, 101, 1]\n",
      "0.70\t0.505\t78.83\t[375, 0, 101, 1]\n",
      "0.75\t0.500\t78.62\t[375, 0, 102, 0]\n",
      "0.80\t0.500\t78.62\t[375, 0, 102, 0]\n",
      "0.85\t0.500\t78.62\t[375, 0, 102, 0]\n",
      "0.90\t0.500\t78.62\t[375, 0, 102, 0]\n",
      "0.95\t0.500\t78.62\t[375, 0, 102, 0]\n",
      "Best Threshold: 0.10\n"
     ]
    }
   ],
   "source": [
    "valid_pred_prob = model(X_valid_tensor).detach().numpy()[:,0]\n",
    "# valid_pred_prob = standardize_output(valid_pred_prob)\n",
    "threshold = find_best_prob(valid_pred_prob, y_valid)\n",
    "valid_pred = valid_pred_prob > threshold\n",
    "\n",
    "test_pred_prob = model(X_test_tensor).detach().numpy()[:,0]\n",
    "# test_pred_prob = standardize_output(test_pred_prob)\n",
    "test_pred = test_pred_prob > threshold"
   ]
  },
  {
   "cell_type": "code",
   "execution_count": 33,
   "metadata": {},
   "outputs": [
    {
     "name": "stdout",
     "output_type": "stream",
     "text": [
      "Validation:\n",
      "Accuracy: 0.6813\n",
      "tn:  238,  fp:  137,  fn:  15, tp:  87\n",
      "Precision:\t\t\t0.38839\n",
      "Recall:\t\t\t\t0.85294\n",
      "TPR:\t\t\t\t0.85294\n",
      "FPR:\t\t\t\t0.63467\n",
      "Positive likelihood ratio:\t1.34392\n",
      "Negative likelihood ratio:\t0.74409\n",
      "ROC-AUC Score:\t0.74380\n",
      "===========================\n",
      "Testing:\n",
      "Accuracy: 0.6829\n",
      "tn:  321,  fp:  177,  fn:  12, tp:  86\n",
      "Precision:\t\t\t0.32700\n",
      "Recall:\t\t\t\t0.87755\n",
      "TPR:\t\t\t\t0.87755\n",
      "FPR:\t\t\t\t0.64458\n",
      "Positive likelihood ratio:\t1.36143\n",
      "Negative likelihood ratio:\t0.73452\n",
      "ROC-AUC Score:\t0.76106\n"
     ]
    }
   ],
   "source": [
    "print(\"Validation:\")\n",
    "get_metrics(valid_pred, y_valid)\n",
    "print(\"===========================\")\n",
    "print(\"Testing:\")\n",
    "get_metrics(test_pred, y_test)"
   ]
  }
 ],
 "metadata": {
  "kernelspec": {
   "display_name": "Python 3 (ipykernel)",
   "language": "python",
   "name": "python3"
  },
  "language_info": {
   "codemirror_mode": {
    "name": "ipython",
    "version": 3
   },
   "file_extension": ".py",
   "mimetype": "text/x-python",
   "name": "python",
   "nbconvert_exporter": "python",
   "pygments_lexer": "ipython3",
   "version": "3.9.12"
  }
 },
 "nbformat": 4,
 "nbformat_minor": 4
}
