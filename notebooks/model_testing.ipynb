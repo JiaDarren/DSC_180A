{
 "cells": [
  {
   "cell_type": "markdown",
   "metadata": {},
   "source": [
    "# Import Libraries and Data"
   ]
  },
  {
   "cell_type": "code",
   "execution_count": 55,
   "metadata": {},
   "outputs": [],
   "source": [
    "import pandas as pd\n",
    "import matplotlib.pyplot as plt\n",
    "import re\n",
    "\n",
    "import numpy as np\n",
    "from functools import reduce\n",
    "from sklearn.metrics import confusion_matrix\n",
    "from sklearn.model_selection import train_test_split\n",
    "\n",
    "from sklearn import linear_model\n",
    "from sklearn import svm\n",
    "import torch\n",
    "import torch.nn as nn\n",
    "from tqdm import tqdm\n",
    "import warnings\n",
    "\n",
    "from scipy.stats import linregress\n",
    "from sklearn.preprocessing import StandardScaler\n",
    "from sklearn.metrics import roc_auc_score"
   ]
  },
  {
   "cell_type": "code",
   "execution_count": 56,
   "metadata": {},
   "outputs": [],
   "source": [
    "DATA_PATH = '../data'\n",
    "MODEL_PATH = '../src/models'"
   ]
  },
  {
   "cell_type": "code",
   "execution_count": 57,
   "metadata": {},
   "outputs": [
    {
     "data": {
      "text/html": [
       "<div>\n",
       "<style scoped>\n",
       "    .dataframe tbody tr th:only-of-type {\n",
       "        vertical-align: middle;\n",
       "    }\n",
       "\n",
       "    .dataframe tbody tr th {\n",
       "        vertical-align: top;\n",
       "    }\n",
       "\n",
       "    .dataframe thead th {\n",
       "        text-align: right;\n",
       "    }\n",
       "</style>\n",
       "<table border=\"1\" class=\"dataframe\">\n",
       "  <thead>\n",
       "    <tr style=\"text-align: right;\">\n",
       "      <th></th>\n",
       "      <th>FPF_TARGET</th>\n",
       "      <th>minbalance</th>\n",
       "      <th>maxbalance</th>\n",
       "      <th>stdbalance</th>\n",
       "      <th>total_balance</th>\n",
       "      <th>avg_monthly_spending</th>\n",
       "      <th>num_monthly_purchase</th>\n",
       "      <th>memo_clean</th>\n",
       "      <th>unsufficient_balance</th>\n",
       "      <th>account_count</th>\n",
       "      <th>...</th>\n",
       "      <th>OVERDRAFT_prop</th>\n",
       "      <th>PAYCHECK_prop</th>\n",
       "      <th>PETS_prop</th>\n",
       "      <th>RENT_prop</th>\n",
       "      <th>SELF_TRANSFER_prop</th>\n",
       "      <th>TAX_prop</th>\n",
       "      <th>TRAVEL_prop</th>\n",
       "      <th>UNCATEGORIZED_prop</th>\n",
       "      <th>Overdraft Count</th>\n",
       "      <th>cum_weighted_def_val</th>\n",
       "    </tr>\n",
       "  </thead>\n",
       "  <tbody>\n",
       "    <tr>\n",
       "      <th>0</th>\n",
       "      <td>0.0</td>\n",
       "      <td>0.52</td>\n",
       "      <td>253.01</td>\n",
       "      <td>125.590741</td>\n",
       "      <td>857.150161</td>\n",
       "      <td>5531.648836</td>\n",
       "      <td>79.521124</td>\n",
       "      <td>2.0</td>\n",
       "      <td>5</td>\n",
       "      <td>5</td>\n",
       "      <td>...</td>\n",
       "      <td>0.000000</td>\n",
       "      <td>0.0</td>\n",
       "      <td>0.000498</td>\n",
       "      <td>0.0</td>\n",
       "      <td>0.142151</td>\n",
       "      <td>0.000000</td>\n",
       "      <td>0.000830</td>\n",
       "      <td>0.089842</td>\n",
       "      <td>0.0</td>\n",
       "      <td>0.000000</td>\n",
       "    </tr>\n",
       "    <tr>\n",
       "      <th>1</th>\n",
       "      <td>0.0</td>\n",
       "      <td>6.11</td>\n",
       "      <td>31564.64</td>\n",
       "      <td>13215.093678</td>\n",
       "      <td>43016.714011</td>\n",
       "      <td>64529.528960</td>\n",
       "      <td>160.211203</td>\n",
       "      <td>0.0</td>\n",
       "      <td>4</td>\n",
       "      <td>4</td>\n",
       "      <td>...</td>\n",
       "      <td>0.000000</td>\n",
       "      <td>0.0</td>\n",
       "      <td>0.000000</td>\n",
       "      <td>0.0</td>\n",
       "      <td>0.016751</td>\n",
       "      <td>0.001093</td>\n",
       "      <td>0.004267</td>\n",
       "      <td>0.246412</td>\n",
       "      <td>0.0</td>\n",
       "      <td>0.000000</td>\n",
       "    </tr>\n",
       "    <tr>\n",
       "      <th>2</th>\n",
       "      <td>0.0</td>\n",
       "      <td>1092.82</td>\n",
       "      <td>31229.66</td>\n",
       "      <td>17278.364208</td>\n",
       "      <td>14667.666944</td>\n",
       "      <td>16997.552350</td>\n",
       "      <td>92.855324</td>\n",
       "      <td>0.0</td>\n",
       "      <td>3</td>\n",
       "      <td>3</td>\n",
       "      <td>...</td>\n",
       "      <td>0.000000</td>\n",
       "      <td>0.0</td>\n",
       "      <td>0.000000</td>\n",
       "      <td>0.0</td>\n",
       "      <td>0.261025</td>\n",
       "      <td>0.000000</td>\n",
       "      <td>0.002219</td>\n",
       "      <td>0.001825</td>\n",
       "      <td>0.0</td>\n",
       "      <td>0.000000</td>\n",
       "    </tr>\n",
       "    <tr>\n",
       "      <th>3</th>\n",
       "      <td>0.0</td>\n",
       "      <td>40.45</td>\n",
       "      <td>6425.61</td>\n",
       "      <td>4514.989935</td>\n",
       "      <td>-4188.933058</td>\n",
       "      <td>9778.291345</td>\n",
       "      <td>95.104454</td>\n",
       "      <td>0.0</td>\n",
       "      <td>2</td>\n",
       "      <td>2</td>\n",
       "      <td>...</td>\n",
       "      <td>0.000000</td>\n",
       "      <td>0.0</td>\n",
       "      <td>0.011885</td>\n",
       "      <td>0.0</td>\n",
       "      <td>0.000000</td>\n",
       "      <td>0.000000</td>\n",
       "      <td>0.000142</td>\n",
       "      <td>0.016086</td>\n",
       "      <td>0.0</td>\n",
       "      <td>0.000000</td>\n",
       "    </tr>\n",
       "    <tr>\n",
       "      <th>4</th>\n",
       "      <td>0.0</td>\n",
       "      <td>0.40</td>\n",
       "      <td>1009.99</td>\n",
       "      <td>438.528721</td>\n",
       "      <td>-2630.480387</td>\n",
       "      <td>16837.676865</td>\n",
       "      <td>119.566068</td>\n",
       "      <td>0.0</td>\n",
       "      <td>4</td>\n",
       "      <td>4</td>\n",
       "      <td>...</td>\n",
       "      <td>0.057938</td>\n",
       "      <td>0.0</td>\n",
       "      <td>0.001095</td>\n",
       "      <td>0.0</td>\n",
       "      <td>0.000000</td>\n",
       "      <td>0.000000</td>\n",
       "      <td>0.016481</td>\n",
       "      <td>0.140562</td>\n",
       "      <td>1.0</td>\n",
       "      <td>318.890041</td>\n",
       "    </tr>\n",
       "  </tbody>\n",
       "</table>\n",
       "<p>5 rows × 240 columns</p>\n",
       "</div>"
      ],
      "text/plain": [
       "   FPF_TARGET  minbalance  maxbalance    stdbalance  total_balance  \\\n",
       "0         0.0        0.52      253.01    125.590741     857.150161   \n",
       "1         0.0        6.11    31564.64  13215.093678   43016.714011   \n",
       "2         0.0     1092.82    31229.66  17278.364208   14667.666944   \n",
       "3         0.0       40.45     6425.61   4514.989935   -4188.933058   \n",
       "4         0.0        0.40     1009.99    438.528721   -2630.480387   \n",
       "\n",
       "   avg_monthly_spending  num_monthly_purchase  memo_clean  \\\n",
       "0           5531.648836             79.521124         2.0   \n",
       "1          64529.528960            160.211203         0.0   \n",
       "2          16997.552350             92.855324         0.0   \n",
       "3           9778.291345             95.104454         0.0   \n",
       "4          16837.676865            119.566068         0.0   \n",
       "\n",
       "   unsufficient_balance  account_count  ...  OVERDRAFT_prop  PAYCHECK_prop  \\\n",
       "0                     5              5  ...        0.000000            0.0   \n",
       "1                     4              4  ...        0.000000            0.0   \n",
       "2                     3              3  ...        0.000000            0.0   \n",
       "3                     2              2  ...        0.000000            0.0   \n",
       "4                     4              4  ...        0.057938            0.0   \n",
       "\n",
       "   PETS_prop  RENT_prop  SELF_TRANSFER_prop  TAX_prop  TRAVEL_prop  \\\n",
       "0   0.000498        0.0            0.142151  0.000000     0.000830   \n",
       "1   0.000000        0.0            0.016751  0.001093     0.004267   \n",
       "2   0.000000        0.0            0.261025  0.000000     0.002219   \n",
       "3   0.011885        0.0            0.000000  0.000000     0.000142   \n",
       "4   0.001095        0.0            0.000000  0.000000     0.016481   \n",
       "\n",
       "   UNCATEGORIZED_prop  Overdraft Count  cum_weighted_def_val  \n",
       "0            0.089842              0.0              0.000000  \n",
       "1            0.246412              0.0              0.000000  \n",
       "2            0.001825              0.0              0.000000  \n",
       "3            0.016086              0.0              0.000000  \n",
       "4            0.140562              1.0            318.890041  \n",
       "\n",
       "[5 rows x 240 columns]"
      ]
     },
     "execution_count": 57,
     "metadata": {},
     "output_type": "execute_result"
    }
   ],
   "source": [
    "feature_matrix = pd.read_csv(f'{DATA_PATH}/processed/feature_matrix.csv')\n",
    "feature_matrix.head()"
   ]
  },
  {
   "cell_type": "markdown",
   "metadata": {},
   "source": [
    "## Final Feature Matrix"
   ]
  },
  {
   "cell_type": "code",
   "execution_count": 58,
   "metadata": {},
   "outputs": [],
   "source": [
    "# Train Test Split\n",
    "TEST_SIZE = 0.2\n",
    "X = feature_matrix.iloc[:,1:].to_numpy()\n",
    "y = feature_matrix.iloc[:,0].to_numpy()\n",
    "\n",
    "X_train, X_test, y_train, y_test = train_test_split(\n",
    "    X, \n",
    "    y, \n",
    "    test_size = TEST_SIZE, \n",
    "    random_state=42\n",
    ")\n",
    "\n",
    "X_train, X_valid, y_train, y_valid = train_test_split(\n",
    "    X_train, \n",
    "    y_train, \n",
    "    test_size = TEST_SIZE, \n",
    "    random_state=42\n",
    ")"
   ]
  },
  {
   "cell_type": "markdown",
   "metadata": {},
   "source": [
    "# Prototype Model to Predict Default Risk"
   ]
  },
  {
   "cell_type": "markdown",
   "metadata": {},
   "source": [
    "### Training"
   ]
  },
  {
   "cell_type": "code",
   "execution_count": 59,
   "metadata": {},
   "outputs": [],
   "source": [
    "lin_model = linear_model.LogisticRegression()"
   ]
  },
  {
   "cell_type": "code",
   "execution_count": 60,
   "metadata": {},
   "outputs": [
    {
     "name": "stderr",
     "output_type": "stream",
     "text": [
      "/Users/darrenjiang/opt/anaconda3/envs/dsc180/lib/python3.9/site-packages/sklearn/linear_model/_logistic.py:460: ConvergenceWarning: lbfgs failed to converge (status=1):\n",
      "STOP: TOTAL NO. of ITERATIONS REACHED LIMIT.\n",
      "\n",
      "Increase the number of iterations (max_iter) or scale the data as shown in:\n",
      "    https://scikit-learn.org/stable/modules/preprocessing.html\n",
      "Please also refer to the documentation for alternative solver options:\n",
      "    https://scikit-learn.org/stable/modules/linear_model.html#logistic-regression\n",
      "  n_iter_i = _check_optimize_result(\n"
     ]
    },
    {
     "data": {
      "text/html": [
       "<style>#sk-container-id-4 {color: black;}#sk-container-id-4 pre{padding: 0;}#sk-container-id-4 div.sk-toggleable {background-color: white;}#sk-container-id-4 label.sk-toggleable__label {cursor: pointer;display: block;width: 100%;margin-bottom: 0;padding: 0.3em;box-sizing: border-box;text-align: center;}#sk-container-id-4 label.sk-toggleable__label-arrow:before {content: \"▸\";float: left;margin-right: 0.25em;color: #696969;}#sk-container-id-4 label.sk-toggleable__label-arrow:hover:before {color: black;}#sk-container-id-4 div.sk-estimator:hover label.sk-toggleable__label-arrow:before {color: black;}#sk-container-id-4 div.sk-toggleable__content {max-height: 0;max-width: 0;overflow: hidden;text-align: left;background-color: #f0f8ff;}#sk-container-id-4 div.sk-toggleable__content pre {margin: 0.2em;color: black;border-radius: 0.25em;background-color: #f0f8ff;}#sk-container-id-4 input.sk-toggleable__control:checked~div.sk-toggleable__content {max-height: 200px;max-width: 100%;overflow: auto;}#sk-container-id-4 input.sk-toggleable__control:checked~label.sk-toggleable__label-arrow:before {content: \"▾\";}#sk-container-id-4 div.sk-estimator input.sk-toggleable__control:checked~label.sk-toggleable__label {background-color: #d4ebff;}#sk-container-id-4 div.sk-label input.sk-toggleable__control:checked~label.sk-toggleable__label {background-color: #d4ebff;}#sk-container-id-4 input.sk-hidden--visually {border: 0;clip: rect(1px 1px 1px 1px);clip: rect(1px, 1px, 1px, 1px);height: 1px;margin: -1px;overflow: hidden;padding: 0;position: absolute;width: 1px;}#sk-container-id-4 div.sk-estimator {font-family: monospace;background-color: #f0f8ff;border: 1px dotted black;border-radius: 0.25em;box-sizing: border-box;margin-bottom: 0.5em;}#sk-container-id-4 div.sk-estimator:hover {background-color: #d4ebff;}#sk-container-id-4 div.sk-parallel-item::after {content: \"\";width: 100%;border-bottom: 1px solid gray;flex-grow: 1;}#sk-container-id-4 div.sk-label:hover label.sk-toggleable__label {background-color: #d4ebff;}#sk-container-id-4 div.sk-serial::before {content: \"\";position: absolute;border-left: 1px solid gray;box-sizing: border-box;top: 0;bottom: 0;left: 50%;z-index: 0;}#sk-container-id-4 div.sk-serial {display: flex;flex-direction: column;align-items: center;background-color: white;padding-right: 0.2em;padding-left: 0.2em;position: relative;}#sk-container-id-4 div.sk-item {position: relative;z-index: 1;}#sk-container-id-4 div.sk-parallel {display: flex;align-items: stretch;justify-content: center;background-color: white;position: relative;}#sk-container-id-4 div.sk-item::before, #sk-container-id-4 div.sk-parallel-item::before {content: \"\";position: absolute;border-left: 1px solid gray;box-sizing: border-box;top: 0;bottom: 0;left: 50%;z-index: -1;}#sk-container-id-4 div.sk-parallel-item {display: flex;flex-direction: column;z-index: 1;position: relative;background-color: white;}#sk-container-id-4 div.sk-parallel-item:first-child::after {align-self: flex-end;width: 50%;}#sk-container-id-4 div.sk-parallel-item:last-child::after {align-self: flex-start;width: 50%;}#sk-container-id-4 div.sk-parallel-item:only-child::after {width: 0;}#sk-container-id-4 div.sk-dashed-wrapped {border: 1px dashed gray;margin: 0 0.4em 0.5em 0.4em;box-sizing: border-box;padding-bottom: 0.4em;background-color: white;}#sk-container-id-4 div.sk-label label {font-family: monospace;font-weight: bold;display: inline-block;line-height: 1.2em;}#sk-container-id-4 div.sk-label-container {text-align: center;}#sk-container-id-4 div.sk-container {/* jupyter's `normalize.less` sets `[hidden] { display: none; }` but bootstrap.min.css set `[hidden] { display: none !important; }` so we also need the `!important` here to be able to override the default hidden behavior on the sphinx rendered scikit-learn.org. See: https://github.com/scikit-learn/scikit-learn/issues/21755 */display: inline-block !important;position: relative;}#sk-container-id-4 div.sk-text-repr-fallback {display: none;}</style><div id=\"sk-container-id-4\" class=\"sk-top-container\"><div class=\"sk-text-repr-fallback\"><pre>LogisticRegression()</pre><b>In a Jupyter environment, please rerun this cell to show the HTML representation or trust the notebook. <br />On GitHub, the HTML representation is unable to render, please try loading this page with nbviewer.org.</b></div><div class=\"sk-container\" hidden><div class=\"sk-item\"><div class=\"sk-estimator sk-toggleable\"><input class=\"sk-toggleable__control sk-hidden--visually\" id=\"sk-estimator-id-4\" type=\"checkbox\" checked><label for=\"sk-estimator-id-4\" class=\"sk-toggleable__label sk-toggleable__label-arrow\">LogisticRegression</label><div class=\"sk-toggleable__content\"><pre>LogisticRegression()</pre></div></div></div></div></div>"
      ],
      "text/plain": [
       "LogisticRegression()"
      ]
     },
     "execution_count": 60,
     "metadata": {},
     "output_type": "execute_result"
    }
   ],
   "source": [
    "lin_model.fit(X_train, y_train)"
   ]
  },
  {
   "cell_type": "markdown",
   "metadata": {},
   "source": [
    "### Evaluate Model"
   ]
  },
  {
   "cell_type": "code",
   "execution_count": 61,
   "metadata": {},
   "outputs": [],
   "source": [
    "valid_pred = lin_model.predict(X_valid)\n",
    "test_pred = lin_model.predict(X_test)"
   ]
  },
  {
   "cell_type": "code",
   "execution_count": 62,
   "metadata": {},
   "outputs": [],
   "source": [
    "def get_metrics(pred, actual, display=True):\n",
    "    cm = confusion_matrix(actual, pred)\n",
    "    tn, fp, fn, tp = cm.ravel()\n",
    "\n",
    "    TPR = tp / (tp + fn)\n",
    "    FPR = tn / (tn + fp)\n",
    "    roc_auc = roc_auc_score(actual, pred)\n",
    "    if (display):\n",
    "        print(f\"Accuracy: {np.mean(pred == actual):.4f}\")\n",
    "        print(f\"tn:  {tn},  fp:  {fp},  fn:  {fn}, tp:  {tp}\")\n",
    "        print(f\"Precision:\\t\\t\\t{tp / (tp + fp):.5f}\")\n",
    "        print(f\"Recall:\\t\\t\\t\\t{tp / (tp + fn):.5f}\")\n",
    "        print(f\"TPR:\\t\\t\\t\\t{TPR:.5f}\")\n",
    "        print(f\"FPR:\\t\\t\\t\\t{FPR:.5f}\")\n",
    "        print(f\"Positive likelihood ratio:\\t{TPR/FPR:.5f}\")\n",
    "        print(f\"Negative likelihood ratio:\\t{FPR/TPR:.5f}\")\n",
    "        print(f\"ROC-AUC Score:\\t{roc_auc:.5f}\")\n",
    "        return\n",
    "    return [tn, fp, fn, tp, TPR, FPR, TPR/FPR, FPR/TPR, roc_auc]"
   ]
  },
  {
   "cell_type": "code",
   "execution_count": 63,
   "metadata": {},
   "outputs": [
    {
     "name": "stdout",
     "output_type": "stream",
     "text": [
      "Validation:\n",
      "Accuracy: 0.7987\n",
      "tn:  354,  fp:  21,  fn:  75, tp:  27\n",
      "Precision:\t\t\t0.56250\n",
      "Recall:\t\t\t\t0.26471\n",
      "TPR:\t\t\t\t0.26471\n",
      "FPR:\t\t\t\t0.94400\n",
      "Positive likelihood ratio:\t0.28041\n",
      "Negative likelihood ratio:\t3.56622\n",
      "ROC-AUC Score:\t0.60435\n",
      "===========================\n",
      "Test:\n",
      "Accuracy: 0.8154\n",
      "tn:  462,  fp:  36,  fn:  74, tp:  24\n",
      "Precision:\t\t\t0.40000\n",
      "Recall:\t\t\t\t0.24490\n",
      "TPR:\t\t\t\t0.24490\n",
      "FPR:\t\t\t\t0.92771\n",
      "Positive likelihood ratio:\t0.26398\n",
      "Negative likelihood ratio:\t3.78815\n",
      "ROC-AUC Score:\t0.58630\n"
     ]
    }
   ],
   "source": [
    "print(\"Validation:\")\n",
    "get_metrics(valid_pred, y_valid)\n",
    "print(\"===========================\")\n",
    "print(\"Test:\")\n",
    "get_metrics(test_pred, y_test)"
   ]
  },
  {
   "cell_type": "markdown",
   "metadata": {},
   "source": [
    "# Prototype 2: Basic Sequential NN"
   ]
  },
  {
   "cell_type": "markdown",
   "metadata": {},
   "source": [
    "### Define Model"
   ]
  },
  {
   "cell_type": "code",
   "execution_count": 64,
   "metadata": {},
   "outputs": [],
   "source": [
    "# Define the model\n",
    "model = nn.Sequential(\n",
    "    nn.Linear(X.shape[1], 12),\n",
    "    nn.ReLU(),\n",
    "    nn.Linear(12, 24),\n",
    "    nn.ReLU(),\n",
    "    nn.Linear(24, 24),\n",
    "    nn.ReLU(),\n",
    "    nn.Linear(24, 12),\n",
    "    nn.ReLU(),\n",
    "    nn.Linear(12, 6),\n",
    "    nn.ReLU(),\n",
    "    nn.Linear(6, 1),\n",
    "    nn.Sigmoid()\n",
    ")"
   ]
  },
  {
   "cell_type": "code",
   "execution_count": 65,
   "metadata": {},
   "outputs": [],
   "source": [
    "# loss function and optimizer\n",
    "loss_fn = nn.BCELoss()\n",
    "optimizer = torch.optim.Adam(model.parameters(), lr=0.0001)"
   ]
  },
  {
   "cell_type": "markdown",
   "metadata": {},
   "source": [
    "### Training"
   ]
  },
  {
   "cell_type": "code",
   "execution_count": 66,
   "metadata": {},
   "outputs": [],
   "source": [
    "# training parameters\n",
    "n_epochs = 200   # number of epochs to run\n",
    "batch_size = 16  # size of each batch"
   ]
  },
  {
   "cell_type": "code",
   "execution_count": 67,
   "metadata": {},
   "outputs": [],
   "source": [
    "X_train_tensor = torch.tensor(X_train, dtype=torch.float32)\n",
    "y_train_tensor = torch.tensor(y_train, dtype=torch.float32).reshape(-1, 1)\n",
    "X_valid_tensor = torch.tensor(X_valid, dtype=torch.float32)\n",
    "y_valid_tensor = torch.tensor(y_valid, dtype=torch.float32).reshape(-1, 1)\n",
    "X_test_tensor = torch.tensor(X_test, dtype=torch.float32)\n",
    "y_test_tensor = torch.tensor(y_test, dtype=torch.float32).reshape(-1, 1)"
   ]
  },
  {
   "cell_type": "code",
   "execution_count": 73,
   "metadata": {},
   "outputs": [],
   "source": [
    "def train_SNN(\n",
    "        model, \n",
    "        loss_fn, \n",
    "        optimizer, \n",
    "        X_train_tensor, \n",
    "        y_train_tensor, \n",
    "        X_valid_tensor, \n",
    "        y_valid_tensor, \n",
    "        n_epochs=n_epochs,\n",
    "        batch_size=batch_size, \n",
    "        display=True):\n",
    "    \n",
    "    batch_start = torch.arange(0, X_train_tensor.shape[0], batch_size)\n",
    "    train_history = []\n",
    "    valid_history = []\n",
    "    best_valid = np.inf\n",
    "    \n",
    "    # training loop\n",
    "    bar = tqdm(range(n_epochs))\n",
    "    for epoch in bar:\n",
    "        model.train()\n",
    "        bar.set_description(f\"Epoch {epoch+1}\")\n",
    "        for start in batch_start:\n",
    "            # take a batch\n",
    "            X_batch = X_train_tensor[start:start+batch_size]\n",
    "            y_batch = y_train_tensor[start:start+batch_size]\n",
    "            # forward pass\n",
    "            y_pred = model(X_batch)\n",
    "            loss = loss_fn(y_pred, y_batch)\n",
    "            # backward pass\n",
    "            optimizer.zero_grad()\n",
    "            loss.backward()\n",
    "            # update weights\n",
    "            optimizer.step()\n",
    "        # evaluate accuracy at end of each epoch\n",
    "        model.eval()\n",
    "        y_pred_train = model(X_train_tensor)\n",
    "        y_pred_valid = model(X_valid_tensor)\n",
    "        train_loss = float(loss_fn(y_pred_train, y_train_tensor))\n",
    "        valid_loss = float(loss_fn(y_pred_valid, y_valid_tensor))\n",
    "        \n",
    "        bar.set_postfix(Train_MSE = float(train_loss), Valid_MSE = float(valid_loss))\n",
    "        train_history.append(train_loss)\n",
    "        valid_history.append(valid_loss)\n",
    "\n",
    "        if (valid_loss < best_valid):\n",
    "            torch.save(model.state_dict(), f'{MODEL_PATH}/nn_base_params.pt')\n",
    "\n",
    "    if display:\n",
    "        print(f\"Best Epoch: {np.argmin(valid_history)}\")\n",
    "        print(f\"Loss: {np.min(valid_history)}\")\n",
    "    model.load_state_dict(torch.load(f'{MODEL_PATH}/nn_base_params.pt'))\n",
    "    return model, train_history, valid_history"
   ]
  },
  {
   "cell_type": "code",
   "execution_count": null,
   "metadata": {},
   "outputs": [],
   "source": [
    "model, train_history, valid_history = train_SNN(\n",
    "    model, \n",
    "    loss_fn,\n",
    "    optimizer,\n",
    "    X_train_tensor, \n",
    "    y_train_tensor, \n",
    "    X_valid_tensor, \n",
    "    y_valid_tensor, \n",
    "    n_epochs = 200,\n",
    "    batch_size = 64,\n",
    "    display=False\n",
    ")"
   ]
  },
  {
   "cell_type": "code",
   "execution_count": 69,
   "metadata": {},
   "outputs": [
    {
     "data": {
      "text/plain": [
       "[<matplotlib.lines.Line2D at 0x7faafc8aa160>]"
      ]
     },
     "execution_count": 69,
     "metadata": {},
     "output_type": "execute_result"
    },
    {
     "data": {
      "image/png": "[encoded data removed]",
      "text/plain": [
       "<Figure size 640x480 with 1 Axes>"
      ]
     },
     "metadata": {},
     "output_type": "display_data"
    }
   ],
   "source": [
    "plt.plot(train_history, 'gray')\n",
    "plt.plot(valid_history, 'r')"
   ]
  },
  {
   "cell_type": "markdown",
   "metadata": {},
   "source": [
    "### Evaluate Model"
   ]
  },
  {
   "cell_type": "code",
   "execution_count": 70,
   "metadata": {},
   "outputs": [],
   "source": [
    "# train_pred = model.predict(X_train)\n",
    "def standardize_output(arr):\n",
    "    return (1 / (1 + np.e ** (-1 * arr)))\n",
    "\n",
    "def find_best_prob(pred_prob, actual, display=True):\n",
    "    best_prob = 0\n",
    "    best_ratio = np.inf\n",
    "    prob_interval = 0.05\n",
    "    with np.errstate(divide='ignore'):\n",
    "        if display:\n",
    "            print(\n",
    "                f\"i\\t\" + \n",
    "                f\"ratio\\t\" + \n",
    "                f\"roc_auc\\t\" + \n",
    "                f\"acc\\t\" + \n",
    "                f\"conf_matrix\" + \n",
    "                \"\\n===================================================\"\n",
    "            )\n",
    "        for i in np.arange(0, 1.0, prob_interval):\n",
    "            pred = pred_prob > i\n",
    "            metrics = get_metrics(pred, actual, display=False)\n",
    "            \n",
    "            PLR = metrics[6]\n",
    "            NLR = metrics[7]\n",
    "            roc_auc = metrics[8]\n",
    "            ratio = (PLR + NLR)/2\n",
    "\n",
    "            if display:\n",
    "                print(\n",
    "                    f\"{i:.2f}\\t\" + \n",
    "                    f\"{ratio:0.3f}\\t\" + \n",
    "                    f\"{roc_auc:0.3f}\\t\" + \n",
    "                    f\"{((metrics[0] + metrics[3]) / np.sum(metrics[:4]) * 100):.2f}\\t\" + \n",
    "                    f\"{metrics[:4]}\"\n",
    "                )\n",
    "\n",
    "            if (ratio < best_ratio):\n",
    "                best_ratio = ratio\n",
    "                best_prob = i\n",
    "    if display: print(f\"Best Threshold: {best_prob:0.2f}\")\n",
    "    return best_prob"
   ]
  },
  {
   "cell_type": "code",
   "execution_count": 71,
   "metadata": {},
   "outputs": [
    {
     "name": "stdout",
     "output_type": "stream",
     "text": [
      "i\tratio\troc_auc\tacc\tconf_matrix\n",
      "===================================================\n",
      "0.00\t1.654\t0.662\t47.38\t[125, 250, 1, 101]\n",
      "0.05\t1.077\t0.668\t74.21\t[299, 76, 47, 55]\n",
      "0.10\t1.113\t0.663\t75.05\t[306, 69, 50, 52]\n",
      "0.15\t1.126\t0.674\t76.73\t[314, 61, 50, 52]\n",
      "0.20\t1.150\t0.666\t76.73\t[316, 59, 52, 50]\n",
      "0.25\t1.196\t0.657\t76.94\t[320, 55, 55, 47]\n",
      "0.30\t1.230\t0.650\t76.94\t[322, 53, 57, 45]\n",
      "0.35\t1.239\t0.655\t77.78\t[326, 49, 57, 45]\n",
      "0.40\t1.260\t0.653\t77.99\t[328, 47, 58, 44]\n",
      "0.45\t1.260\t0.653\t77.99\t[328, 47, 58, 44]\n",
      "0.50\t1.278\t0.648\t77.78\t[328, 47, 59, 43]\n",
      "0.55\t1.281\t0.649\t77.99\t[329, 46, 59, 43]\n",
      "0.60\t1.377\t0.635\t77.99\t[333, 42, 63, 39]\n",
      "0.65\t1.428\t0.625\t77.57\t[333, 42, 65, 37]\n",
      "0.70\t1.497\t0.620\t77.78\t[336, 39, 67, 35]\n",
      "0.75\t1.580\t0.615\t78.20\t[340, 35, 69, 33]\n",
      "0.80\t1.675\t0.611\t78.62\t[344, 31, 71, 31]\n",
      "0.85\t1.896\t0.596\t78.62\t[348, 27, 75, 27]\n",
      "0.90\t2.218\t0.586\t79.25\t[355, 20, 79, 23]\n",
      "0.95\t3.559\t0.547\t78.20\t[359, 16, 88, 14]\n",
      "Best Threshold: 0.05\n"
     ]
    }
   ],
   "source": [
    "valid_pred_prob = model(X_valid_tensor).detach().numpy()[:,0]\n",
    "# valid_pred_prob = standardize_output(valid_pred_prob)\n",
    "threshold = find_best_prob(valid_pred_prob, y_valid)\n",
    "valid_pred = valid_pred_prob > threshold\n",
    "\n",
    "test_pred_prob = model(X_test_tensor).detach().numpy()[:,0]\n",
    "# test_pred_prob = standardize_output(test_pred_prob)\n",
    "test_pred = test_pred_prob > threshold"
   ]
  },
  {
   "cell_type": "code",
   "execution_count": 72,
   "metadata": {},
   "outputs": [
    {
     "name": "stdout",
     "output_type": "stream",
     "text": [
      "Validation:\n",
      "Accuracy: 0.7421\n",
      "tn:  299,  fp:  76,  fn:  47, tp:  55\n",
      "Precision:\t\t\t0.41985\n",
      "Recall:\t\t\t\t0.53922\n",
      "TPR:\t\t\t\t0.53922\n",
      "FPR:\t\t\t\t0.79733\n",
      "Positive likelihood ratio:\t0.67627\n",
      "Negative likelihood ratio:\t1.47869\n",
      "ROC-AUC Score:\t0.66827\n",
      "===========================\n",
      "Testing:\n",
      "Accuracy: 0.7601\n",
      "tn:  397,  fp:  101,  fn:  42, tp:  56\n",
      "Precision:\t\t\t0.35669\n",
      "Recall:\t\t\t\t0.57143\n",
      "TPR:\t\t\t\t0.57143\n",
      "FPR:\t\t\t\t0.79719\n",
      "Positive likelihood ratio:\t0.71680\n",
      "Negative likelihood ratio:\t1.39508\n",
      "ROC-AUC Score:\t0.68431\n"
     ]
    }
   ],
   "source": [
    "print(\"Validation:\")\n",
    "get_metrics(valid_pred, y_valid)\n",
    "print(\"===========================\")\n",
    "print(\"Testing:\")\n",
    "get_metrics(test_pred, y_test)"
   ]
  }
 ],
 "metadata": {
  "kernelspec": {
   "display_name": "Python 3 (ipykernel)",
   "language": "python",
   "name": "python3"
  },
  "language_info": {
   "codemirror_mode": {
    "name": "ipython",
    "version": 3
   },
   "file_extension": ".py",
   "mimetype": "text/x-python",
   "name": "python",
   "nbconvert_exporter": "python",
   "pygments_lexer": "ipython3",
   "version": "3.9.12"
  }
 },
 "nbformat": 4,
 "nbformat_minor": 4
}
